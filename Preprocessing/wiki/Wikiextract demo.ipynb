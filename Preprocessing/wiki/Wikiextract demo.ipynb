{
 "cells": [
  {
   "cell_type": "code",
   "execution_count": 2,
   "metadata": {},
   "outputs": [
    {
     "name": "stdout",
     "output_type": "stream",
     "text": [
      "INFO: Pandarallel will run on 48 workers.\n",
      "INFO: Pandarallel will use Memory file system to transfer data between the main process and workers.\n"
     ]
    }
   ],
   "source": [
    "from wikiextractor.main import main\n",
    "import wget\n",
    "import sys\n",
    "import json\n",
    "import pandas as pd\n",
    "pd.set_option(\"max_colwidth\", 600)\n",
    "import ast\n",
    "from bs4 import BeautifulSoup\n",
    "import re\n",
    "import requests\n",
    "import time\n",
    "import numpy as np\n",
    "import zipfile\n",
    "import os\n",
    "import html\n",
    "import re\n",
    "import glob\n",
    "import requests\n",
    "import json\n",
    "import tarfile\n",
    "from pandarallel import pandarallel\n",
    "pandarallel.initialize(progress_bar=False)\n",
    "\n",
    "\n",
    "def get_csv_size(csv_name):\n",
    "    get_size = os.path.getsize (os.getcwd() + '/'+csv_name)\n",
    "    mb_size = get_size/(1024*1024)\n",
    "    mb_size = round(mb_size,1)\n",
    "    return mb_size\n",
    "\n",
    "\n",
    "def split_large_file(filename, source, output,size=None):\n",
    "    df1=pd.read_csv(filename,header=[0])\n",
    "    if size ==None:\n",
    "        size = get_csv_size(filename)\n",
    "    num_chunks = size//20\n",
    "    if num_chunks == 0:\n",
    "        num_chunks =1\n",
    "        \n",
    "    df_all = np.array_split(df1, num_chunks)\n",
    "\n",
    "    for idx, file in enumerate(df_all):\n",
    "        file.to_csv('%s/%s_%03d.csv'%(output, source, idx), index=False)  \n",
    "        \n",
    "\n",
    "def download_bz2(url):\n",
    "    filename = url.split('/')[-1]\n",
    "    path = '../../../data/%s'%filename\n",
    "    print(filename)\n",
    "    \n",
    "    if os.path.exists(path):\n",
    "        pass\n",
    "    else:\n",
    "        print('download...', filename)\n",
    "        real_url = 'https://dumps.wikimedia.org/eswiki/latest/'+ url\n",
    "        filename = wget.download(real_url, out= path)\n",
    "\n",
    "#create this bar_progress method which is invoked automatically from wget\n",
    "def bar_progress(current, total, width=80):\n",
    "  progress_message = \"Downloading: %d%% [%d / %d] bytes\" % (current / total * 100, current, total)\n",
    "  # Don't use print() as it will print in new line every time.\n",
    "  sys.stdout.write(\"\\r\" + progress_message)\n",
    "  sys.stdout.flush()"
   ]
  },
  {
   "cell_type": "code",
   "execution_count": 2,
   "metadata": {},
   "outputs": [
    {
     "data": {
      "text/html": [
       "<div>\n",
       "<style scoped>\n",
       "    .dataframe tbody tr th:only-of-type {\n",
       "        vertical-align: middle;\n",
       "    }\n",
       "\n",
       "    .dataframe tbody tr th {\n",
       "        vertical-align: top;\n",
       "    }\n",
       "\n",
       "    .dataframe thead th {\n",
       "        text-align: right;\n",
       "    }\n",
       "</style>\n",
       "<table border=\"1\" class=\"dataframe\">\n",
       "  <thead>\n",
       "    <tr style=\"text-align: right;\">\n",
       "      <th></th>\n",
       "      <th>name</th>\n",
       "      <th>url</th>\n",
       "    </tr>\n",
       "  </thead>\n",
       "  <tbody>\n",
       "    <tr>\n",
       "      <th>0</th>\n",
       "      <td>eswiki-latest-pages-articles-multistream.xml.bz2</td>\n",
       "      <td>eswiki-latest-pages-articles-multistream.xml.bz2</td>\n",
       "    </tr>\n",
       "    <tr>\n",
       "      <th>1</th>\n",
       "      <td>eswiki-latest-pages-articles.xml.bz2</td>\n",
       "      <td>eswiki-latest-pages-articles.xml.bz2</td>\n",
       "    </tr>\n",
       "    <tr>\n",
       "      <th>2</th>\n",
       "      <td>eswiki-latest-pages-articles.xml.bz2-rss.xml</td>\n",
       "      <td>eswiki-latest-pages-articles.xml.bz2-rss.xml</td>\n",
       "    </tr>\n",
       "    <tr>\n",
       "      <th>3</th>\n",
       "      <td>eswiki-latest-pages-articles1.xml-p1p159400.bz2</td>\n",
       "      <td>eswiki-latest-pages-articles1.xml-p1p159400.bz2</td>\n",
       "    </tr>\n",
       "    <tr>\n",
       "      <th>4</th>\n",
       "      <td>eswiki-latest-pages-articles1.xml-p1p159400.bz2..&gt;</td>\n",
       "      <td>eswiki-latest-pages-articles1.xml-p1p159400.bz2-rss.xml</td>\n",
       "    </tr>\n",
       "    <tr>\n",
       "      <th>5</th>\n",
       "      <td>eswiki-latest-pages-meta-current.xml.bz2</td>\n",
       "      <td>eswiki-latest-pages-meta-current.xml.bz2</td>\n",
       "    </tr>\n",
       "    <tr>\n",
       "      <th>6</th>\n",
       "      <td>eswiki-latest-pages-meta-current.xml.bz2-rss.xml</td>\n",
       "      <td>eswiki-latest-pages-meta-current.xml.bz2-rss.xml</td>\n",
       "    </tr>\n",
       "    <tr>\n",
       "      <th>7</th>\n",
       "      <td>eswiki-latest-pages-meta-history1.xml-p1p1016.bz2</td>\n",
       "      <td>eswiki-latest-pages-meta-history1.xml-p1p1016.bz2</td>\n",
       "    </tr>\n",
       "  </tbody>\n",
       "</table>\n",
       "</div>"
      ],
      "text/plain": [
       "                                                 name  \\\n",
       "0    eswiki-latest-pages-articles-multistream.xml.bz2   \n",
       "1                eswiki-latest-pages-articles.xml.bz2   \n",
       "2        eswiki-latest-pages-articles.xml.bz2-rss.xml   \n",
       "3     eswiki-latest-pages-articles1.xml-p1p159400.bz2   \n",
       "4  eswiki-latest-pages-articles1.xml-p1p159400.bz2..>   \n",
       "5            eswiki-latest-pages-meta-current.xml.bz2   \n",
       "6    eswiki-latest-pages-meta-current.xml.bz2-rss.xml   \n",
       "7   eswiki-latest-pages-meta-history1.xml-p1p1016.bz2   \n",
       "\n",
       "                                                       url  \n",
       "0         eswiki-latest-pages-articles-multistream.xml.bz2  \n",
       "1                     eswiki-latest-pages-articles.xml.bz2  \n",
       "2             eswiki-latest-pages-articles.xml.bz2-rss.xml  \n",
       "3          eswiki-latest-pages-articles1.xml-p1p159400.bz2  \n",
       "4  eswiki-latest-pages-articles1.xml-p1p159400.bz2-rss.xml  \n",
       "5                 eswiki-latest-pages-meta-current.xml.bz2  \n",
       "6         eswiki-latest-pages-meta-current.xml.bz2-rss.xml  \n",
       "7        eswiki-latest-pages-meta-history1.xml-p1p1016.bz2  "
      ]
     },
     "execution_count": 2,
     "metadata": {},
     "output_type": "execute_result"
    }
   ],
   "source": [
    "coverpage = requests.get(\"https://dumps.wikimedia.org/eswiki/latest/\").content\n",
    "soup = BeautifulSoup(coverpage, 'html.parser')\n",
    "links = soup.find_all('a', text =\\\n",
    "                      re.compile('.*bz2'), href=True)\n",
    "df = pd.json_normalize([{'name': i.text,'url': i['href']} for i in links])\n",
    "df = df[~df.duplicated(subset='url')]\n",
    "df\n"
   ]
  },
  {
   "cell_type": "code",
   "execution_count": 3,
   "metadata": {},
   "outputs": [
    {
     "name": "stdout",
     "output_type": "stream",
     "text": [
      "Downloading: 72% [3903684608 / 5398409626] bytess"
     ]
    },
    {
     "name": "stderr",
     "output_type": "stream",
     "text": [
      "IOPub message rate exceeded.\n",
      "The notebook server will temporarily stop sending output\n",
      "to the client in order to avoid crashing it.\n",
      "To change this limit, set the config variable\n",
      "`--NotebookApp.iopub_msg_rate_limit`.\n",
      "\n",
      "Current values:\n",
      "NotebookApp.iopub_msg_rate_limit=1000.0 (msgs/sec)\n",
      "NotebookApp.rate_limit_window=3.0 (secs)\n",
      "\n"
     ]
    },
    {
     "name": "stdout",
     "output_type": "stream",
     "text": [
      "Downloading: 73% [3990421504 / 5398409626] bytes"
     ]
    },
    {
     "name": "stderr",
     "output_type": "stream",
     "text": [
      "IOPub message rate exceeded.\n",
      "The notebook server will temporarily stop sending output\n",
      "to the client in order to avoid crashing it.\n",
      "To change this limit, set the config variable\n",
      "`--NotebookApp.iopub_msg_rate_limit`.\n",
      "\n",
      "Current values:\n",
      "NotebookApp.iopub_msg_rate_limit=1000.0 (msgs/sec)\n",
      "NotebookApp.rate_limit_window=3.0 (secs)\n",
      "\n"
     ]
    },
    {
     "name": "stdout",
     "output_type": "stream",
     "text": [
      "Downloading: 75% [4072972288 / 5398409626] bytes"
     ]
    },
    {
     "name": "stderr",
     "output_type": "stream",
     "text": [
      "IOPub message rate exceeded.\n",
      "The notebook server will temporarily stop sending output\n",
      "to the client in order to avoid crashing it.\n",
      "To change this limit, set the config variable\n",
      "`--NotebookApp.iopub_msg_rate_limit`.\n",
      "\n",
      "Current values:\n",
      "NotebookApp.iopub_msg_rate_limit=1000.0 (msgs/sec)\n",
      "NotebookApp.rate_limit_window=3.0 (secs)\n",
      "\n"
     ]
    },
    {
     "name": "stdout",
     "output_type": "stream",
     "text": [
      "Downloading: 77% [4158373888 / 5398409626] bytes"
     ]
    },
    {
     "name": "stderr",
     "output_type": "stream",
     "text": [
      "IOPub message rate exceeded.\n",
      "The notebook server will temporarily stop sending output\n",
      "to the client in order to avoid crashing it.\n",
      "To change this limit, set the config variable\n",
      "`--NotebookApp.iopub_msg_rate_limit`.\n",
      "\n",
      "Current values:\n",
      "NotebookApp.iopub_msg_rate_limit=1000.0 (msgs/sec)\n",
      "NotebookApp.rate_limit_window=3.0 (secs)\n",
      "\n"
     ]
    },
    {
     "name": "stdout",
     "output_type": "stream",
     "text": [
      "Downloading: 78% [4241121280 / 5398409626] bytes"
     ]
    },
    {
     "name": "stderr",
     "output_type": "stream",
     "text": [
      "IOPub message rate exceeded.\n",
      "The notebook server will temporarily stop sending output\n",
      "to the client in order to avoid crashing it.\n",
      "To change this limit, set the config variable\n",
      "`--NotebookApp.iopub_msg_rate_limit`.\n",
      "\n",
      "Current values:\n",
      "NotebookApp.iopub_msg_rate_limit=1000.0 (msgs/sec)\n",
      "NotebookApp.rate_limit_window=3.0 (secs)\n",
      "\n"
     ]
    },
    {
     "name": "stdout",
     "output_type": "stream",
     "text": [
      "Downloading: 80% [4327292928 / 5398409626] bytes"
     ]
    },
    {
     "name": "stderr",
     "output_type": "stream",
     "text": [
      "IOPub message rate exceeded.\n",
      "The notebook server will temporarily stop sending output\n",
      "to the client in order to avoid crashing it.\n",
      "To change this limit, set the config variable\n",
      "`--NotebookApp.iopub_msg_rate_limit`.\n",
      "\n",
      "Current values:\n",
      "NotebookApp.iopub_msg_rate_limit=1000.0 (msgs/sec)\n",
      "NotebookApp.rate_limit_window=3.0 (secs)\n",
      "\n"
     ]
    },
    {
     "name": "stdout",
     "output_type": "stream",
     "text": [
      "Downloading: 81% [4411580416 / 5398409626] bytes"
     ]
    },
    {
     "name": "stderr",
     "output_type": "stream",
     "text": [
      "IOPub message rate exceeded.\n",
      "The notebook server will temporarily stop sending output\n",
      "to the client in order to avoid crashing it.\n",
      "To change this limit, set the config variable\n",
      "`--NotebookApp.iopub_msg_rate_limit`.\n",
      "\n",
      "Current values:\n",
      "NotebookApp.iopub_msg_rate_limit=1000.0 (msgs/sec)\n",
      "NotebookApp.rate_limit_window=3.0 (secs)\n",
      "\n"
     ]
    },
    {
     "name": "stdout",
     "output_type": "stream",
     "text": [
      "Downloading: 83% [4492197888 / 5398409626] bytes"
     ]
    },
    {
     "name": "stderr",
     "output_type": "stream",
     "text": [
      "IOPub message rate exceeded.\n",
      "The notebook server will temporarily stop sending output\n",
      "to the client in order to avoid crashing it.\n",
      "To change this limit, set the config variable\n",
      "`--NotebookApp.iopub_msg_rate_limit`.\n",
      "\n",
      "Current values:\n",
      "NotebookApp.iopub_msg_rate_limit=1000.0 (msgs/sec)\n",
      "NotebookApp.rate_limit_window=3.0 (secs)\n",
      "\n"
     ]
    },
    {
     "name": "stdout",
     "output_type": "stream",
     "text": [
      "Downloading: 84% [4576845824 / 5398409626] bytes"
     ]
    },
    {
     "name": "stderr",
     "output_type": "stream",
     "text": [
      "IOPub message rate exceeded.\n",
      "The notebook server will temporarily stop sending output\n",
      "to the client in order to avoid crashing it.\n",
      "To change this limit, set the config variable\n",
      "`--NotebookApp.iopub_msg_rate_limit`.\n",
      "\n",
      "Current values:\n",
      "NotebookApp.iopub_msg_rate_limit=1000.0 (msgs/sec)\n",
      "NotebookApp.rate_limit_window=3.0 (secs)\n",
      "\n"
     ]
    },
    {
     "name": "stdout",
     "output_type": "stream",
     "text": [
      "Downloading: 86% [4660469760 / 5398409626] bytes"
     ]
    },
    {
     "name": "stderr",
     "output_type": "stream",
     "text": [
      "IOPub message rate exceeded.\n",
      "The notebook server will temporarily stop sending output\n",
      "to the client in order to avoid crashing it.\n",
      "To change this limit, set the config variable\n",
      "`--NotebookApp.iopub_msg_rate_limit`.\n",
      "\n",
      "Current values:\n",
      "NotebookApp.iopub_msg_rate_limit=1000.0 (msgs/sec)\n",
      "NotebookApp.rate_limit_window=3.0 (secs)\n",
      "\n"
     ]
    },
    {
     "name": "stdout",
     "output_type": "stream",
     "text": [
      "Downloading: 87% [4745314304 / 5398409626] bytes"
     ]
    },
    {
     "name": "stderr",
     "output_type": "stream",
     "text": [
      "IOPub message rate exceeded.\n",
      "The notebook server will temporarily stop sending output\n",
      "to the client in order to avoid crashing it.\n",
      "To change this limit, set the config variable\n",
      "`--NotebookApp.iopub_msg_rate_limit`.\n",
      "\n",
      "Current values:\n",
      "NotebookApp.iopub_msg_rate_limit=1000.0 (msgs/sec)\n",
      "NotebookApp.rate_limit_window=3.0 (secs)\n",
      "\n"
     ]
    },
    {
     "name": "stdout",
     "output_type": "stream",
     "text": [
      "Downloading: 89% [4813258752 / 5398409626] bytes"
     ]
    },
    {
     "name": "stderr",
     "output_type": "stream",
     "text": [
      "IOPub message rate exceeded.\n",
      "The notebook server will temporarily stop sending output\n",
      "to the client in order to avoid crashing it.\n",
      "To change this limit, set the config variable\n",
      "`--NotebookApp.iopub_msg_rate_limit`.\n",
      "\n",
      "Current values:\n",
      "NotebookApp.iopub_msg_rate_limit=1000.0 (msgs/sec)\n",
      "NotebookApp.rate_limit_window=3.0 (secs)\n",
      "\n"
     ]
    },
    {
     "name": "stdout",
     "output_type": "stream",
     "text": [
      "Downloading: 90% [4864090112 / 5398409626] bytes"
     ]
    },
    {
     "name": "stderr",
     "output_type": "stream",
     "text": [
      "IOPub message rate exceeded.\n",
      "The notebook server will temporarily stop sending output\n",
      "to the client in order to avoid crashing it.\n",
      "To change this limit, set the config variable\n",
      "`--NotebookApp.iopub_msg_rate_limit`.\n",
      "\n",
      "Current values:\n",
      "NotebookApp.iopub_msg_rate_limit=1000.0 (msgs/sec)\n",
      "NotebookApp.rate_limit_window=3.0 (secs)\n",
      "\n"
     ]
    },
    {
     "name": "stdout",
     "output_type": "stream",
     "text": [
      "Downloading: 92% [5002108928 / 5398409626] bytes"
     ]
    },
    {
     "name": "stderr",
     "output_type": "stream",
     "text": [
      "IOPub message rate exceeded.\n",
      "The notebook server will temporarily stop sending output\n",
      "to the client in order to avoid crashing it.\n",
      "To change this limit, set the config variable\n",
      "`--NotebookApp.iopub_msg_rate_limit`.\n",
      "\n",
      "Current values:\n",
      "NotebookApp.iopub_msg_rate_limit=1000.0 (msgs/sec)\n",
      "NotebookApp.rate_limit_window=3.0 (secs)\n",
      "\n"
     ]
    },
    {
     "name": "stdout",
     "output_type": "stream",
     "text": [
      "Downloading: 100% [2821198555 / 2821198555] bytes"
     ]
    }
   ],
   "source": [
    "path = '../../../data/Spanish_dump'\n",
    "for url in df.url:\n",
    "    if not os.path.exists(path+'/'+url):\n",
    "        wget.download(\"https://dumps.wikimedia.org/eswiki/latest/%s\"%url, out= path, bar=bar_progress)"
   ]
  },
  {
   "cell_type": "code",
   "execution_count": null,
   "metadata": {},
   "outputs": [
    {
     "name": "stdout",
     "output_type": "stream",
     "text": [
      "------  eswiki-latest-pages-articles-multistream.xml.bz2  -------\n"
     ]
    },
    {
     "name": "stderr",
     "output_type": "stream",
     "text": [
      "INFO: Preprocessing '../../../data/Spanish_dump/eswiki-latest-pages-articles-multistream.xml.bz2' to collect template definitions: this may take some time.\n",
      "INFO: Preprocessed 100000 pages\n",
      "INFO: Preprocessed 200000 pages\n",
      "INFO: Preprocessed 300000 pages\n",
      "INFO: Preprocessed 400000 pages\n",
      "INFO: Preprocessed 500000 pages\n",
      "INFO: Preprocessed 600000 pages\n",
      "INFO: Preprocessed 700000 pages\n",
      "INFO: Preprocessed 800000 pages\n",
      "INFO: Preprocessed 900000 pages\n",
      "INFO: Preprocessed 1000000 pages\n",
      "INFO: Preprocessed 1100000 pages\n",
      "INFO: Preprocessed 1200000 pages\n",
      "INFO: Preprocessed 1300000 pages\n",
      "INFO: Preprocessed 1400000 pages\n",
      "INFO: Preprocessed 1500000 pages\n",
      "INFO: Preprocessed 1600000 pages\n",
      "INFO: Preprocessed 1700000 pages\n",
      "INFO: Preprocessed 1800000 pages\n",
      "INFO: Preprocessed 1900000 pages\n",
      "INFO: Preprocessed 2000000 pages\n",
      "INFO: Preprocessed 2100000 pages\n",
      "INFO: Preprocessed 2200000 pages\n",
      "INFO: Preprocessed 2300000 pages\n",
      "INFO: Preprocessed 2400000 pages\n",
      "INFO: Preprocessed 2500000 pages\n",
      "INFO: Preprocessed 2600000 pages\n",
      "INFO: Preprocessed 2700000 pages\n",
      "INFO: Preprocessed 2800000 pages\n",
      "INFO: Preprocessed 2900000 pages\n",
      "INFO: Preprocessed 3000000 pages\n",
      "INFO: Preprocessed 3100000 pages\n",
      "INFO: Preprocessed 3200000 pages\n",
      "INFO: Preprocessed 3300000 pages\n",
      "INFO: Preprocessed 3400000 pages\n",
      "INFO: Preprocessed 3500000 pages\n",
      "INFO: Preprocessed 3600000 pages\n",
      "INFO: Preprocessed 3700000 pages\n",
      "INFO: Preprocessed 3800000 pages\n",
      "INFO: Preprocessed 3900000 pages\n",
      "INFO: Preprocessed 4000000 pages\n",
      "INFO: Preprocessed 4100000 pages\n",
      "INFO: Preprocessed 4200000 pages\n",
      "INFO: Loaded 31528 templates in 826.6s\n",
      "INFO: Starting page extraction from ../../../data/Spanish_dump/eswiki-latest-pages-articles-multistream.xml.bz2.\n",
      "INFO: Using 95 extract processes.\n",
      "INFO: Extracted 100000 articles (1469.3 art/s)\n",
      "INFO: Extracted 200000 articles (2491.4 art/s)\n",
      "INFO: Extracted 300000 articles (3280.7 art/s)\n",
      "INFO: Extracted 400000 articles (3517.6 art/s)\n",
      "INFO: Extracted 500000 articles (3577.5 art/s)\n",
      "INFO: Extracted 600000 articles (3753.8 art/s)\n",
      "INFO: Extracted 700000 articles (5129.1 art/s)\n",
      "INFO: Extracted 800000 articles (7945.1 art/s)\n",
      "INFO: Extracted 900000 articles (5671.9 art/s)\n"
     ]
    }
   ],
   "source": [
    "for name in df.name:\n",
    "    print('------  %s  -------'%name)\n",
    "    main(input = '../../../data/Spanish_dump/%s'%name, output = 'output/%s'%name)"
   ]
  },
  {
   "cell_type": "markdown",
   "metadata": {},
   "source": [
    "Wikiextractor -> Step 1"
   ]
  },
  {
   "cell_type": "code",
   "execution_count": 3,
   "metadata": {},
   "outputs": [
    {
     "data": {
      "text/html": [
       "<div>\n",
       "<style scoped>\n",
       "    .dataframe tbody tr th:only-of-type {\n",
       "        vertical-align: middle;\n",
       "    }\n",
       "\n",
       "    .dataframe tbody tr th {\n",
       "        vertical-align: top;\n",
       "    }\n",
       "\n",
       "    .dataframe thead th {\n",
       "        text-align: right;\n",
       "    }\n",
       "</style>\n",
       "<table border=\"1\" class=\"dataframe\">\n",
       "  <thead>\n",
       "    <tr style=\"text-align: right;\">\n",
       "      <th></th>\n",
       "      <th>path</th>\n",
       "    </tr>\n",
       "  </thead>\n",
       "  <tbody>\n",
       "    <tr>\n",
       "      <th>0</th>\n",
       "      <td>./output/eswiki-latest-pages-articles-multistream.xml.bz2/AA/wiki_00</td>\n",
       "    </tr>\n",
       "    <tr>\n",
       "      <th>1</th>\n",
       "      <td>./output/eswiki-latest-pages-articles-multistream.xml.bz2/AA/wiki_01</td>\n",
       "    </tr>\n",
       "    <tr>\n",
       "      <th>2</th>\n",
       "      <td>./output/eswiki-latest-pages-articles-multistream.xml.bz2/AA/wiki_02</td>\n",
       "    </tr>\n",
       "    <tr>\n",
       "      <th>3</th>\n",
       "      <td>./output/eswiki-latest-pages-articles-multistream.xml.bz2/AA/wiki_03</td>\n",
       "    </tr>\n",
       "    <tr>\n",
       "      <th>4</th>\n",
       "      <td>./output/eswiki-latest-pages-articles-multistream.xml.bz2/AA/wiki_04</td>\n",
       "    </tr>\n",
       "    <tr>\n",
       "      <th>5</th>\n",
       "      <td>./output/eswiki-latest-pages-articles-multistream.xml.bz2/AA/wiki_05</td>\n",
       "    </tr>\n",
       "    <tr>\n",
       "      <th>6</th>\n",
       "      <td>./output/eswiki-latest-pages-articles-multistream.xml.bz2/AA/wiki_06</td>\n",
       "    </tr>\n",
       "    <tr>\n",
       "      <th>7</th>\n",
       "      <td>./output/eswiki-latest-pages-articles-multistream.xml.bz2/AA/wiki_07</td>\n",
       "    </tr>\n",
       "    <tr>\n",
       "      <th>8</th>\n",
       "      <td>./output/eswiki-latest-pages-articles-multistream.xml.bz2/AA/wiki_08</td>\n",
       "    </tr>\n",
       "    <tr>\n",
       "      <th>9</th>\n",
       "      <td>./output/eswiki-latest-pages-articles-multistream.xml.bz2/AA/wiki_09</td>\n",
       "    </tr>\n",
       "    <tr>\n",
       "      <th>10</th>\n",
       "      <td>./output/eswiki-latest-pages-articles-multistream.xml.bz2/AA/wiki_10</td>\n",
       "    </tr>\n",
       "    <tr>\n",
       "      <th>11</th>\n",
       "      <td>./output/eswiki-latest-pages-articles-multistream.xml.bz2/AA/wiki_11</td>\n",
       "    </tr>\n",
       "    <tr>\n",
       "      <th>12</th>\n",
       "      <td>./output/eswiki-latest-pages-articles-multistream.xml.bz2/AA/wiki_12</td>\n",
       "    </tr>\n",
       "    <tr>\n",
       "      <th>13</th>\n",
       "      <td>./output/eswiki-latest-pages-articles-multistream.xml.bz2/AA/wiki_13</td>\n",
       "    </tr>\n",
       "    <tr>\n",
       "      <th>14</th>\n",
       "      <td>./output/eswiki-latest-pages-articles-multistream.xml.bz2/AA/wiki_14</td>\n",
       "    </tr>\n",
       "    <tr>\n",
       "      <th>15</th>\n",
       "      <td>./output/eswiki-latest-pages-articles-multistream.xml.bz2/AA/wiki_15</td>\n",
       "    </tr>\n",
       "    <tr>\n",
       "      <th>16</th>\n",
       "      <td>./output/eswiki-latest-pages-articles-multistream.xml.bz2/AA/wiki_16</td>\n",
       "    </tr>\n",
       "    <tr>\n",
       "      <th>17</th>\n",
       "      <td>./output/eswiki-latest-pages-articles-multistream.xml.bz2/AA/wiki_17</td>\n",
       "    </tr>\n",
       "    <tr>\n",
       "      <th>18</th>\n",
       "      <td>./output/eswiki-latest-pages-articles-multistream.xml.bz2/AA/wiki_18</td>\n",
       "    </tr>\n",
       "    <tr>\n",
       "      <th>19</th>\n",
       "      <td>./output/eswiki-latest-pages-articles-multistream.xml.bz2/AA/wiki_19</td>\n",
       "    </tr>\n",
       "    <tr>\n",
       "      <th>20</th>\n",
       "      <td>./output/eswiki-latest-pages-articles-multistream.xml.bz2/AA/wiki_20</td>\n",
       "    </tr>\n",
       "    <tr>\n",
       "      <th>21</th>\n",
       "      <td>./output/eswiki-latest-pages-articles-multistream.xml.bz2/AA/wiki_21</td>\n",
       "    </tr>\n",
       "    <tr>\n",
       "      <th>22</th>\n",
       "      <td>./output/eswiki-latest-pages-articles-multistream.xml.bz2/AA/wiki_22</td>\n",
       "    </tr>\n",
       "    <tr>\n",
       "      <th>23</th>\n",
       "      <td>./output/eswiki-latest-pages-articles-multistream.xml.bz2/AA/wiki_23</td>\n",
       "    </tr>\n",
       "    <tr>\n",
       "      <th>24</th>\n",
       "      <td>./output/eswiki-latest-pages-articles-multistream.xml.bz2/AA/wiki_24</td>\n",
       "    </tr>\n",
       "    <tr>\n",
       "      <th>25</th>\n",
       "      <td>./output/eswiki-latest-pages-articles-multistream.xml.bz2/AA/wiki_25</td>\n",
       "    </tr>\n",
       "    <tr>\n",
       "      <th>26</th>\n",
       "      <td>./output/eswiki-latest-pages-articles-multistream.xml.bz2/AA/wiki_26</td>\n",
       "    </tr>\n",
       "    <tr>\n",
       "      <th>27</th>\n",
       "      <td>./output/eswiki-latest-pages-articles-multistream.xml.bz2/AA/wiki_27</td>\n",
       "    </tr>\n",
       "    <tr>\n",
       "      <th>28</th>\n",
       "      <td>./output/eswiki-latest-pages-articles-multistream.xml.bz2/AA/wiki_28</td>\n",
       "    </tr>\n",
       "    <tr>\n",
       "      <th>29</th>\n",
       "      <td>./output/eswiki-latest-pages-articles-multistream.xml.bz2/AA/wiki_29</td>\n",
       "    </tr>\n",
       "    <tr>\n",
       "      <th>30</th>\n",
       "      <td>./output/eswiki-latest-pages-articles-multistream.xml.bz2/AA/wiki_30</td>\n",
       "    </tr>\n",
       "    <tr>\n",
       "      <th>31</th>\n",
       "      <td>./output/eswiki-latest-pages-articles-multistream.xml.bz2/AA/wiki_31</td>\n",
       "    </tr>\n",
       "    <tr>\n",
       "      <th>32</th>\n",
       "      <td>./output/eswiki-latest-pages-articles-multistream.xml.bz2/AA/wiki_32</td>\n",
       "    </tr>\n",
       "    <tr>\n",
       "      <th>33</th>\n",
       "      <td>./output/eswiki-latest-pages-articles-multistream.xml.bz2/AA/wiki_33</td>\n",
       "    </tr>\n",
       "    <tr>\n",
       "      <th>34</th>\n",
       "      <td>./output/eswiki-latest-pages-articles-multistream.xml.bz2/AA/wiki_34</td>\n",
       "    </tr>\n",
       "    <tr>\n",
       "      <th>35</th>\n",
       "      <td>./output/eswiki-latest-pages-articles-multistream.xml.bz2/AA/wiki_35</td>\n",
       "    </tr>\n",
       "    <tr>\n",
       "      <th>36</th>\n",
       "      <td>./output/eswiki-latest-pages-articles-multistream.xml.bz2/AA/wiki_36</td>\n",
       "    </tr>\n",
       "    <tr>\n",
       "      <th>37</th>\n",
       "      <td>./output/eswiki-latest-pages-articles-multistream.xml.bz2/AA/wiki_37</td>\n",
       "    </tr>\n",
       "    <tr>\n",
       "      <th>38</th>\n",
       "      <td>./output/eswiki-latest-pages-articles-multistream.xml.bz2/AA/wiki_38</td>\n",
       "    </tr>\n",
       "    <tr>\n",
       "      <th>39</th>\n",
       "      <td>./output/eswiki-latest-pages-articles-multistream.xml.bz2/AA/wiki_39</td>\n",
       "    </tr>\n",
       "    <tr>\n",
       "      <th>40</th>\n",
       "      <td>./output/eswiki-latest-pages-articles-multistream.xml.bz2/AA/wiki_40</td>\n",
       "    </tr>\n",
       "    <tr>\n",
       "      <th>41</th>\n",
       "      <td>./output/eswiki-latest-pages-articles-multistream.xml.bz2/AA/wiki_41</td>\n",
       "    </tr>\n",
       "    <tr>\n",
       "      <th>42</th>\n",
       "      <td>./output/eswiki-latest-pages-articles-multistream.xml.bz2/AA/wiki_42</td>\n",
       "    </tr>\n",
       "    <tr>\n",
       "      <th>43</th>\n",
       "      <td>./output/newdata.xml/AA/wiki_00</td>\n",
       "    </tr>\n",
       "  </tbody>\n",
       "</table>\n",
       "</div>"
      ],
      "text/plain": [
       "                                                                    path\n",
       "0   ./output/eswiki-latest-pages-articles-multistream.xml.bz2/AA/wiki_00\n",
       "1   ./output/eswiki-latest-pages-articles-multistream.xml.bz2/AA/wiki_01\n",
       "2   ./output/eswiki-latest-pages-articles-multistream.xml.bz2/AA/wiki_02\n",
       "3   ./output/eswiki-latest-pages-articles-multistream.xml.bz2/AA/wiki_03\n",
       "4   ./output/eswiki-latest-pages-articles-multistream.xml.bz2/AA/wiki_04\n",
       "5   ./output/eswiki-latest-pages-articles-multistream.xml.bz2/AA/wiki_05\n",
       "6   ./output/eswiki-latest-pages-articles-multistream.xml.bz2/AA/wiki_06\n",
       "7   ./output/eswiki-latest-pages-articles-multistream.xml.bz2/AA/wiki_07\n",
       "8   ./output/eswiki-latest-pages-articles-multistream.xml.bz2/AA/wiki_08\n",
       "9   ./output/eswiki-latest-pages-articles-multistream.xml.bz2/AA/wiki_09\n",
       "10  ./output/eswiki-latest-pages-articles-multistream.xml.bz2/AA/wiki_10\n",
       "11  ./output/eswiki-latest-pages-articles-multistream.xml.bz2/AA/wiki_11\n",
       "12  ./output/eswiki-latest-pages-articles-multistream.xml.bz2/AA/wiki_12\n",
       "13  ./output/eswiki-latest-pages-articles-multistream.xml.bz2/AA/wiki_13\n",
       "14  ./output/eswiki-latest-pages-articles-multistream.xml.bz2/AA/wiki_14\n",
       "15  ./output/eswiki-latest-pages-articles-multistream.xml.bz2/AA/wiki_15\n",
       "16  ./output/eswiki-latest-pages-articles-multistream.xml.bz2/AA/wiki_16\n",
       "17  ./output/eswiki-latest-pages-articles-multistream.xml.bz2/AA/wiki_17\n",
       "18  ./output/eswiki-latest-pages-articles-multistream.xml.bz2/AA/wiki_18\n",
       "19  ./output/eswiki-latest-pages-articles-multistream.xml.bz2/AA/wiki_19\n",
       "20  ./output/eswiki-latest-pages-articles-multistream.xml.bz2/AA/wiki_20\n",
       "21  ./output/eswiki-latest-pages-articles-multistream.xml.bz2/AA/wiki_21\n",
       "22  ./output/eswiki-latest-pages-articles-multistream.xml.bz2/AA/wiki_22\n",
       "23  ./output/eswiki-latest-pages-articles-multistream.xml.bz2/AA/wiki_23\n",
       "24  ./output/eswiki-latest-pages-articles-multistream.xml.bz2/AA/wiki_24\n",
       "25  ./output/eswiki-latest-pages-articles-multistream.xml.bz2/AA/wiki_25\n",
       "26  ./output/eswiki-latest-pages-articles-multistream.xml.bz2/AA/wiki_26\n",
       "27  ./output/eswiki-latest-pages-articles-multistream.xml.bz2/AA/wiki_27\n",
       "28  ./output/eswiki-latest-pages-articles-multistream.xml.bz2/AA/wiki_28\n",
       "29  ./output/eswiki-latest-pages-articles-multistream.xml.bz2/AA/wiki_29\n",
       "30  ./output/eswiki-latest-pages-articles-multistream.xml.bz2/AA/wiki_30\n",
       "31  ./output/eswiki-latest-pages-articles-multistream.xml.bz2/AA/wiki_31\n",
       "32  ./output/eswiki-latest-pages-articles-multistream.xml.bz2/AA/wiki_32\n",
       "33  ./output/eswiki-latest-pages-articles-multistream.xml.bz2/AA/wiki_33\n",
       "34  ./output/eswiki-latest-pages-articles-multistream.xml.bz2/AA/wiki_34\n",
       "35  ./output/eswiki-latest-pages-articles-multistream.xml.bz2/AA/wiki_35\n",
       "36  ./output/eswiki-latest-pages-articles-multistream.xml.bz2/AA/wiki_36\n",
       "37  ./output/eswiki-latest-pages-articles-multistream.xml.bz2/AA/wiki_37\n",
       "38  ./output/eswiki-latest-pages-articles-multistream.xml.bz2/AA/wiki_38\n",
       "39  ./output/eswiki-latest-pages-articles-multistream.xml.bz2/AA/wiki_39\n",
       "40  ./output/eswiki-latest-pages-articles-multistream.xml.bz2/AA/wiki_40\n",
       "41  ./output/eswiki-latest-pages-articles-multistream.xml.bz2/AA/wiki_41\n",
       "42  ./output/eswiki-latest-pages-articles-multistream.xml.bz2/AA/wiki_42\n",
       "43                                       ./output/newdata.xml/AA/wiki_00"
      ]
     },
     "execution_count": 3,
     "metadata": {},
     "output_type": "execute_result"
    }
   ],
   "source": [
    "df = pd.DataFrame(glob.glob(\"./output/*/*/*\"), columns=['path']).sort_values('path').reset_index(drop=True)\n",
    "df"
   ]
  },
  {
   "cell_type": "code",
   "execution_count": 7,
   "metadata": {},
   "outputs": [
    {
     "ename": "TypeError",
     "evalue": "'NoneType' object is not subscriptable",
     "output_type": "error",
     "traceback": [
      "\u001b[0;31m---------------------------------------------------------------------------\u001b[0m",
      "\u001b[0;31mTypeError\u001b[0m                                 Traceback (most recent call last)",
      "\u001b[0;32m<ipython-input-7-1bb84894ec5d>\u001b[0m in \u001b[0;36m<module>\u001b[0;34m\u001b[0m\n\u001b[1;32m      1\u001b[0m \u001b[0mfind_index\u001b[0m \u001b[0;34m=\u001b[0m \u001b[0mre\u001b[0m\u001b[0;34m.\u001b[0m\u001b[0mcompile\u001b[0m\u001b[0;34m(\u001b[0m\u001b[0;34m'multistream(\\d+).xml'\u001b[0m\u001b[0;34m)\u001b[0m\u001b[0;34m\u001b[0m\u001b[0;34m\u001b[0m\u001b[0m\n\u001b[0;32m----> 2\u001b[0;31m \u001b[0mdf\u001b[0m\u001b[0;34m[\u001b[0m\u001b[0;34m'folder'\u001b[0m\u001b[0;34m]\u001b[0m \u001b[0;34m=\u001b[0m \u001b[0mdf\u001b[0m\u001b[0;34m[\u001b[0m\u001b[0;34m'path'\u001b[0m\u001b[0;34m]\u001b[0m\u001b[0;34m.\u001b[0m\u001b[0mapply\u001b[0m\u001b[0;34m(\u001b[0m\u001b[0;32mlambda\u001b[0m \u001b[0mx\u001b[0m\u001b[0;34m:\u001b[0m \u001b[0mint\u001b[0m\u001b[0;34m(\u001b[0m\u001b[0mfind_index\u001b[0m\u001b[0;34m.\u001b[0m\u001b[0msearch\u001b[0m\u001b[0;34m(\u001b[0m\u001b[0mx\u001b[0m\u001b[0;34m)\u001b[0m\u001b[0;34m[\u001b[0m\u001b[0;36m1\u001b[0m\u001b[0;34m]\u001b[0m\u001b[0;34m)\u001b[0m\u001b[0;34m)\u001b[0m\u001b[0;34m\u001b[0m\u001b[0;34m\u001b[0m\u001b[0m\n\u001b[0m\u001b[1;32m      3\u001b[0m \u001b[0mdf\u001b[0m\u001b[0;34m\u001b[0m\u001b[0;34m\u001b[0m\u001b[0m\n",
      "\u001b[0;32m~/.local/lib/python3.8/site-packages/pandas/core/series.py\u001b[0m in \u001b[0;36mapply\u001b[0;34m(self, func, convert_dtype, args, **kwargs)\u001b[0m\n\u001b[1;32m   4431\u001b[0m         \u001b[0mdtype\u001b[0m\u001b[0;34m:\u001b[0m \u001b[0mfloat64\u001b[0m\u001b[0;34m\u001b[0m\u001b[0;34m\u001b[0m\u001b[0m\n\u001b[1;32m   4432\u001b[0m         \"\"\"\n\u001b[0;32m-> 4433\u001b[0;31m         \u001b[0;32mreturn\u001b[0m \u001b[0mSeriesApply\u001b[0m\u001b[0;34m(\u001b[0m\u001b[0mself\u001b[0m\u001b[0;34m,\u001b[0m \u001b[0mfunc\u001b[0m\u001b[0;34m,\u001b[0m \u001b[0mconvert_dtype\u001b[0m\u001b[0;34m,\u001b[0m \u001b[0margs\u001b[0m\u001b[0;34m,\u001b[0m \u001b[0mkwargs\u001b[0m\u001b[0;34m)\u001b[0m\u001b[0;34m.\u001b[0m\u001b[0mapply\u001b[0m\u001b[0;34m(\u001b[0m\u001b[0;34m)\u001b[0m\u001b[0;34m\u001b[0m\u001b[0;34m\u001b[0m\u001b[0m\n\u001b[0m\u001b[1;32m   4434\u001b[0m \u001b[0;34m\u001b[0m\u001b[0m\n\u001b[1;32m   4435\u001b[0m     def _reduce(\n",
      "\u001b[0;32m~/.local/lib/python3.8/site-packages/pandas/core/apply.py\u001b[0m in \u001b[0;36mapply\u001b[0;34m(self)\u001b[0m\n\u001b[1;32m   1086\u001b[0m             \u001b[0;32mreturn\u001b[0m \u001b[0mself\u001b[0m\u001b[0;34m.\u001b[0m\u001b[0mapply_str\u001b[0m\u001b[0;34m(\u001b[0m\u001b[0;34m)\u001b[0m\u001b[0;34m\u001b[0m\u001b[0;34m\u001b[0m\u001b[0m\n\u001b[1;32m   1087\u001b[0m \u001b[0;34m\u001b[0m\u001b[0m\n\u001b[0;32m-> 1088\u001b[0;31m         \u001b[0;32mreturn\u001b[0m \u001b[0mself\u001b[0m\u001b[0;34m.\u001b[0m\u001b[0mapply_standard\u001b[0m\u001b[0;34m(\u001b[0m\u001b[0;34m)\u001b[0m\u001b[0;34m\u001b[0m\u001b[0;34m\u001b[0m\u001b[0m\n\u001b[0m\u001b[1;32m   1089\u001b[0m \u001b[0;34m\u001b[0m\u001b[0m\n\u001b[1;32m   1090\u001b[0m     \u001b[0;32mdef\u001b[0m \u001b[0magg\u001b[0m\u001b[0;34m(\u001b[0m\u001b[0mself\u001b[0m\u001b[0;34m)\u001b[0m\u001b[0;34m:\u001b[0m\u001b[0;34m\u001b[0m\u001b[0;34m\u001b[0m\u001b[0m\n",
      "\u001b[0;32m~/.local/lib/python3.8/site-packages/pandas/core/apply.py\u001b[0m in \u001b[0;36mapply_standard\u001b[0;34m(self)\u001b[0m\n\u001b[1;32m   1141\u001b[0m                 \u001b[0;31m# List[Union[Callable[..., Any], str]]]]]\"; expected\u001b[0m\u001b[0;34m\u001b[0m\u001b[0;34m\u001b[0m\u001b[0;34m\u001b[0m\u001b[0m\n\u001b[1;32m   1142\u001b[0m                 \u001b[0;31m# \"Callable[[Any], Any]\"\u001b[0m\u001b[0;34m\u001b[0m\u001b[0;34m\u001b[0m\u001b[0;34m\u001b[0m\u001b[0m\n\u001b[0;32m-> 1143\u001b[0;31m                 mapped = lib.map_infer(\n\u001b[0m\u001b[1;32m   1144\u001b[0m                     \u001b[0mvalues\u001b[0m\u001b[0;34m,\u001b[0m\u001b[0;34m\u001b[0m\u001b[0;34m\u001b[0m\u001b[0m\n\u001b[1;32m   1145\u001b[0m                     \u001b[0mf\u001b[0m\u001b[0;34m,\u001b[0m  \u001b[0;31m# type: ignore[arg-type]\u001b[0m\u001b[0;34m\u001b[0m\u001b[0;34m\u001b[0m\u001b[0m\n",
      "\u001b[0;32m~/.local/lib/python3.8/site-packages/pandas/_libs/lib.pyx\u001b[0m in \u001b[0;36mpandas._libs.lib.map_infer\u001b[0;34m()\u001b[0m\n",
      "\u001b[0;32m<ipython-input-7-1bb84894ec5d>\u001b[0m in \u001b[0;36m<lambda>\u001b[0;34m(x)\u001b[0m\n\u001b[1;32m      1\u001b[0m \u001b[0mfind_index\u001b[0m \u001b[0;34m=\u001b[0m \u001b[0mre\u001b[0m\u001b[0;34m.\u001b[0m\u001b[0mcompile\u001b[0m\u001b[0;34m(\u001b[0m\u001b[0;34m'multistream(\\d+).xml'\u001b[0m\u001b[0;34m)\u001b[0m\u001b[0;34m\u001b[0m\u001b[0;34m\u001b[0m\u001b[0m\n\u001b[0;32m----> 2\u001b[0;31m \u001b[0mdf\u001b[0m\u001b[0;34m[\u001b[0m\u001b[0;34m'folder'\u001b[0m\u001b[0;34m]\u001b[0m \u001b[0;34m=\u001b[0m \u001b[0mdf\u001b[0m\u001b[0;34m[\u001b[0m\u001b[0;34m'path'\u001b[0m\u001b[0;34m]\u001b[0m\u001b[0;34m.\u001b[0m\u001b[0mapply\u001b[0m\u001b[0;34m(\u001b[0m\u001b[0;32mlambda\u001b[0m \u001b[0mx\u001b[0m\u001b[0;34m:\u001b[0m \u001b[0mint\u001b[0m\u001b[0;34m(\u001b[0m\u001b[0mfind_index\u001b[0m\u001b[0;34m.\u001b[0m\u001b[0msearch\u001b[0m\u001b[0;34m(\u001b[0m\u001b[0mx\u001b[0m\u001b[0;34m)\u001b[0m\u001b[0;34m[\u001b[0m\u001b[0;36m1\u001b[0m\u001b[0;34m]\u001b[0m\u001b[0;34m)\u001b[0m\u001b[0;34m)\u001b[0m\u001b[0;34m\u001b[0m\u001b[0;34m\u001b[0m\u001b[0m\n\u001b[0m\u001b[1;32m      3\u001b[0m \u001b[0mdf\u001b[0m\u001b[0;34m\u001b[0m\u001b[0;34m\u001b[0m\u001b[0m\n",
      "\u001b[0;31mTypeError\u001b[0m: 'NoneType' object is not subscriptable"
     ]
    }
   ],
   "source": [
    "find_index = re.compile('multistream(\\d+).xml')\n",
    "df['folder'] = df['path'].apply(lambda x: int(find_index.search(x)[1]))\n",
    "df"
   ]
  },
  {
   "cell_type": "code",
   "execution_count": 19,
   "metadata": {},
   "outputs": [
    {
     "name": "stdout",
     "output_type": "stream",
     "text": [
      "multistream.xml.bz2/AA/wiki_41\n"
     ]
    }
   ],
   "source": [
    "print(re.compile('multistream.*').search(\"./output/eswiki-latest-pages-articles-multistream.xml.bz2/AA/wiki_41\")[0])"
   ]
  },
  {
   "cell_type": "code",
   "execution_count": null,
   "metadata": {},
   "outputs": [],
   "source": []
  }
 ],
 "metadata": {
  "kernelspec": {
   "display_name": "Python 3",
   "language": "python",
   "name": "python3"
  },
  "language_info": {
   "codemirror_mode": {
    "name": "ipython",
    "version": 3
   },
   "file_extension": ".py",
   "mimetype": "text/x-python",
   "name": "python",
   "nbconvert_exporter": "python",
   "pygments_lexer": "ipython3",
   "version": "3.8.2"
  }
 },
 "nbformat": 4,
 "nbformat_minor": 4
}
