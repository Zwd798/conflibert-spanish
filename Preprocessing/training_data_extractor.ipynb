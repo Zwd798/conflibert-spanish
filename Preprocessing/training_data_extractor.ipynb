{
 "cells": [
  {
   "cell_type": "code",
   "execution_count": 51,
   "id": "f8d6b1e3",
   "metadata": {},
   "outputs": [],
   "source": [
    "import pandas as pd\n",
    "from langdetect import detect, DetectorFactory\n",
    "DetectorFactory.seed = 0"
   ]
  },
  {
   "cell_type": "code",
   "execution_count": 52,
   "id": "90525bef",
   "metadata": {},
   "outputs": [],
   "source": [
    "def get_conflict_training_data(filepath_tsv, conflict_events=True):\n",
    "    df = pd.read_csv(filepath_tsv, sep='\\t')\n",
    "    df['spanish'] = df.iloc[:,0].apply(lambda x: True if detect(x) == 'es' else False)\n",
    "    df = df[df.spanish]\n",
    "    if conflict_events:\n",
    "        df = df[df.iloc[:,1:23].any(axis=1)]\n",
    "        df['conflict'] = 1\n",
    "    else:\n",
    "        df = df[~df.iloc[:,1:23].any(axis=1)]\n",
    "        df['conflict'] = 0\n",
    "    \n",
    "    df = df.drop(columns=['spanish'])\n",
    "    df.drop(df.columns[list(range(1,39))],axis=1,inplace=True)\n",
    "\n",
    "    df.columns.values[0] = 'article'\n",
    "    return df\n"
   ]
  },
  {
   "cell_type": "code",
   "execution_count": 53,
   "id": "6d26e11b",
   "metadata": {},
   "outputs": [],
   "source": [
    "propagated_df = get_conflict_training_data(\"annotated_data_for_filter_training/propagated_InsightCrime.tsv\")  \n",
    "annotated_df = get_conflict_training_data(\"annotated_data_for_filter_training/annotated_InsightCrime.tsv\")"
   ]
  },
  {
   "cell_type": "code",
   "execution_count": 65,
   "id": "62050196",
   "metadata": {
    "scrolled": true
   },
   "outputs": [],
   "source": [
    "df_complete = pd.concat([propagated_df, annotated_df], ignore_index=True)\n",
    "df_complete.to_csv(\"training_data.csv\")"
   ]
  },
  {
   "cell_type": "code",
   "execution_count": 56,
   "id": "49a55a74",
   "metadata": {},
   "outputs": [
    {
     "data": {
      "text/plain": [
       "6094"
      ]
     },
     "execution_count": 56,
     "metadata": {},
     "output_type": "execute_result"
    }
   ],
   "source": [
    "len(df_complete)"
   ]
  },
  {
   "cell_type": "code",
   "execution_count": 57,
   "id": "64afa60a",
   "metadata": {},
   "outputs": [],
   "source": [
    "propagated_df_negative = get_conflict_training_data(\"annotated_data_for_filter_training/propagated_InsightCrime.tsv\", False)\n",
    "annotated_df_negative = get_conflict_training_data(\"annotated_data_for_filter_training/annotated_InsightCrime.tsv\", False)\n"
   ]
  },
  {
   "cell_type": "code",
   "execution_count": 58,
   "id": "d1153755",
   "metadata": {},
   "outputs": [
    {
     "data": {
      "text/html": [
       "<div>\n",
       "<style scoped>\n",
       "    .dataframe tbody tr th:only-of-type {\n",
       "        vertical-align: middle;\n",
       "    }\n",
       "\n",
       "    .dataframe tbody tr th {\n",
       "        vertical-align: top;\n",
       "    }\n",
       "\n",
       "    .dataframe thead th {\n",
       "        text-align: right;\n",
       "    }\n",
       "</style>\n",
       "<table border=\"1\" class=\"dataframe\">\n",
       "  <thead>\n",
       "    <tr style=\"text-align: right;\">\n",
       "      <th></th>\n",
       "      <th>article</th>\n",
       "      <th>conflict</th>\n",
       "    </tr>\n",
       "  </thead>\n",
       "  <tbody>\n",
       "    <tr>\n",
       "      <th>0</th>\n",
       "      <td>incubadoras del crimen organizado en Latinoamé...</td>\n",
       "      <td>0</td>\n",
       "    </tr>\n",
       "    <tr>\n",
       "      <th>1</th>\n",
       "      <td>Los hombres que vendían a las mujeres. Pregunt...</td>\n",
       "      <td>0</td>\n",
       "    </tr>\n",
       "    <tr>\n",
       "      <th>2</th>\n",
       "      <td>El alcalde Tres Kiebres de Guatemala. Un ambie...</td>\n",
       "      <td>0</td>\n",
       "    </tr>\n",
       "    <tr>\n",
       "      <th>3</th>\n",
       "      <td>Élites y crimen organizado: Marco conceptual. ...</td>\n",
       "      <td>0</td>\n",
       "    </tr>\n",
       "    <tr>\n",
       "      <th>4</th>\n",
       "      <td>Élites y crimen organizado. El crimen organiza...</td>\n",
       "      <td>0</td>\n",
       "    </tr>\n",
       "  </tbody>\n",
       "</table>\n",
       "</div>"
      ],
      "text/plain": [
       "                                             article  conflict\n",
       "0  incubadoras del crimen organizado en Latinoamé...         0\n",
       "1  Los hombres que vendían a las mujeres. Pregunt...         0\n",
       "2  El alcalde Tres Kiebres de Guatemala. Un ambie...         0\n",
       "3  Élites y crimen organizado: Marco conceptual. ...         0\n",
       "4  Élites y crimen organizado. El crimen organiza...         0"
      ]
     },
     "execution_count": 58,
     "metadata": {},
     "output_type": "execute_result"
    }
   ],
   "source": [
    "df_negative_complete = pd.concat([propagated_df_negative, annotated_df_negative], ignore_index=True)\n",
    "df_negative_complete.head()\n"
   ]
  },
  {
   "cell_type": "code",
   "execution_count": 59,
   "id": "9521fd8b",
   "metadata": {},
   "outputs": [],
   "source": [
    "df_negative_complete.to_csv(\"negative_training_data.csv\")"
   ]
  },
  {
   "cell_type": "code",
   "execution_count": 60,
   "id": "7e7533cb",
   "metadata": {},
   "outputs": [],
   "source": [
    "res = [df_complete, df_negative_complete]\n",
    "df_total = pd.concat(res)\n",
    "df_total.to_csv(\"final_training_data_v2.csv\")"
   ]
  },
  {
   "cell_type": "code",
   "execution_count": 61,
   "metadata": {},
   "outputs": [],
   "source": [
    "df_total = pd.read_csv(\"final_training_data_v2.csv\", index_col=0)"
   ]
  }
 ],
 "metadata": {
  "kernelspec": {
   "display_name": "Python 3",
   "language": "python",
   "name": "python3"
  },
  "language_info": {
   "codemirror_mode": {
    "name": "ipython",
    "version": 3
   },
   "file_extension": ".py",
   "mimetype": "text/x-python",
   "name": "python",
   "nbconvert_exporter": "python",
   "pygments_lexer": "ipython3",
   "version": "3.8.2"
  }
 },
 "nbformat": 4,
 "nbformat_minor": 5
}
