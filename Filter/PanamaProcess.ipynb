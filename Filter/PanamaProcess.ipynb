{
 "cells": [
  {
   "cell_type": "markdown",
   "id": "8cad9f7b",
   "metadata": {
    "id": "8cad9f7b"
   },
   "source": [
    "# Packages "
   ]
  },
  {
   "cell_type": "code",
   "execution_count": 85,
   "id": "92822196",
   "metadata": {
    "ExecuteTime": {
     "end_time": "2021-04-18T02:54:42.093196Z",
     "start_time": "2021-04-18T02:54:41.733640Z"
    },
    "code_folding": [
     55
    ],
    "id": "92822196",
    "outputId": "1cd262fe-85e8-4745-e82a-ae6d152bcadd"
   },
   "outputs": [
    {
     "name": "stdout",
     "output_type": "stream",
     "text": [
      "INFO: Pandarallel will run on 8 workers.\n",
      "INFO: Pandarallel will use standard multiprocessing data transfer (pipe) to transfer data between the main process and workers.\n",
      "\n",
      "WARNING: You are on Windows. If you detect any issue with pandarallel, be sure you checked out the Troubleshooting page:\n",
      "https://nalepae.github.io/pandarallel/troubleshooting/\n"
     ]
    }
   ],
   "source": [
    "import json\n",
    "import pandas as pd\n",
    "pd.set_option(\"max_colwidth\", 600)\n",
    "import ast\n",
    "from bs4 import BeautifulSoup\n",
    "import re\n",
    "import requests\n",
    "import time\n",
    "import numpy as np\n",
    "import zipfile\n",
    "import os\n",
    "import html\n",
    "import re\n",
    "import glob\n",
    "import pathlib\n",
    "import unicodedata\n",
    "import tarfile\n",
    "\n",
    "from pandarallel import pandarallel\n",
    "pandarallel.initialize()\n",
    "from unidecode import unidecode\n",
    "\n",
    "def get_csv_size(csv_name):\n",
    "    get_size = os.path.getsize(os.getcwd() + '/'+csv_name)\n",
    "    mb_size = get_size/(1024 * 1024)\n",
    "    mb_size = round(mb_size,1)\n",
    "    return mb_size\n",
    "\n",
    "def get_attribute(filename):\n",
    "    if filename.endswith('csv'):\n",
    "        df1 = pd.read_csv(filename,header=[0])\n",
    "    else:\n",
    "        df1=pd.read_json(filename,orient=\"records\", lines=True)\n",
    "    return list(df1.columns) \n",
    "\n",
    "def split_large_file(filename, source, output,size=None):\n",
    "    df1=pd.read_csv(filename,header=[0])\n",
    "    if size ==None:\n",
    "        size = get_csv_size(filename)\n",
    "    num_chunks = size//20\n",
    "    if num_chunks == 0:\n",
    "        num_chunks = 1 \n",
    "    df_all = np.array_split(df1, num_chunks)\n",
    "\n",
    "    for idx, file in enumerate(df_all):\n",
    "        file.to_csv('%s\\\\%s_%03d.csv'%(output, source, idx), index=False)   \n",
    "        \n",
    "def show_all_files(folder):\n",
    "    df = pd.DataFrame(glob.glob('%s/*'%folder), columns = ['path'])\n",
    "    df['root'] = df.path.apply(lambda x: x.split('\\\\')[0])\n",
    "    df['source'] = df.path.apply(lambda x: x.replace('%s\\\\'%folder,'').split('_')[0])\n",
    "    df['filename'] = df.path.apply(lambda x: x.replace('%s\\\\'%folder,'').split('/')[-1])\n",
    "    df = df.sort_values('source').reset_index(drop=True)\n",
    "    df['size'] = df['path'].apply(get_csv_size)\n",
    "    return df\n",
    "\n",
    "def unicodetoascii(text):\n",
    "    TEXT = (text.\n",
    "    \t\treplace('\\\\xe2\\\\x80\\\\x99', \"'\").\n",
    "            replace('\\\\xc3\\\\xa9', 'e').\n",
    "            replace('\\\\xe2\\\\x80\\\\x90', '-').\n",
    "            replace('\\\\xe2\\\\x80\\\\x91', '-').\n",
    "            replace('\\\\xe2\\\\x80\\\\x92', '-').\n",
    "            replace('\\\\xe2\\\\x80\\\\x93', '-').\n",
    "            replace('\\\\xe2\\\\x80\\\\x94', '-').\n",
    "            replace('\\\\xe2\\\\x80\\\\x94', '-').\n",
    "            replace('\\\\xe2\\\\x80\\\\x98', \"'\").\n",
    "            replace('\\\\xe2\\\\x80\\\\x9b', \"'\").\n",
    "            replace('\\\\xe2\\\\x80\\\\x9c', '\"').\n",
    "            replace('\\\\xe2\\\\x80\\\\x9c', '\"').\n",
    "            replace('\\\\xe2\\\\x80\\\\x9d', '\"').\n",
    "            replace('\\\\xe2\\\\x80\\\\x9e', '\"').\n",
    "            replace('\\\\xe2\\\\x80\\\\x9f', '\"').\n",
    "            replace('\\\\xe2\\\\x80\\\\xa6', '...').#\n",
    "            replace('\\\\xe2\\\\x80\\\\xb2', \"'\").\n",
    "            replace('\\\\xe2\\\\x80\\\\xb3', \"'\").\n",
    "            replace('\\\\xe2\\\\x80\\\\xb4', \"'\").\n",
    "            replace('\\\\xe2\\\\x80\\\\xb5', \"'\").\n",
    "            replace('\\\\xe2\\\\x80\\\\xb6', \"'\").\n",
    "            replace('\\\\xe2\\\\x80\\\\xb7', \"'\").\n",
    "            replace('\\\\xe2\\\\x81\\\\xba', \"+\").\n",
    "            replace('\\\\xe2\\\\x81\\\\xbb', \"-\").\n",
    "            replace('\\\\xe2\\\\x81\\\\xbc', \"=\").\n",
    "            replace('\\\\xe2\\\\x81\\\\xbd', \"(\").\n",
    "            replace('\\\\xe2\\\\x81\\\\xbe', \")\"))\n",
    "    return TEXT"
   ]
  },
  {
   "cell_type": "markdown",
   "id": "990d01ca",
   "metadata": {
    "id": "990d01ca"
   },
   "source": [
    "# Check csv"
   ]
  },
  {
   "cell_type": "code",
   "execution_count": 86,
   "id": "86d3c0e2",
   "metadata": {
    "ExecuteTime": {
     "end_time": "2021-04-16T16:59:28.416272Z",
     "start_time": "2021-04-16T16:59:28.360377Z"
    },
    "colab": {
     "base_uri": "https://localhost:8080/",
     "height": 235
    },
    "executionInfo": {
     "elapsed": 156,
     "status": "error",
     "timestamp": 1658175105651,
     "user": {
      "displayName": "Vikas Thoutam",
      "userId": "14762817719019055278"
     },
     "user_tz": 300
    },
    "id": "86d3c0e2",
    "outputId": "24c48d86-e896-4da2-d3c9-b38387ef3eac",
    "scrolled": true
   },
   "outputs": [
    {
     "name": "stdout",
     "output_type": "stream",
     "text": [
      "INFO: Pandarallel will run on 1 workers.\n",
      "INFO: Pandarallel will use standard multiprocessing data transfer (pipe) to transfer data between the main process and workers.\n",
      "\n",
      "WARNING: You are on Windows. If you detect any issue with pandarallel, be sure you checked out the Troubleshooting page:\n",
      "https://nalepae.github.io/pandarallel/troubleshooting/\n"
     ]
    },
    {
     "data": {
      "text/html": [
       "<div>\n",
       "<style scoped>\n",
       "    .dataframe tbody tr th:only-of-type {\n",
       "        vertical-align: middle;\n",
       "    }\n",
       "\n",
       "    .dataframe tbody tr th {\n",
       "        vertical-align: top;\n",
       "    }\n",
       "\n",
       "    .dataframe thead th {\n",
       "        text-align: right;\n",
       "    }\n",
       "</style>\n",
       "<table border=\"1\" class=\"dataframe\">\n",
       "  <thead>\n",
       "    <tr style=\"text-align: right;\">\n",
       "      <th></th>\n",
       "      <th>path</th>\n",
       "      <th>source</th>\n",
       "      <th>attributes</th>\n",
       "      <th>size</th>\n",
       "    </tr>\n",
       "  </thead>\n",
       "  <tbody>\n",
       "    <tr>\n",
       "      <th>0</th>\n",
       "      <td>Filter\\diaadia\\diaadia.csv</td>\n",
       "      <td>diaadia</td>\n",
       "      <td>[page, rows, link, text]</td>\n",
       "      <td>48.9</td>\n",
       "    </tr>\n",
       "    <tr>\n",
       "      <th>1</th>\n",
       "      <td>Filter\\elpanam\\elpanam.csv</td>\n",
       "      <td>elpanam</td>\n",
       "      <td>[page, rows, link, text]</td>\n",
       "      <td>2.2</td>\n",
       "    </tr>\n",
       "    <tr>\n",
       "      <th>2</th>\n",
       "      <td>Filter\\lacritica\\lacritica.csv</td>\n",
       "      <td>lacritica</td>\n",
       "      <td>[page, rows, link, text]</td>\n",
       "      <td>10.1</td>\n",
       "    </tr>\n",
       "    <tr>\n",
       "      <th>3</th>\n",
       "      <td>Filter\\laprensa\\laprensa.csv</td>\n",
       "      <td>laprensa</td>\n",
       "      <td>[page, rows, link, text]</td>\n",
       "      <td>4.3</td>\n",
       "    </tr>\n",
       "  </tbody>\n",
       "</table>\n",
       "</div>"
      ],
      "text/plain": [
       "                             path     source                attributes  size\n",
       "0      Filter\\diaadia\\diaadia.csv    diaadia  [page, rows, link, text]  48.9\n",
       "1      Filter\\elpanam\\elpanam.csv    elpanam  [page, rows, link, text]   2.2\n",
       "2  Filter\\lacritica\\lacritica.csv  lacritica  [page, rows, link, text]  10.1\n",
       "3    Filter\\laprensa\\laprensa.csv   laprensa  [page, rows, link, text]   4.3"
      ]
     },
     "execution_count": 86,
     "metadata": {},
     "output_type": "execute_result"
    }
   ],
   "source": [
    "pandarallel.initialize(nb_workers=1, progress_bar=False) \n",
    "# Place all files to be filtered within the Filter folder, within a subfolder containing the source name\n",
    "# for example, let there be 3 csv files from El Espectador. \n",
    "# The file structure is \n",
    "# Filter\n",
    "# --elespectador\n",
    "# -- -- elespactador01.csv\n",
    "# -- -- elespactador02.csv\n",
    "# -- -- elespactador03.csv\n",
    "\n",
    "\n",
    "# This creates a dataframe containing a list of all the csv files within the specified folder structure.\n",
    "df = pd.DataFrame(glob.glob('Filter\\\\*\\\\*.csv'), columns = ['path'])\n",
    "# This updates the source to be just the first part, the name of the folder.\n",
    "df['source'] = df.path.apply(lambda x: x.split('\\\\')[1].replace('.csv', ''))\n",
    "df = df.sort_values('source').reset_index(drop=True)\n",
    "# Gets the column defenitions of the files and their sizes\n",
    "df['attributes']= df.path.apply(get_attribute)\n",
    "df['size']= df.path.apply(get_csv_size)\n",
    "df"
   ]
  },
  {
   "cell_type": "markdown",
   "id": "LmLUazUi8hky",
   "metadata": {
    "id": "LmLUazUi8hky"
   },
   "source": [
    "Initialize filter files."
   ]
  },
  {
   "cell_type": "code",
   "execution_count": 130,
   "id": "2d0cb4d0-bf7e-4ac9-a68a-2746fef10a17",
   "metadata": {
    "id": "2d0cb4d0-bf7e-4ac9-a68a-2746fef10a17",
    "outputId": "0142fea4-d15c-420a-eae0-5bcbaf931df9"
   },
   "outputs": [
    {
     "name": "stdout",
     "output_type": "stream",
     "text": [
      "relevant_rules:\n",
      "\\brelaciones \\w+-\\w+|\\bsecuestrar|\\babuso|\\bactivista|\\bactos\\b|\\badministración|\\bcontra las mujeres|\\bagencias|\\ballegati|\\bembajador|\\banarquía|\\barmado|\\bejército|\\bdetención|\\bartillería|\\basesino|\\basalto|\\basamblea|\\basilo|\\bataque|\\battrocit|\\bautoridades|\\bboleta electoral|\\bbatallas...|\\bderramamiento de sangre|\\bBLOTTER|\\bcuerpos|\\bbomba|\\bfrontera|\\bboicot|\\barmarios|\\bcaso\\b|\\bcasualt|\\bbajas|\\bcensores|\\bcivil\\b|\\bcoaccionar|\\bcolonial|\\bcombate|\\bcomité|\\bmancomunidad|\\bcomunismo|\\bcomunista|\\bconflicto|\\bcongreso|\\bconscripto|\\bconservador|\\bconstituenc|\\bconstitución|\\bconvicto|\\bcorps\\b|\\bcorrupto|\\bconsejo|\\bconcejal|\\bContrainsurgencia|\\bContra el terrorismo|\\bPaíses en|\\bgolpes de estado|\\btribunales|\\bdelitos?|\\bcriminal|\\brestringir|\\bciberataque|\\bcibercrimen|\\bdaño|\\bmuerte|\\bmuerte|\\bdefensa|\\bdefensa|\\bdelegado|\\bdemocrático|\\bdemostración|\\bdepartamento|\\brepresentación|\\bdesplegar|\\bdeportar|\\bdiputado|\\bdestruir|\\bdetener|\\bdetención|\\bdictador|\\bdiplomático|\\bdiplomático|\\bdiscriminar|\\bdesestablecido|\\bdesobediencia|\\bdesobedecer|\\bdesplazar|\\bdisputas|\\belecciones|\\belectoral|\\bemancipat|\\bEmbajada |\\baplicación|\\besclavizar|\\bejecutado|\\bejecutar|\\bejecuciones|\\bexpatriados|\\bexpulsar|\\bexplotar|\\bexplosión|\\bextraditar|\\bextremista|\\bfederal|\\bfeminista|\\bfuerzas?|\\bforcibl|\\bextranjero|\\bAsuntos exteriores|\\brelaciones exteriores|\\bformaciones|\\bfraude|\\bgángster|\\bgenocidio|\\bgobernar|\\bgranada|\\bguerrilla|\\barmas|\\bcolgado|\\bderechos.humanos?|\\bencarcelar|\\bincendiario|\\bincidentes|\\bindependencia|\\binjur|\\binsurgente|\\binteligencia|\\bIntergubernamental|\\brelación internacional|\\binvadir|\\binvasión|\\bcárceles|\\bjueces|\\bjusticia|\\bsecuestrar|\\bmatar|\\bleyes|\\blegalidad|\\blegalización|\\blegislativo|\\blegisladores|\\bliberal|\\bliberación|\\blobby|\\bmedios de comunicación de masas|\\bfosa masiva|\\bmasacre|\\balcalde|\\bEstados miembros de|\\bmilitante|\\bmilitar|\\bmilicia|\\bministro|\\bministerios|\\bministerio|\\bmisiles|\\bmonarca|\\bmovimiento|\\bmunicipal|\\basesinato|\\bmutilación|\\bnacionalismo|\\bnacionalista|\\bnacionalidad|\\bnato|\\bnon violen|\\bnypd|\\bocupación|\\btitular de la oficina|\\boficial|\\bfuncionarios|\\boperaciones|\\borganización|\\borganizado|\\bparlamento|\\bpartidos|\\bpartido|\\bmantenimiento de la paz|\\bpersecución|\\bpiquete|\\bpolicía|\\bpolítico|\\bpolítico|\\bpolítica|\\bpreprisal|\\bpresidente|\\bprisión|\\bpropaganda|\\bprostitut|\\bprotesta|\\bviolación|\\brebelde|\\breferéndum|\\breforma|\\brefugio|\\brelaciones|\\breprimir|\\brepublicano|\\bresolución|\\brestringir|\\btomar represalias|\\brevolución|\\brifle|\\bderechos|\\bdisturbios|\\bgobernantes|\\bsanción|\\bSecretario de Estado|\\bseguridad|\\bsenado|\\bcondenado|\\bseparatismo|\\bservidores|\\bdisparando|\\bdispara|\\bdisparo|\\bmatanza|\\besclavo|\\bAsuntos sociales|\\bAsuntos sociales|\\bsocialista|\\bsoldado|\\bapuñalado|\\bApuñalamiento|\\bhuelga|\\bsupremo|\\bsospechoso|\\bsospechoso|\\bterritorial|\\bterritorios|\\bterritorio|\\bterror|\\bThink tank|\\bamenaza|\\btortura|\\btráfico|\\btragedia|\\btrágico|\\btratados|\\bjuicios|\\btribunal|\\btropa|\\bdesarmado|\\bilegal|\\bvíctima|\\bvigilancia|\\bviolat|\\bviolen|\\bvoto|\\bguerra|\\bguerras|\\bwaterboard|\\barma|\\bbienestar|\\bcasa blanca|\\bCiberseguridad|\\bBrexit|\\binmigración|\\bmarihuana|\\bdisturbios|\\bdrogas|\\bdisputa|\\bdesigualdad|\\bPrensa libertad\n",
      "\n",
      "irelevant_rules:\n",
      "\\bbestilos|\\blibros|\\bcoches|\\bcarros|\\bautomóviles|\\btierra|\\balimentos|\\bfuturo|\\bsalud|\\bvida|\\bmiembros|\\bdinero|\\bpaquetes|\\bfotos|\\bpopular|\\bradio|\\bvideos|\\bbola|\\baccidente|\\bálbum|\\bAMEX|\\banimal|\\barte|\\bartista|\\bathlet|\\baustralian.open|\\bAuto.Rac|\\bautos|\\bbádminton|\\bbbcthree|\\bbcs.campeón|\\bbcs.nacional|\\bbelleza|\\bofertas.bcs|\\bCartelera|\\bLibros? Revisar|\\bbolos\\b|\\bboxeo|\\bBraves|\\bCerveceros|\\bBritish.open|\\bBroadway|\\bnegocio|\\bCardenales|\\bcarrera|\\bCBA.Playoffs|\\bcelebrid|\\bcampeonato|\\bcampeón|\\bcine|\\bclima|\\bclinics|\\bcomed|\\bcommentisfree|\\bcommodit|\\bconcierto|\\bconsumidor|\\bCorporat|\\bcricket|\\bcultura|\\bcopa|\\bmoneda|\\bcyclyng|\\bdaytona 500|\\bofertas|\\bDJIA|\\bDólar|\\bDow.Jones|\\bdragster|\\bganancia|\\bEconomía|\\beducación|\\bentretenimiento|\\bmedio ambiente|\\becuestre|\\bintercambio|\\bExpos|\\bagricultura|\\bmoda|\\bficción|\\bcampo \\w+ gol|\\bFIFA\\b|\\bpelículas?\\b|\\bFINA\\b|\\bfinalista|\\bfinales|\\bfinanc|\\bfitness|\\bFlowery.Gold.Mines|FLOD|\\bfrancés.abierto|\\bfund|\\bfinanciación|\\bgalería|\\bjuegos?|\\bgénero|\\bregalos|\\bportero|\\bgoles\\b|\\bgolf\\b|\\bGrammy|\\bgrand.national|\\bgrand.prix|\\bgrand.slam|\\bgráfico|\\bgimnástico|\\btenía meta|\\bmedio tiempo|\\btemblor de corazón|\\bHockey|\\bhollywood|\\bhuracán|\\bÍndice futuro|\\bIndianápolis.500|\\bIndyCar|\\binfo|\\btipo de interés|\\binvertir|\\biron.man|\\bjazz|\\bkentucky derby|\\ble mans|\\bLIGA|\\bestilo de vida|\\bLotería|\\bLotería|\\bLPGA|\\bmaratón|\\blocura de marzo|\\bmercado|\\bcomidas|\\bmeast|\\bmedallista|\\bafiliación|\\bMets|\\bHipoteca|\\bdeporte del motor|\\bpelícula|\\bmúsica|\\bNASCAR|\\bNASD|\\bNasdaq|\\bdesastre natural|\\bNBA|\\bNCAA|\\bNetflix|\\bnfl|\\bNHL|\\bNovelas|\\bNYSE|\\bobituar|\\bfuera de temporada|\\bOlímpico|\\bOrioles|\\bOscar|\\bPadres|\\bpaidpost|\\bparalímpico|\\bPingüinos|\\brendimiento|\\bPGA|\\bPhillies|\\bPiratas|\\bLanzadores|\\bjugar bola|\\bjugador|\\bPlayoffs|\\bpodcast|\\bpollut|\\bpolo|\\bpop|\\bcultura popular|\\bPowerball|\\bprecios|\\bproducto|\\bPSE\\b|\\bmariscal de campo|\\bcotización|\\bcarreras|\\binmobiliario|\\bRecapitulación|\\bReceta|\\breligión|\\bresultados|\\bresumen|\\bRemo|\\brugby|\\bRussell 2000|\\bRussell US Index|\\bryder\\b|\\bS&P|\\bvela|\\bventas?\\b|\\bpuntuación \\w+ gol|\\bpuntuación\\b|\\bgoleadores\\b|\\bgoleadores\\b|\\bvendedor|\\bsemi.final|\\bsemifinal|\\bdisparar \\w+ gol|\\bcompras|\\bCompradores|\\btiro \\w+ gol|\\bmundo del espectáculo|\\bcantante|\\bseis.naciones|\\bfútbol|\\bespeciales|\\bdeportes|\\bentrenamiento.de.primavera|\\bparrilla.de.salida|\\bstock|\\béxito|\\bsurfista|\\bsurf|\\bnadar|\\bT-bill|\\btech\\b|\\btecnología|\\btecnología\\b|\\btemperatura|\\btenis|\\bteatro|\\bbillete|\\btop sing|\\btornado|\\btour.de.francia|\\btorneo|\\bcomercio|\\bviaje|\\bTesoros|\\bTesorería|\\bTriatlón|\\btv\\b|\\bU\\.S\\. Open|\\buefa\\b|\\bus.open|\\baventura|\\bvr\\b|\\btiempo|\\bPeso.?leventar|\\bWimbledon|\\bganar|\\bworld.classic|\\bworld.series|\\bYankees|\\bTurismo\n"
     ]
    }
   ],
   "source": [
    "# Initialize the relevant keywords and the irrelevant keyword regex's\n",
    "with open('wiki_relevant_spanish.txt', 'r', encoding='utf8') as file:    \n",
    "    relevant_rules = file.read().split('\\n')\n",
    "relevant_rules = '\\\\b' + '|\\\\b'.join(relevant_rules)\n",
    "\n",
    "if relevant_rules.endswith('|\\\\b'):\n",
    "    relevant_rules =relevant_rules[:-3]   \n",
    "\n",
    "#relevant_rules = re.compile(relevant_rules, re.IGNORECASE)\n",
    "\n",
    "print('relevant_rules:')\n",
    "print(relevant_rules)\n",
    "\n",
    "with open('irrelevant_keywords_spanish.txt', 'r', encoding='utf8') as file:    \n",
    "    irelevant_rules = file.read().split('\\n')\n",
    "irelevant_rules = '\\\\b' + '|\\\\b'.join(irelevant_rules)\n",
    "\n",
    "if irelevant_rules.endswith('|\\\\b'):\n",
    "    irelevant_rules =irelevant_rules[:-3]   \n",
    "\n",
    "#irelevant_rules = re.compile(irelevant_rules, re.IGNORECASE)\n",
    "\n",
    "print('\\nirelevant_rules:')\n",
    "print(irelevant_rules)\n",
    "\n",
    "# debugging, no longer relevant\n",
    "#find_relevant = lambda x: Counter(relevant_rules.findall(str(x).lower()))\n",
    "#find_exclude = lambda x: Counter(irelevant_rules.findall(str(x).lower()))"
   ]
  },
  {
   "cell_type": "code",
   "execution_count": 88,
   "id": "99122a34-8538-43e3-a2be-a64f59118866",
   "metadata": {
    "id": "99122a34-8538-43e3-a2be-a64f59118866"
   },
   "outputs": [],
   "source": [
    "# remove all the filtered paths, if they exist.\n",
    "df['path'] = df['path'].apply(lambda x: x[:-4] + '_filtered.csv')"
   ]
  },
  {
   "cell_type": "code",
   "execution_count": 89,
   "id": "bb86a45a-42a7-4a4c-b259-4f565d8ade91",
   "metadata": {
    "id": "bb86a45a-42a7-4a4c-b259-4f565d8ade91"
   },
   "outputs": [],
   "source": [
    "# Checks for doublely filtered files.\n",
    "df = df[~df.path.str.contains('_filtered_filtered')]"
   ]
  },
  {
   "cell_type": "markdown",
   "id": "5fcd5676",
   "metadata": {
    "id": "5fcd5676"
   },
   "source": [
    "# Split"
   ]
  },
  {
   "cell_type": "code",
   "execution_count": 90,
   "id": "3ad74114",
   "metadata": {
    "id": "3ad74114",
    "outputId": "46b4d4c1-c042-4761-900d-cc3e954dab30"
   },
   "outputs": [
    {
     "ename": "FileExistsError",
     "evalue": "[WinError 183] Cannot create a file when that file already exists: 'C:\\\\Users\\\\vikas\\\\OneDrive\\\\Documents\\\\GitHub\\\\ConfliBERT_Filter\\\\split\\\\'",
     "output_type": "error",
     "traceback": [
      "\u001b[1;31m---------------------------------------------------------------------------\u001b[0m",
      "\u001b[1;31mFileExistsError\u001b[0m                           Traceback (most recent call last)",
      "\u001b[1;32m~\\AppData\\Local\\Temp/ipykernel_15156/2098251310.py\u001b[0m in \u001b[0;36m<module>\u001b[1;34m\u001b[0m\n\u001b[0;32m      1\u001b[0m \u001b[0mcwd\u001b[0m \u001b[1;33m=\u001b[0m \u001b[0mos\u001b[0m\u001b[1;33m.\u001b[0m\u001b[0mgetcwd\u001b[0m\u001b[1;33m(\u001b[0m\u001b[1;33m)\u001b[0m\u001b[1;33m\u001b[0m\u001b[1;33m\u001b[0m\u001b[0m\n\u001b[1;32m----> 2\u001b[1;33m \u001b[0mos\u001b[0m\u001b[1;33m.\u001b[0m\u001b[0mmkdir\u001b[0m\u001b[1;33m(\u001b[0m\u001b[0mcwd\u001b[0m \u001b[1;33m+\u001b[0m \u001b[1;34m'\\\\split\\\\'\u001b[0m\u001b[1;33m)\u001b[0m\u001b[1;33m\u001b[0m\u001b[1;33m\u001b[0m\u001b[0m\n\u001b[0m\u001b[0;32m      3\u001b[0m \u001b[0mcwd\u001b[0m\u001b[1;33m\u001b[0m\u001b[1;33m\u001b[0m\u001b[0m\n",
      "\u001b[1;31mFileExistsError\u001b[0m: [WinError 183] Cannot create a file when that file already exists: 'C:\\\\Users\\\\vikas\\\\OneDrive\\\\Documents\\\\GitHub\\\\ConfliBERT_Filter\\\\split\\\\'"
     ]
    }
   ],
   "source": [
    "# Makes directory for splits. Do not run if a split folder already exists.\n",
    "cwd = os.getcwd()\n",
    "os.mkdir(cwd + '\\\\split\\\\')\n",
    "cwd"
   ]
  },
  {
   "cell_type": "code",
   "execution_count": 91,
   "id": "34473839",
   "metadata": {
    "ExecuteTime": {
     "end_time": "2021-04-16T17:01:17.485360Z",
     "start_time": "2021-04-16T16:59:30.463879Z"
    },
    "id": "34473839",
    "outputId": "369d93b0-2d84-4ce4-9f63-37cf9032db87",
    "scrolled": true
   },
   "outputs": [
    {
     "name": "stdout",
     "output_type": "stream",
     "text": [
      "INFO: Pandarallel will run on 8 workers.\n",
      "INFO: Pandarallel will use standard multiprocessing data transfer (pipe) to transfer data between the main process and workers.\n",
      "\n",
      "WARNING: You are on Windows. If you detect any issue with pandarallel, be sure you checked out the Troubleshooting page:\n",
      "https://nalepae.github.io/pandarallel/troubleshooting/\n"
     ]
    },
    {
     "ename": "FileNotFoundError",
     "evalue": "[Errno 2] No such file or directory: 'Filter\\\\diaadia\\\\diaadia_filtered.csv'",
     "output_type": "error",
     "traceback": [
      "\u001b[1;31m---------------------------------------------------------------------------\u001b[0m",
      "\u001b[1;31mFileNotFoundError\u001b[0m                         Traceback (most recent call last)",
      "\u001b[1;32m~\\AppData\\Local\\Temp/ipykernel_15156/763954574.py\u001b[0m in \u001b[0;36m<module>\u001b[1;34m\u001b[0m\n\u001b[0;32m      1\u001b[0m \u001b[0mpandarallel\u001b[0m\u001b[1;33m.\u001b[0m\u001b[0minitialize\u001b[0m\u001b[1;33m(\u001b[0m\u001b[0mnb_workers\u001b[0m\u001b[1;33m=\u001b[0m\u001b[1;36m8\u001b[0m\u001b[1;33m,\u001b[0m \u001b[0mprogress_bar\u001b[0m\u001b[1;33m=\u001b[0m\u001b[1;32mFalse\u001b[0m\u001b[1;33m)\u001b[0m\u001b[1;33m\u001b[0m\u001b[1;33m\u001b[0m\u001b[0m\n\u001b[1;32m----> 2\u001b[1;33m \u001b[0m_\u001b[0m \u001b[1;33m=\u001b[0m \u001b[0mdf\u001b[0m\u001b[1;33m.\u001b[0m\u001b[0mapply\u001b[0m\u001b[1;33m(\u001b[0m\u001b[1;32mlambda\u001b[0m \u001b[0mx\u001b[0m\u001b[1;33m:\u001b[0m \u001b[0msplit_large_file\u001b[0m\u001b[1;33m(\u001b[0m\u001b[0mx\u001b[0m\u001b[1;33m[\u001b[0m\u001b[1;34m'path'\u001b[0m\u001b[1;33m]\u001b[0m\u001b[1;33m,\u001b[0m\u001b[0mx\u001b[0m\u001b[1;33m[\u001b[0m\u001b[1;34m'source'\u001b[0m\u001b[1;33m]\u001b[0m\u001b[1;33m,\u001b[0m\u001b[1;34m'split'\u001b[0m\u001b[1;33m)\u001b[0m\u001b[1;33m,\u001b[0m \u001b[0maxis\u001b[0m\u001b[1;33m=\u001b[0m\u001b[1;36m1\u001b[0m\u001b[1;33m)\u001b[0m\u001b[1;33m\u001b[0m\u001b[1;33m\u001b[0m\u001b[0m\n\u001b[0m",
      "\u001b[1;32m~\\AppData\\Local\\Programs\\Python\\Python39\\lib\\site-packages\\pandas\\core\\frame.py\u001b[0m in \u001b[0;36mapply\u001b[1;34m(self, func, axis, raw, result_type, args, **kwargs)\u001b[0m\n\u001b[0;32m   8837\u001b[0m             \u001b[0mkwargs\u001b[0m\u001b[1;33m=\u001b[0m\u001b[0mkwargs\u001b[0m\u001b[1;33m,\u001b[0m\u001b[1;33m\u001b[0m\u001b[1;33m\u001b[0m\u001b[0m\n\u001b[0;32m   8838\u001b[0m         )\n\u001b[1;32m-> 8839\u001b[1;33m         \u001b[1;32mreturn\u001b[0m \u001b[0mop\u001b[0m\u001b[1;33m.\u001b[0m\u001b[0mapply\u001b[0m\u001b[1;33m(\u001b[0m\u001b[1;33m)\u001b[0m\u001b[1;33m.\u001b[0m\u001b[0m__finalize__\u001b[0m\u001b[1;33m(\u001b[0m\u001b[0mself\u001b[0m\u001b[1;33m,\u001b[0m \u001b[0mmethod\u001b[0m\u001b[1;33m=\u001b[0m\u001b[1;34m\"apply\"\u001b[0m\u001b[1;33m)\u001b[0m\u001b[1;33m\u001b[0m\u001b[1;33m\u001b[0m\u001b[0m\n\u001b[0m\u001b[0;32m   8840\u001b[0m \u001b[1;33m\u001b[0m\u001b[0m\n\u001b[0;32m   8841\u001b[0m     def applymap(\n",
      "\u001b[1;32m~\\AppData\\Local\\Programs\\Python\\Python39\\lib\\site-packages\\pandas\\core\\apply.py\u001b[0m in \u001b[0;36mapply\u001b[1;34m(self)\u001b[0m\n\u001b[0;32m    725\u001b[0m             \u001b[1;32mreturn\u001b[0m \u001b[0mself\u001b[0m\u001b[1;33m.\u001b[0m\u001b[0mapply_raw\u001b[0m\u001b[1;33m(\u001b[0m\u001b[1;33m)\u001b[0m\u001b[1;33m\u001b[0m\u001b[1;33m\u001b[0m\u001b[0m\n\u001b[0;32m    726\u001b[0m \u001b[1;33m\u001b[0m\u001b[0m\n\u001b[1;32m--> 727\u001b[1;33m         \u001b[1;32mreturn\u001b[0m \u001b[0mself\u001b[0m\u001b[1;33m.\u001b[0m\u001b[0mapply_standard\u001b[0m\u001b[1;33m(\u001b[0m\u001b[1;33m)\u001b[0m\u001b[1;33m\u001b[0m\u001b[1;33m\u001b[0m\u001b[0m\n\u001b[0m\u001b[0;32m    728\u001b[0m \u001b[1;33m\u001b[0m\u001b[0m\n\u001b[0;32m    729\u001b[0m     \u001b[1;32mdef\u001b[0m \u001b[0magg\u001b[0m\u001b[1;33m(\u001b[0m\u001b[0mself\u001b[0m\u001b[1;33m)\u001b[0m\u001b[1;33m:\u001b[0m\u001b[1;33m\u001b[0m\u001b[1;33m\u001b[0m\u001b[0m\n",
      "\u001b[1;32m~\\AppData\\Local\\Programs\\Python\\Python39\\lib\\site-packages\\pandas\\core\\apply.py\u001b[0m in \u001b[0;36mapply_standard\u001b[1;34m(self)\u001b[0m\n\u001b[0;32m    849\u001b[0m \u001b[1;33m\u001b[0m\u001b[0m\n\u001b[0;32m    850\u001b[0m     \u001b[1;32mdef\u001b[0m \u001b[0mapply_standard\u001b[0m\u001b[1;33m(\u001b[0m\u001b[0mself\u001b[0m\u001b[1;33m)\u001b[0m\u001b[1;33m:\u001b[0m\u001b[1;33m\u001b[0m\u001b[1;33m\u001b[0m\u001b[0m\n\u001b[1;32m--> 851\u001b[1;33m         \u001b[0mresults\u001b[0m\u001b[1;33m,\u001b[0m \u001b[0mres_index\u001b[0m \u001b[1;33m=\u001b[0m \u001b[0mself\u001b[0m\u001b[1;33m.\u001b[0m\u001b[0mapply_series_generator\u001b[0m\u001b[1;33m(\u001b[0m\u001b[1;33m)\u001b[0m\u001b[1;33m\u001b[0m\u001b[1;33m\u001b[0m\u001b[0m\n\u001b[0m\u001b[0;32m    852\u001b[0m \u001b[1;33m\u001b[0m\u001b[0m\n\u001b[0;32m    853\u001b[0m         \u001b[1;31m# wrap results\u001b[0m\u001b[1;33m\u001b[0m\u001b[1;33m\u001b[0m\u001b[0m\n",
      "\u001b[1;32m~\\AppData\\Local\\Programs\\Python\\Python39\\lib\\site-packages\\pandas\\core\\apply.py\u001b[0m in \u001b[0;36mapply_series_generator\u001b[1;34m(self)\u001b[0m\n\u001b[0;32m    865\u001b[0m             \u001b[1;32mfor\u001b[0m \u001b[0mi\u001b[0m\u001b[1;33m,\u001b[0m \u001b[0mv\u001b[0m \u001b[1;32min\u001b[0m \u001b[0menumerate\u001b[0m\u001b[1;33m(\u001b[0m\u001b[0mseries_gen\u001b[0m\u001b[1;33m)\u001b[0m\u001b[1;33m:\u001b[0m\u001b[1;33m\u001b[0m\u001b[1;33m\u001b[0m\u001b[0m\n\u001b[0;32m    866\u001b[0m                 \u001b[1;31m# ignore SettingWithCopy here in case the user mutates\u001b[0m\u001b[1;33m\u001b[0m\u001b[1;33m\u001b[0m\u001b[0m\n\u001b[1;32m--> 867\u001b[1;33m                 \u001b[0mresults\u001b[0m\u001b[1;33m[\u001b[0m\u001b[0mi\u001b[0m\u001b[1;33m]\u001b[0m \u001b[1;33m=\u001b[0m \u001b[0mself\u001b[0m\u001b[1;33m.\u001b[0m\u001b[0mf\u001b[0m\u001b[1;33m(\u001b[0m\u001b[0mv\u001b[0m\u001b[1;33m)\u001b[0m\u001b[1;33m\u001b[0m\u001b[1;33m\u001b[0m\u001b[0m\n\u001b[0m\u001b[0;32m    868\u001b[0m                 \u001b[1;32mif\u001b[0m \u001b[0misinstance\u001b[0m\u001b[1;33m(\u001b[0m\u001b[0mresults\u001b[0m\u001b[1;33m[\u001b[0m\u001b[0mi\u001b[0m\u001b[1;33m]\u001b[0m\u001b[1;33m,\u001b[0m \u001b[0mABCSeries\u001b[0m\u001b[1;33m)\u001b[0m\u001b[1;33m:\u001b[0m\u001b[1;33m\u001b[0m\u001b[1;33m\u001b[0m\u001b[0m\n\u001b[0;32m    869\u001b[0m                     \u001b[1;31m# If we have a view on v, we need to make a copy because\u001b[0m\u001b[1;33m\u001b[0m\u001b[1;33m\u001b[0m\u001b[0m\n",
      "\u001b[1;32m~\\AppData\\Local\\Temp/ipykernel_15156/763954574.py\u001b[0m in \u001b[0;36m<lambda>\u001b[1;34m(x)\u001b[0m\n\u001b[0;32m      1\u001b[0m \u001b[0mpandarallel\u001b[0m\u001b[1;33m.\u001b[0m\u001b[0minitialize\u001b[0m\u001b[1;33m(\u001b[0m\u001b[0mnb_workers\u001b[0m\u001b[1;33m=\u001b[0m\u001b[1;36m8\u001b[0m\u001b[1;33m,\u001b[0m \u001b[0mprogress_bar\u001b[0m\u001b[1;33m=\u001b[0m\u001b[1;32mFalse\u001b[0m\u001b[1;33m)\u001b[0m\u001b[1;33m\u001b[0m\u001b[1;33m\u001b[0m\u001b[0m\n\u001b[1;32m----> 2\u001b[1;33m \u001b[0m_\u001b[0m \u001b[1;33m=\u001b[0m \u001b[0mdf\u001b[0m\u001b[1;33m.\u001b[0m\u001b[0mapply\u001b[0m\u001b[1;33m(\u001b[0m\u001b[1;32mlambda\u001b[0m \u001b[0mx\u001b[0m\u001b[1;33m:\u001b[0m \u001b[0msplit_large_file\u001b[0m\u001b[1;33m(\u001b[0m\u001b[0mx\u001b[0m\u001b[1;33m[\u001b[0m\u001b[1;34m'path'\u001b[0m\u001b[1;33m]\u001b[0m\u001b[1;33m,\u001b[0m\u001b[0mx\u001b[0m\u001b[1;33m[\u001b[0m\u001b[1;34m'source'\u001b[0m\u001b[1;33m]\u001b[0m\u001b[1;33m,\u001b[0m\u001b[1;34m'split'\u001b[0m\u001b[1;33m)\u001b[0m\u001b[1;33m,\u001b[0m \u001b[0maxis\u001b[0m\u001b[1;33m=\u001b[0m\u001b[1;36m1\u001b[0m\u001b[1;33m)\u001b[0m\u001b[1;33m\u001b[0m\u001b[1;33m\u001b[0m\u001b[0m\n\u001b[0m",
      "\u001b[1;32m~\\AppData\\Local\\Temp/ipykernel_15156/310760502.py\u001b[0m in \u001b[0;36msplit_large_file\u001b[1;34m(filename, source, output, size)\u001b[0m\n\u001b[0;32m     35\u001b[0m \u001b[1;33m\u001b[0m\u001b[0m\n\u001b[0;32m     36\u001b[0m \u001b[1;32mdef\u001b[0m \u001b[0msplit_large_file\u001b[0m\u001b[1;33m(\u001b[0m\u001b[0mfilename\u001b[0m\u001b[1;33m,\u001b[0m \u001b[0msource\u001b[0m\u001b[1;33m,\u001b[0m \u001b[0moutput\u001b[0m\u001b[1;33m,\u001b[0m\u001b[0msize\u001b[0m\u001b[1;33m=\u001b[0m\u001b[1;32mNone\u001b[0m\u001b[1;33m)\u001b[0m\u001b[1;33m:\u001b[0m\u001b[1;33m\u001b[0m\u001b[1;33m\u001b[0m\u001b[0m\n\u001b[1;32m---> 37\u001b[1;33m     \u001b[0mdf1\u001b[0m\u001b[1;33m=\u001b[0m\u001b[0mpd\u001b[0m\u001b[1;33m.\u001b[0m\u001b[0mread_csv\u001b[0m\u001b[1;33m(\u001b[0m\u001b[0mfilename\u001b[0m\u001b[1;33m,\u001b[0m\u001b[0mheader\u001b[0m\u001b[1;33m=\u001b[0m\u001b[1;33m[\u001b[0m\u001b[1;36m0\u001b[0m\u001b[1;33m]\u001b[0m\u001b[1;33m)\u001b[0m\u001b[1;33m\u001b[0m\u001b[1;33m\u001b[0m\u001b[0m\n\u001b[0m\u001b[0;32m     38\u001b[0m     \u001b[1;32mif\u001b[0m \u001b[0msize\u001b[0m \u001b[1;33m==\u001b[0m\u001b[1;32mNone\u001b[0m\u001b[1;33m:\u001b[0m\u001b[1;33m\u001b[0m\u001b[1;33m\u001b[0m\u001b[0m\n\u001b[0;32m     39\u001b[0m         \u001b[0msize\u001b[0m \u001b[1;33m=\u001b[0m \u001b[0mget_csv_size\u001b[0m\u001b[1;33m(\u001b[0m\u001b[0mfilename\u001b[0m\u001b[1;33m)\u001b[0m\u001b[1;33m\u001b[0m\u001b[1;33m\u001b[0m\u001b[0m\n",
      "\u001b[1;32m~\\AppData\\Local\\Programs\\Python\\Python39\\lib\\site-packages\\pandas\\util\\_decorators.py\u001b[0m in \u001b[0;36mwrapper\u001b[1;34m(*args, **kwargs)\u001b[0m\n\u001b[0;32m    309\u001b[0m                     \u001b[0mstacklevel\u001b[0m\u001b[1;33m=\u001b[0m\u001b[0mstacklevel\u001b[0m\u001b[1;33m,\u001b[0m\u001b[1;33m\u001b[0m\u001b[1;33m\u001b[0m\u001b[0m\n\u001b[0;32m    310\u001b[0m                 )\n\u001b[1;32m--> 311\u001b[1;33m             \u001b[1;32mreturn\u001b[0m \u001b[0mfunc\u001b[0m\u001b[1;33m(\u001b[0m\u001b[1;33m*\u001b[0m\u001b[0margs\u001b[0m\u001b[1;33m,\u001b[0m \u001b[1;33m**\u001b[0m\u001b[0mkwargs\u001b[0m\u001b[1;33m)\u001b[0m\u001b[1;33m\u001b[0m\u001b[1;33m\u001b[0m\u001b[0m\n\u001b[0m\u001b[0;32m    312\u001b[0m \u001b[1;33m\u001b[0m\u001b[0m\n\u001b[0;32m    313\u001b[0m         \u001b[1;32mreturn\u001b[0m \u001b[0mwrapper\u001b[0m\u001b[1;33m\u001b[0m\u001b[1;33m\u001b[0m\u001b[0m\n",
      "\u001b[1;32m~\\AppData\\Local\\Programs\\Python\\Python39\\lib\\site-packages\\pandas\\io\\parsers\\readers.py\u001b[0m in \u001b[0;36mread_csv\u001b[1;34m(filepath_or_buffer, sep, delimiter, header, names, index_col, usecols, squeeze, prefix, mangle_dupe_cols, dtype, engine, converters, true_values, false_values, skipinitialspace, skiprows, skipfooter, nrows, na_values, keep_default_na, na_filter, verbose, skip_blank_lines, parse_dates, infer_datetime_format, keep_date_col, date_parser, dayfirst, cache_dates, iterator, chunksize, compression, thousands, decimal, lineterminator, quotechar, quoting, doublequote, escapechar, comment, encoding, encoding_errors, dialect, error_bad_lines, warn_bad_lines, on_bad_lines, delim_whitespace, low_memory, memory_map, float_precision, storage_options)\u001b[0m\n\u001b[0;32m    678\u001b[0m     \u001b[0mkwds\u001b[0m\u001b[1;33m.\u001b[0m\u001b[0mupdate\u001b[0m\u001b[1;33m(\u001b[0m\u001b[0mkwds_defaults\u001b[0m\u001b[1;33m)\u001b[0m\u001b[1;33m\u001b[0m\u001b[1;33m\u001b[0m\u001b[0m\n\u001b[0;32m    679\u001b[0m \u001b[1;33m\u001b[0m\u001b[0m\n\u001b[1;32m--> 680\u001b[1;33m     \u001b[1;32mreturn\u001b[0m \u001b[0m_read\u001b[0m\u001b[1;33m(\u001b[0m\u001b[0mfilepath_or_buffer\u001b[0m\u001b[1;33m,\u001b[0m \u001b[0mkwds\u001b[0m\u001b[1;33m)\u001b[0m\u001b[1;33m\u001b[0m\u001b[1;33m\u001b[0m\u001b[0m\n\u001b[0m\u001b[0;32m    681\u001b[0m \u001b[1;33m\u001b[0m\u001b[0m\n\u001b[0;32m    682\u001b[0m \u001b[1;33m\u001b[0m\u001b[0m\n",
      "\u001b[1;32m~\\AppData\\Local\\Programs\\Python\\Python39\\lib\\site-packages\\pandas\\io\\parsers\\readers.py\u001b[0m in \u001b[0;36m_read\u001b[1;34m(filepath_or_buffer, kwds)\u001b[0m\n\u001b[0;32m    573\u001b[0m \u001b[1;33m\u001b[0m\u001b[0m\n\u001b[0;32m    574\u001b[0m     \u001b[1;31m# Create the parser.\u001b[0m\u001b[1;33m\u001b[0m\u001b[1;33m\u001b[0m\u001b[0m\n\u001b[1;32m--> 575\u001b[1;33m     \u001b[0mparser\u001b[0m \u001b[1;33m=\u001b[0m \u001b[0mTextFileReader\u001b[0m\u001b[1;33m(\u001b[0m\u001b[0mfilepath_or_buffer\u001b[0m\u001b[1;33m,\u001b[0m \u001b[1;33m**\u001b[0m\u001b[0mkwds\u001b[0m\u001b[1;33m)\u001b[0m\u001b[1;33m\u001b[0m\u001b[1;33m\u001b[0m\u001b[0m\n\u001b[0m\u001b[0;32m    576\u001b[0m \u001b[1;33m\u001b[0m\u001b[0m\n\u001b[0;32m    577\u001b[0m     \u001b[1;32mif\u001b[0m \u001b[0mchunksize\u001b[0m \u001b[1;32mor\u001b[0m \u001b[0miterator\u001b[0m\u001b[1;33m:\u001b[0m\u001b[1;33m\u001b[0m\u001b[1;33m\u001b[0m\u001b[0m\n",
      "\u001b[1;32m~\\AppData\\Local\\Programs\\Python\\Python39\\lib\\site-packages\\pandas\\io\\parsers\\readers.py\u001b[0m in \u001b[0;36m__init__\u001b[1;34m(self, f, engine, **kwds)\u001b[0m\n\u001b[0;32m    931\u001b[0m \u001b[1;33m\u001b[0m\u001b[0m\n\u001b[0;32m    932\u001b[0m         \u001b[0mself\u001b[0m\u001b[1;33m.\u001b[0m\u001b[0mhandles\u001b[0m\u001b[1;33m:\u001b[0m \u001b[0mIOHandles\u001b[0m \u001b[1;33m|\u001b[0m \u001b[1;32mNone\u001b[0m \u001b[1;33m=\u001b[0m \u001b[1;32mNone\u001b[0m\u001b[1;33m\u001b[0m\u001b[1;33m\u001b[0m\u001b[0m\n\u001b[1;32m--> 933\u001b[1;33m         \u001b[0mself\u001b[0m\u001b[1;33m.\u001b[0m\u001b[0m_engine\u001b[0m \u001b[1;33m=\u001b[0m \u001b[0mself\u001b[0m\u001b[1;33m.\u001b[0m\u001b[0m_make_engine\u001b[0m\u001b[1;33m(\u001b[0m\u001b[0mf\u001b[0m\u001b[1;33m,\u001b[0m \u001b[0mself\u001b[0m\u001b[1;33m.\u001b[0m\u001b[0mengine\u001b[0m\u001b[1;33m)\u001b[0m\u001b[1;33m\u001b[0m\u001b[1;33m\u001b[0m\u001b[0m\n\u001b[0m\u001b[0;32m    934\u001b[0m \u001b[1;33m\u001b[0m\u001b[0m\n\u001b[0;32m    935\u001b[0m     \u001b[1;32mdef\u001b[0m \u001b[0mclose\u001b[0m\u001b[1;33m(\u001b[0m\u001b[0mself\u001b[0m\u001b[1;33m)\u001b[0m\u001b[1;33m:\u001b[0m\u001b[1;33m\u001b[0m\u001b[1;33m\u001b[0m\u001b[0m\n",
      "\u001b[1;32m~\\AppData\\Local\\Programs\\Python\\Python39\\lib\\site-packages\\pandas\\io\\parsers\\readers.py\u001b[0m in \u001b[0;36m_make_engine\u001b[1;34m(self, f, engine)\u001b[0m\n\u001b[0;32m   1215\u001b[0m             \u001b[1;31m# \"Union[str, PathLike[str], ReadCsvBuffer[bytes], ReadCsvBuffer[str]]\"\u001b[0m\u001b[1;33m\u001b[0m\u001b[1;33m\u001b[0m\u001b[0m\n\u001b[0;32m   1216\u001b[0m             \u001b[1;31m# , \"str\", \"bool\", \"Any\", \"Any\", \"Any\", \"Any\", \"Any\"\u001b[0m\u001b[1;33m\u001b[0m\u001b[1;33m\u001b[0m\u001b[0m\n\u001b[1;32m-> 1217\u001b[1;33m             self.handles = get_handle(  # type: ignore[call-overload]\n\u001b[0m\u001b[0;32m   1218\u001b[0m                 \u001b[0mf\u001b[0m\u001b[1;33m,\u001b[0m\u001b[1;33m\u001b[0m\u001b[1;33m\u001b[0m\u001b[0m\n\u001b[0;32m   1219\u001b[0m                 \u001b[0mmode\u001b[0m\u001b[1;33m,\u001b[0m\u001b[1;33m\u001b[0m\u001b[1;33m\u001b[0m\u001b[0m\n",
      "\u001b[1;32m~\\AppData\\Local\\Programs\\Python\\Python39\\lib\\site-packages\\pandas\\io\\common.py\u001b[0m in \u001b[0;36mget_handle\u001b[1;34m(path_or_buf, mode, encoding, compression, memory_map, is_text, errors, storage_options)\u001b[0m\n\u001b[0;32m    787\u001b[0m         \u001b[1;32mif\u001b[0m \u001b[0mioargs\u001b[0m\u001b[1;33m.\u001b[0m\u001b[0mencoding\u001b[0m \u001b[1;32mand\u001b[0m \u001b[1;34m\"b\"\u001b[0m \u001b[1;32mnot\u001b[0m \u001b[1;32min\u001b[0m \u001b[0mioargs\u001b[0m\u001b[1;33m.\u001b[0m\u001b[0mmode\u001b[0m\u001b[1;33m:\u001b[0m\u001b[1;33m\u001b[0m\u001b[1;33m\u001b[0m\u001b[0m\n\u001b[0;32m    788\u001b[0m             \u001b[1;31m# Encoding\u001b[0m\u001b[1;33m\u001b[0m\u001b[1;33m\u001b[0m\u001b[0m\n\u001b[1;32m--> 789\u001b[1;33m             handle = open(\n\u001b[0m\u001b[0;32m    790\u001b[0m                 \u001b[0mhandle\u001b[0m\u001b[1;33m,\u001b[0m\u001b[1;33m\u001b[0m\u001b[1;33m\u001b[0m\u001b[0m\n\u001b[0;32m    791\u001b[0m                 \u001b[0mioargs\u001b[0m\u001b[1;33m.\u001b[0m\u001b[0mmode\u001b[0m\u001b[1;33m,\u001b[0m\u001b[1;33m\u001b[0m\u001b[1;33m\u001b[0m\u001b[0m\n",
      "\u001b[1;31mFileNotFoundError\u001b[0m: [Errno 2] No such file or directory: 'Filter\\\\diaadia\\\\diaadia_filtered.csv'"
     ]
    }
   ],
   "source": [
    "# splits all files above a certain MB limit\n",
    "pandarallel.initialize(nb_workers=8, progress_bar=False)       \n",
    "_ = df.apply(lambda x: split_large_file(x['path'],x['source'],'split'), axis=1) "
   ]
  },
  {
   "cell_type": "code",
   "execution_count": 92,
   "id": "2c557d03",
   "metadata": {
    "ExecuteTime": {
     "end_time": "2021-04-16T17:01:18.244896Z",
     "start_time": "2021-04-16T17:01:17.488808Z"
    },
    "id": "2c557d03",
    "outputId": "d5b893dc-dfac-4b5d-fc6e-ec3f90ec901d"
   },
   "outputs": [
    {
     "data": {
      "text/html": [
       "<div>\n",
       "<style scoped>\n",
       "    .dataframe tbody tr th:only-of-type {\n",
       "        vertical-align: middle;\n",
       "    }\n",
       "\n",
       "    .dataframe tbody tr th {\n",
       "        vertical-align: top;\n",
       "    }\n",
       "\n",
       "    .dataframe thead th {\n",
       "        text-align: right;\n",
       "    }\n",
       "</style>\n",
       "<table border=\"1\" class=\"dataframe\">\n",
       "  <thead>\n",
       "    <tr style=\"text-align: right;\">\n",
       "      <th></th>\n",
       "      <th>path</th>\n",
       "      <th>root</th>\n",
       "      <th>source</th>\n",
       "      <th>filename</th>\n",
       "      <th>size</th>\n",
       "    </tr>\n",
       "  </thead>\n",
       "  <tbody>\n",
       "    <tr>\n",
       "      <th>0</th>\n",
       "      <td>split\\diaadia_000.csv</td>\n",
       "      <td>split</td>\n",
       "      <td>diaadia</td>\n",
       "      <td>diaadia_000.csv</td>\n",
       "      <td>28.1</td>\n",
       "    </tr>\n",
       "    <tr>\n",
       "      <th>1</th>\n",
       "      <td>split\\diaadia_001.csv</td>\n",
       "      <td>split</td>\n",
       "      <td>diaadia</td>\n",
       "      <td>diaadia_001.csv</td>\n",
       "      <td>21.2</td>\n",
       "    </tr>\n",
       "    <tr>\n",
       "      <th>2</th>\n",
       "      <td>split\\elpanam_000.csv</td>\n",
       "      <td>split</td>\n",
       "      <td>elpanam</td>\n",
       "      <td>elpanam_000.csv</td>\n",
       "      <td>2.3</td>\n",
       "    </tr>\n",
       "    <tr>\n",
       "      <th>3</th>\n",
       "      <td>split\\lacritica_000.csv</td>\n",
       "      <td>split</td>\n",
       "      <td>lacritica</td>\n",
       "      <td>lacritica_000.csv</td>\n",
       "      <td>10.2</td>\n",
       "    </tr>\n",
       "    <tr>\n",
       "      <th>4</th>\n",
       "      <td>split\\laprensa_000.csv</td>\n",
       "      <td>split</td>\n",
       "      <td>laprensa</td>\n",
       "      <td>laprensa_000.csv</td>\n",
       "      <td>0.0</td>\n",
       "    </tr>\n",
       "  </tbody>\n",
       "</table>\n",
       "</div>"
      ],
      "text/plain": [
       "                      path   root     source           filename  size\n",
       "0    split\\diaadia_000.csv  split    diaadia    diaadia_000.csv  28.1\n",
       "1    split\\diaadia_001.csv  split    diaadia    diaadia_001.csv  21.2\n",
       "2    split\\elpanam_000.csv  split    elpanam    elpanam_000.csv   2.3\n",
       "3  split\\lacritica_000.csv  split  lacritica  lacritica_000.csv  10.2\n",
       "4   split\\laprensa_000.csv  split   laprensa   laprensa_000.csv   0.0"
      ]
     },
     "execution_count": 92,
     "metadata": {},
     "output_type": "execute_result"
    }
   ],
   "source": [
    "# Debugging, if there are issues here, let me know.\n",
    "df = show_all_files('split')\n",
    "df"
   ]
  },
  {
   "cell_type": "code",
   "execution_count": 93,
   "id": "97afac67",
   "metadata": {
    "ExecuteTime": {
     "end_time": "2021-04-16T17:01:18.260861Z",
     "start_time": "2021-04-16T17:01:18.246535Z"
    },
    "id": "97afac67",
    "outputId": "dbe431bf-e848-4340-a896-31bc0e58d564"
   },
   "outputs": [
    {
     "data": {
      "text/plain": [
       "count     5.000000\n",
       "mean     12.360000\n",
       "std      12.088548\n",
       "min       0.000000\n",
       "25%       2.300000\n",
       "50%      10.200000\n",
       "75%      21.200000\n",
       "max      28.100000\n",
       "Name: size, dtype: float64"
      ]
     },
     "execution_count": 93,
     "metadata": {},
     "output_type": "execute_result"
    }
   ],
   "source": [
    "# Check file sizes.\n",
    "df['size'].describe()"
   ]
  },
  {
   "cell_type": "markdown",
   "id": "f58bb83b",
   "metadata": {
    "id": "f58bb83b"
   },
   "source": [
    "# step 1  clean"
   ]
  },
  {
   "cell_type": "code",
   "execution_count": 174,
   "id": "36381c42",
   "metadata": {
    "ExecuteTime": {
     "end_time": "2021-04-16T17:01:19.018083Z",
     "start_time": "2021-04-16T17:01:18.262396Z"
    },
    "id": "36381c42",
    "outputId": "241264ae-5408-4ed3-e752-11db8a9646d4",
    "scrolled": true
   },
   "outputs": [
    {
     "data": {
      "text/html": [
       "<div>\n",
       "<style scoped>\n",
       "    .dataframe tbody tr th:only-of-type {\n",
       "        vertical-align: middle;\n",
       "    }\n",
       "\n",
       "    .dataframe tbody tr th {\n",
       "        vertical-align: top;\n",
       "    }\n",
       "\n",
       "    .dataframe thead th {\n",
       "        text-align: right;\n",
       "    }\n",
       "</style>\n",
       "<table border=\"1\" class=\"dataframe\">\n",
       "  <thead>\n",
       "    <tr style=\"text-align: right;\">\n",
       "      <th></th>\n",
       "      <th>path</th>\n",
       "      <th>root</th>\n",
       "      <th>source</th>\n",
       "      <th>filename</th>\n",
       "      <th>size</th>\n",
       "    </tr>\n",
       "  </thead>\n",
       "  <tbody>\n",
       "    <tr>\n",
       "      <th>0</th>\n",
       "      <td>split\\diaadia_000.csv</td>\n",
       "      <td>split</td>\n",
       "      <td>diaadia</td>\n",
       "      <td>diaadia_000.csv</td>\n",
       "      <td>28.1</td>\n",
       "    </tr>\n",
       "    <tr>\n",
       "      <th>1</th>\n",
       "      <td>split\\diaadia_001.csv</td>\n",
       "      <td>split</td>\n",
       "      <td>diaadia</td>\n",
       "      <td>diaadia_001.csv</td>\n",
       "      <td>21.2</td>\n",
       "    </tr>\n",
       "    <tr>\n",
       "      <th>2</th>\n",
       "      <td>split\\elpanam_000.csv</td>\n",
       "      <td>split</td>\n",
       "      <td>elpanam</td>\n",
       "      <td>elpanam_000.csv</td>\n",
       "      <td>2.3</td>\n",
       "    </tr>\n",
       "    <tr>\n",
       "      <th>3</th>\n",
       "      <td>split\\lacritica_000.csv</td>\n",
       "      <td>split</td>\n",
       "      <td>lacritica</td>\n",
       "      <td>lacritica_000.csv</td>\n",
       "      <td>10.2</td>\n",
       "    </tr>\n",
       "    <tr>\n",
       "      <th>4</th>\n",
       "      <td>split\\laprensa_000.csv</td>\n",
       "      <td>split</td>\n",
       "      <td>laprensa</td>\n",
       "      <td>laprensa_000.csv</td>\n",
       "      <td>0.0</td>\n",
       "    </tr>\n",
       "  </tbody>\n",
       "</table>\n",
       "</div>"
      ],
      "text/plain": [
       "                      path   root     source           filename  size\n",
       "0    split\\diaadia_000.csv  split    diaadia    diaadia_000.csv  28.1\n",
       "1    split\\diaadia_001.csv  split    diaadia    diaadia_001.csv  21.2\n",
       "2    split\\elpanam_000.csv  split    elpanam    elpanam_000.csv   2.3\n",
       "3  split\\lacritica_000.csv  split  lacritica  lacritica_000.csv  10.2\n",
       "4   split\\laprensa_000.csv  split   laprensa   laprensa_000.csv   0.0"
      ]
     },
     "execution_count": 174,
     "metadata": {},
     "output_type": "execute_result"
    }
   ],
   "source": [
    "df = show_all_files('split')\n",
    "# df['attribute'] = df.path.parallel_apply(get_attribute)\n",
    "df"
   ]
  },
  {
   "cell_type": "code",
   "execution_count": 95,
   "id": "9fd3ce25",
   "metadata": {
    "id": "9fd3ce25",
    "outputId": "3a0efd92-deda-433a-ba7f-017c50fa38f2"
   },
   "outputs": [
    {
     "data": {
      "text/plain": [
       "array(['diaadia', 'elpanam', 'lacritica', 'laprensa'], dtype=object)"
      ]
     },
     "execution_count": 95,
     "metadata": {},
     "output_type": "execute_result"
    }
   ],
   "source": [
    "df.source.unique()"
   ]
  },
  {
   "cell_type": "code",
   "execution_count": 175,
   "id": "db9db0b2",
   "metadata": {
    "id": "db9db0b2",
    "outputId": "825cdd49-6cc6-48bf-b9b0-ecdae35e36be"
   },
   "outputs": [
    {
     "name": "stdout",
     "output_type": "stream",
     "text": [
      "total size: 61.8\n"
     ]
    },
    {
     "data": {
      "text/html": [
       "<div>\n",
       "<style scoped>\n",
       "    .dataframe tbody tr th:only-of-type {\n",
       "        vertical-align: middle;\n",
       "    }\n",
       "\n",
       "    .dataframe tbody tr th {\n",
       "        vertical-align: top;\n",
       "    }\n",
       "\n",
       "    .dataframe thead th {\n",
       "        text-align: right;\n",
       "    }\n",
       "</style>\n",
       "<table border=\"1\" class=\"dataframe\">\n",
       "  <thead>\n",
       "    <tr style=\"text-align: right;\">\n",
       "      <th></th>\n",
       "      <th>size</th>\n",
       "    </tr>\n",
       "    <tr>\n",
       "      <th>source</th>\n",
       "      <th></th>\n",
       "    </tr>\n",
       "  </thead>\n",
       "  <tbody>\n",
       "    <tr>\n",
       "      <th>diaadia</th>\n",
       "      <td>49.3</td>\n",
       "    </tr>\n",
       "    <tr>\n",
       "      <th>elpanam</th>\n",
       "      <td>2.3</td>\n",
       "    </tr>\n",
       "    <tr>\n",
       "      <th>lacritica</th>\n",
       "      <td>10.2</td>\n",
       "    </tr>\n",
       "    <tr>\n",
       "      <th>laprensa</th>\n",
       "      <td>0.0</td>\n",
       "    </tr>\n",
       "  </tbody>\n",
       "</table>\n",
       "</div>"
      ],
      "text/plain": [
       "           size\n",
       "source         \n",
       "diaadia    49.3\n",
       "elpanam     2.3\n",
       "lacritica  10.2\n",
       "laprensa    0.0"
      ]
     },
     "execution_count": 175,
     "metadata": {},
     "output_type": "execute_result"
    }
   ],
   "source": [
    "print('total size:', df['size'].sum())\n",
    "df.groupby(by=[\"source\"], dropna=False).sum()"
   ]
  },
  {
   "cell_type": "code",
   "execution_count": 97,
   "id": "03ef00fd",
   "metadata": {
    "ExecuteTime": {
     "end_time": "2021-04-16T17:01:19.031335Z",
     "start_time": "2021-04-16T17:01:19.019496Z"
    },
    "code_folding": [],
    "id": "03ef00fd"
   },
   "outputs": [],
   "source": [
    "# Cleans the given files.\n",
    "def basic_process(filename, output_folder):\n",
    "    \n",
    "    sizes = []\n",
    "    \n",
    "    df1 = pd.read_csv(filename, header=[0])\n",
    "    sizes.append(df1.shape[0])\n",
    "    \n",
    "    if 'url' not in df1.columns:\n",
    "        df1['url'] ='\\n'\n",
    "    if 'title' not in df1.columns:\n",
    "        df1['title']='\\n'\n",
    "    \n",
    "#     df1 = df1[~df1.url.isnull()]\n",
    "    \n",
    "    df1 = df1[~df1.text.isnull()]\n",
    "    df1 = df1[~df1.text.duplicated()]\n",
    "#     df1 = df1[~df1.url.duplicated()]\n",
    "    \n",
    "    df1.loc[df1.title.isnull(),'title']='\\n'\n",
    "    df1.loc[df1.url.isnull(),'url']='\\n'\n",
    "    if 'abstract' in df1:\n",
    "        df1.loc[df1.abstract.isnull(),'abstract']='\\n'\n",
    "        \n",
    "    # ------------------- Start cleaning  --------------------------#\n",
    "    \n",
    "    # Convert coding\n",
    "    df1.text = df1.text.apply(lambda x: unicodetoascii(x))\n",
    "    df1.text = df1.text.apply(lambda x: unicodedata.normalize(\"NFKD\", x))\n",
    "    \n",
    "    # email\n",
    "    df1.text = df1.text.apply(lambda x: re.sub(\"\\S+@\\S+(?:\\.\\S+)+\",'',x))\n",
    "    \n",
    "    # telphone\n",
    "    df1.text = df1.text.apply(lambda x: re.sub('\\(\\+( |-|\\d)+\\)( |-|\\d)+',' ',x))\n",
    "    df1.text = df1.text.apply(lambda x: re.sub('\\+( |-|\\d)+',' ',x))\n",
    "    \n",
    "    # noise\n",
    "    df1.text =\\\n",
    "    df1.text.apply(lambda x: re.sub('\\n(ad|advertisement|tweet):?\\n', \"\", x, flags=re.IGNORECASE))\n",
    "    \n",
    "    # urls\n",
    "    df1.text = df1.text.apply(lambda x: re.sub(r\"http\\S+\", \"\", x))\n",
    "    \n",
    "    # delete too many \\n\n",
    "    df1.text = df1.text.apply(lambda x: re.sub('\\n\\n+', \"\\n\\n\", x, flags=re.IGNORECASE))\n",
    "    \n",
    "    # head and tails\n",
    "    df1.text = df1.text.apply(lambda x: re.sub(\"^\\s+|\\s+$\", \"\", x, flags=re.UNICODE)) \n",
    "    \n",
    "    \n",
    "    df1 = df1[df1.text.str.len()>100]\n",
    "    \n",
    "    sizes.append(df1.shape[0])\n",
    "    \n",
    "    # ------------------- Ending cleaning  --------------------------#\n",
    "    \n",
    "    filename = filename.split('\\\\')[1]\n",
    "    new_filename = output_folder + '/'+ filename\n",
    "\n",
    "    print('%s:\\t%s'%(filename, sizes))\n",
    "    df1.to_csv(new_filename, index= False)\n",
    "    return"
   ]
  },
  {
   "cell_type": "code",
   "execution_count": 176,
   "id": "e7707fcd",
   "metadata": {
    "ExecuteTime": {
     "end_time": "2021-04-16T17:03:25.696688Z",
     "start_time": "2021-04-16T17:01:19.032425Z"
    },
    "id": "e7707fcd",
    "outputId": "57ebce38-cd53-4f4a-93ff-3b5568ab950d",
    "scrolled": true
   },
   "outputs": [
    {
     "name": "stdout",
     "output_type": "stream",
     "text": [
      "INFO: Pandarallel will run on 8 workers.\n",
      "INFO: Pandarallel will use standard multiprocessing data transfer (pipe) to transfer data between the main process and workers.\n",
      "\n",
      "WARNING: You are on Windows. If you detect any issue with pandarallel, be sure you checked out the Troubleshooting page:\n",
      "https://nalepae.github.io/pandarallel/troubleshooting/\n",
      "diaadia_000.csv:\t[10741, 10741]\n",
      "diaadia_001.csv:\t[10767, 10767]\n",
      "elpanam_000.csv:\t[619, 619]\n",
      "lacritica_000.csv:\t[2959, 2959]\n",
      "laprensa_000.csv:\t[1, 1]\n"
     ]
    }
   ],
   "source": [
    "# Takes the splits and filters them.\n",
    "pandarallel.initialize(nb_workers=8, progress_bar=False) \n",
    "_ = df['path'].apply(basic_process, output_folder='split')"
   ]
  },
  {
   "cell_type": "code",
   "execution_count": 177,
   "id": "862bec9c",
   "metadata": {
    "ExecuteTime": {
     "end_time": "2021-04-16T17:03:25.885526Z",
     "start_time": "2021-04-16T17:03:25.700419Z"
    },
    "id": "862bec9c",
    "outputId": "4095e280-8ffa-4328-d24f-dcb4659ff2d9"
   },
   "outputs": [
    {
     "data": {
      "text/html": [
       "<div>\n",
       "<style scoped>\n",
       "    .dataframe tbody tr th:only-of-type {\n",
       "        vertical-align: middle;\n",
       "    }\n",
       "\n",
       "    .dataframe tbody tr th {\n",
       "        vertical-align: top;\n",
       "    }\n",
       "\n",
       "    .dataframe thead th {\n",
       "        text-align: right;\n",
       "    }\n",
       "</style>\n",
       "<table border=\"1\" class=\"dataframe\">\n",
       "  <thead>\n",
       "    <tr style=\"text-align: right;\">\n",
       "      <th></th>\n",
       "      <th>path</th>\n",
       "      <th>root</th>\n",
       "      <th>source</th>\n",
       "      <th>filename</th>\n",
       "      <th>size</th>\n",
       "    </tr>\n",
       "  </thead>\n",
       "  <tbody>\n",
       "    <tr>\n",
       "      <th>0</th>\n",
       "      <td>split\\diaadia_000.csv</td>\n",
       "      <td>split</td>\n",
       "      <td>diaadia</td>\n",
       "      <td>diaadia_000.csv</td>\n",
       "      <td>28.1</td>\n",
       "    </tr>\n",
       "    <tr>\n",
       "      <th>1</th>\n",
       "      <td>split\\diaadia_001.csv</td>\n",
       "      <td>split</td>\n",
       "      <td>diaadia</td>\n",
       "      <td>diaadia_001.csv</td>\n",
       "      <td>21.2</td>\n",
       "    </tr>\n",
       "    <tr>\n",
       "      <th>2</th>\n",
       "      <td>split\\elpanam_000.csv</td>\n",
       "      <td>split</td>\n",
       "      <td>elpanam</td>\n",
       "      <td>elpanam_000.csv</td>\n",
       "      <td>2.3</td>\n",
       "    </tr>\n",
       "    <tr>\n",
       "      <th>3</th>\n",
       "      <td>split\\lacritica_000.csv</td>\n",
       "      <td>split</td>\n",
       "      <td>lacritica</td>\n",
       "      <td>lacritica_000.csv</td>\n",
       "      <td>10.2</td>\n",
       "    </tr>\n",
       "    <tr>\n",
       "      <th>4</th>\n",
       "      <td>split\\laprensa_000.csv</td>\n",
       "      <td>split</td>\n",
       "      <td>laprensa</td>\n",
       "      <td>laprensa_000.csv</td>\n",
       "      <td>0.0</td>\n",
       "    </tr>\n",
       "  </tbody>\n",
       "</table>\n",
       "</div>"
      ],
      "text/plain": [
       "                      path   root     source           filename  size\n",
       "0    split\\diaadia_000.csv  split    diaadia    diaadia_000.csv  28.1\n",
       "1    split\\diaadia_001.csv  split    diaadia    diaadia_001.csv  21.2\n",
       "2    split\\elpanam_000.csv  split    elpanam    elpanam_000.csv   2.3\n",
       "3  split\\lacritica_000.csv  split  lacritica  lacritica_000.csv  10.2\n",
       "4   split\\laprensa_000.csv  split   laprensa   laprensa_000.csv   0.0"
      ]
     },
     "execution_count": 177,
     "metadata": {},
     "output_type": "execute_result"
    }
   ],
   "source": [
    "df = show_all_files('split')\n",
    "df"
   ]
  },
  {
   "cell_type": "code",
   "execution_count": 178,
   "id": "60857c57",
   "metadata": {
    "ExecuteTime": {
     "end_time": "2021-04-16T17:03:25.905012Z",
     "start_time": "2021-04-16T17:03:25.888171Z"
    },
    "id": "60857c57",
    "outputId": "2b048c50-7ca9-4941-f0fd-615907955e06"
   },
   "outputs": [
    {
     "name": "stdout",
     "output_type": "stream",
     "text": [
      "total size: 61.8\n"
     ]
    },
    {
     "data": {
      "text/html": [
       "<div>\n",
       "<style scoped>\n",
       "    .dataframe tbody tr th:only-of-type {\n",
       "        vertical-align: middle;\n",
       "    }\n",
       "\n",
       "    .dataframe tbody tr th {\n",
       "        vertical-align: top;\n",
       "    }\n",
       "\n",
       "    .dataframe thead th {\n",
       "        text-align: right;\n",
       "    }\n",
       "</style>\n",
       "<table border=\"1\" class=\"dataframe\">\n",
       "  <thead>\n",
       "    <tr style=\"text-align: right;\">\n",
       "      <th></th>\n",
       "      <th>size</th>\n",
       "    </tr>\n",
       "    <tr>\n",
       "      <th>source</th>\n",
       "      <th></th>\n",
       "    </tr>\n",
       "  </thead>\n",
       "  <tbody>\n",
       "    <tr>\n",
       "      <th>diaadia</th>\n",
       "      <td>49.3</td>\n",
       "    </tr>\n",
       "    <tr>\n",
       "      <th>elpanam</th>\n",
       "      <td>2.3</td>\n",
       "    </tr>\n",
       "    <tr>\n",
       "      <th>lacritica</th>\n",
       "      <td>10.2</td>\n",
       "    </tr>\n",
       "    <tr>\n",
       "      <th>laprensa</th>\n",
       "      <td>0.0</td>\n",
       "    </tr>\n",
       "  </tbody>\n",
       "</table>\n",
       "</div>"
      ],
      "text/plain": [
       "           size\n",
       "source         \n",
       "diaadia    49.3\n",
       "elpanam     2.3\n",
       "lacritica  10.2\n",
       "laprensa    0.0"
      ]
     },
     "execution_count": 178,
     "metadata": {},
     "output_type": "execute_result"
    }
   ],
   "source": [
    "print('total size:', df['size'].sum())\n",
    "df.groupby(by=[\"source\"], dropna=False).sum()"
   ]
  },
  {
   "cell_type": "markdown",
   "id": "BGGg5UFA9jyD",
   "metadata": {
    "id": "BGGg5UFA9jyD"
   },
   "source": [
    "### Filter"
   ]
  },
  {
   "cell_type": "code",
   "execution_count": 179,
   "id": "85959b26-4cdc-4550-a417-1a02a9122ab2",
   "metadata": {},
   "outputs": [],
   "source": [
    "# defines a metric for number of relevant and irrelevant words.\n",
    "def find_relevant(str):\n",
    "    return len(re.findall(relevant_rules, str))\n",
    "def find_irelevant(str):\n",
    "    return len(re.findall(irelevant_rules, str))"
   ]
  },
  {
   "cell_type": "code",
   "execution_count": 180,
   "id": "9b7c32c2-8b9c-49b7-a799-b050f5e481d0",
   "metadata": {
    "id": "9b7c32c2-8b9c-49b7-a799-b050f5e481d0",
    "outputId": "4104500f-7c73-4335-9b9c-57cc80cf878f"
   },
   "outputs": [],
   "source": [
    "# find_relevant = lambda x: Counter(relevant_rules.findall(x.lower()))\n",
    "# find_exclude = lambda x: Counter(irelevant_rules.findall(x.lower()))\n",
    "#\n",
    "\n",
    "# for each file, open and read into dataframe, then make sure text is NOT null\n",
    "for path in df.path:\n",
    "    df1 = pd.read_csv(path, header=[0])\n",
    "    df1 = df1[~df1.text.isnull()]\n",
    "    df1['relevant'] = df1['text'].apply(find_relevant)\n",
    "    df1['irrelevant'] = df1['text'].apply(find_irelevant)\n",
    "# The next three lines are the filter, can be changed based on the needs of the project. Currently, throw out all rows with more than two irrelevant words/regex\n",
    "    df2 = df1[(df1['relevant'] < 2)]\n",
    "    df2 = df2[(df2['irrelevant'] > 5)]\n",
    "    df1 = pd.merge(df1,df2, indicator=True, how='outer').query('_merge==\"left_only\"').drop('_merge', axis=1)\n",
    "    \n",
    "    df1 = df1.drop('relevant', axis=1)\n",
    "    df1 = df1.drop('irrelevant', axis=1)\n",
    "# next line is debugging    \n",
    "    # print(df1)\n",
    "# create a filtered file with the given dataframe, will appear in same folder as unfiltered\n",
    "\n",
    "    df1.to_csv(path[:-4] + '_filtered.csv')"
   ]
  },
  {
   "cell_type": "markdown",
   "id": "ae742ab3",
   "metadata": {
    "id": "ae742ab3"
   },
   "source": [
    "# save to json"
   ]
  },
  {
   "cell_type": "code",
   "execution_count": 181,
   "id": "867e58dd",
   "metadata": {
    "id": "867e58dd",
    "outputId": "54ec73ba-e33e-48b2-8313-deaf3e3a3436"
   },
   "outputs": [
    {
     "data": {
      "text/html": [
       "<div>\n",
       "<style scoped>\n",
       "    .dataframe tbody tr th:only-of-type {\n",
       "        vertical-align: middle;\n",
       "    }\n",
       "\n",
       "    .dataframe tbody tr th {\n",
       "        vertical-align: top;\n",
       "    }\n",
       "\n",
       "    .dataframe thead th {\n",
       "        text-align: right;\n",
       "    }\n",
       "</style>\n",
       "<table border=\"1\" class=\"dataframe\">\n",
       "  <thead>\n",
       "    <tr style=\"text-align: right;\">\n",
       "      <th></th>\n",
       "      <th>path</th>\n",
       "      <th>source</th>\n",
       "      <th>filename</th>\n",
       "      <th>json_file</th>\n",
       "      <th>tar_file</th>\n",
       "    </tr>\n",
       "  </thead>\n",
       "  <tbody>\n",
       "    <tr>\n",
       "      <th>9</th>\n",
       "      <td>split\\diaadia_000_filtered.csv</td>\n",
       "      <td>diaadia</td>\n",
       "      <td>diaadia_000_filtered.csv</td>\n",
       "      <td>json\\diaadia\\diaadia_000_filtered.json</td>\n",
       "      <td>tar\\diaadia\\diaadia_000_filtered.json.tar.gz</td>\n",
       "    </tr>\n",
       "    <tr>\n",
       "      <th>11</th>\n",
       "      <td>split\\diaadia_001_filtered.csv</td>\n",
       "      <td>diaadia</td>\n",
       "      <td>diaadia_001_filtered.csv</td>\n",
       "      <td>json\\diaadia\\diaadia_001_filtered.json</td>\n",
       "      <td>tar\\diaadia\\diaadia_001_filtered.json.tar.gz</td>\n",
       "    </tr>\n",
       "    <tr>\n",
       "      <th>13</th>\n",
       "      <td>split\\elpanam_000_filtered.csv</td>\n",
       "      <td>elpanam</td>\n",
       "      <td>elpanam_000_filtered.csv</td>\n",
       "      <td>json\\elpanam\\elpanam_000_filtered.json</td>\n",
       "      <td>tar\\elpanam\\elpanam_000_filtered.json.tar.gz</td>\n",
       "    </tr>\n",
       "    <tr>\n",
       "      <th>15</th>\n",
       "      <td>split\\lacritica_000_filtered.csv</td>\n",
       "      <td>lacritica</td>\n",
       "      <td>lacritica_000_filtered.csv</td>\n",
       "      <td>json\\lacritica\\lacritica_000_filtered.json</td>\n",
       "      <td>tar\\lacritica\\lacritica_000_filtered.json.tar.gz</td>\n",
       "    </tr>\n",
       "    <tr>\n",
       "      <th>17</th>\n",
       "      <td>split\\laprensa_000_filtered.csv</td>\n",
       "      <td>laprensa</td>\n",
       "      <td>laprensa_000_filtered.csv</td>\n",
       "      <td>json\\laprensa\\laprensa_000_filtered.json</td>\n",
       "      <td>tar\\laprensa\\laprensa_000_filtered.json.tar.gz</td>\n",
       "    </tr>\n",
       "  </tbody>\n",
       "</table>\n",
       "</div>"
      ],
      "text/plain": [
       "                                path     source                    filename  \\\n",
       "9     split\\diaadia_000_filtered.csv    diaadia    diaadia_000_filtered.csv   \n",
       "11    split\\diaadia_001_filtered.csv    diaadia    diaadia_001_filtered.csv   \n",
       "13    split\\elpanam_000_filtered.csv    elpanam    elpanam_000_filtered.csv   \n",
       "15  split\\lacritica_000_filtered.csv  lacritica  lacritica_000_filtered.csv   \n",
       "17   split\\laprensa_000_filtered.csv   laprensa   laprensa_000_filtered.csv   \n",
       "\n",
       "                                     json_file  \\\n",
       "9       json\\diaadia\\diaadia_000_filtered.json   \n",
       "11      json\\diaadia\\diaadia_001_filtered.json   \n",
       "13      json\\elpanam\\elpanam_000_filtered.json   \n",
       "15  json\\lacritica\\lacritica_000_filtered.json   \n",
       "17    json\\laprensa\\laprensa_000_filtered.json   \n",
       "\n",
       "                                            tar_file  \n",
       "9       tar\\diaadia\\diaadia_000_filtered.json.tar.gz  \n",
       "11      tar\\diaadia\\diaadia_001_filtered.json.tar.gz  \n",
       "13      tar\\elpanam\\elpanam_000_filtered.json.tar.gz  \n",
       "15  tar\\lacritica\\lacritica_000_filtered.json.tar.gz  \n",
       "17    tar\\laprensa\\laprensa_000_filtered.json.tar.gz  "
      ]
     },
     "execution_count": 181,
     "metadata": {},
     "output_type": "execute_result"
    }
   ],
   "source": [
    "# folder = 'none'\n",
    "# df = pd.DataFrame(columns=['path','source', 'filename'])\n",
    "# df.path = [str(x) for x in pathlib.Path('%s/*'%folder).glob('**/*')]\n",
    "df = pd.DataFrame(glob.glob('*\\\\*'), columns = ['path'])\n",
    "df = df[df.path.str.contains('_filtered')]\n",
    "# df['root'] = df.path.apply(lambda x: x.split('/')[0])\n",
    "\n",
    "df['source'] = df.path.apply(lambda x: x.split('\\\\')[1][0:x.index('_')-6])\n",
    "df['filename'] = df.path.apply(lambda x: x.split('\\\\')[-1])\n",
    "\n",
    "# df = df.sort_values('source').reset_index(drop=True)\n",
    "# df['size'] = df['path'].parallel_apply(get_csv_size)\n",
    "# df['filename'] = df.path.apply(lambda x: x.replace('%s/'%folder,''))\n",
    "\n",
    "df['json_file'] = df['filename'].apply(lambda x: x.replace('.csv', '.json'))\n",
    "\n",
    "df['json_file'] = df.source +'\\\\'+ df.json_file\n",
    "df['tar_file'] = 'tar\\\\'+ df.json_file+'.tar.gz'\n",
    "df.json_file = 'json\\\\'+ df.json_file\n",
    "df"
   ]
  },
  {
   "cell_type": "code",
   "execution_count": 154,
   "id": "141f5ca9",
   "metadata": {
    "id": "141f5ca9",
    "outputId": "0bc8b412-6673-493c-93c5-9f2e5099937a"
   },
   "outputs": [],
   "source": [
    "os.mkdir(cwd + '\\\\json\\\\')\n",
    "os.mkdir(cwd + '\\\\tar\\\\')\n",
    "\n",
    "for i in df.source.unique():\n",
    "    os.mkdir(cwd + '\\\\json\\\\'+i)\n",
    "    os.mkdir(cwd + '\\\\tar\\\\'+i)  "
   ]
  },
  {
   "cell_type": "code",
   "execution_count": 156,
   "id": "7481075a",
   "metadata": {
    "id": "7481075a",
    "outputId": "b4b5a075-56b1-4dbb-a1b4-39a22b1c19d1",
    "scrolled": true
   },
   "outputs": [
    {
     "data": {
      "text/html": [
       "<div>\n",
       "<style scoped>\n",
       "    .dataframe tbody tr th:only-of-type {\n",
       "        vertical-align: middle;\n",
       "    }\n",
       "\n",
       "    .dataframe tbody tr th {\n",
       "        vertical-align: top;\n",
       "    }\n",
       "\n",
       "    .dataframe thead th {\n",
       "        text-align: right;\n",
       "    }\n",
       "</style>\n",
       "<table border=\"1\" class=\"dataframe\">\n",
       "  <thead>\n",
       "    <tr style=\"text-align: right;\">\n",
       "      <th></th>\n",
       "      <th>Unnamed: 0</th>\n",
       "      <th>page</th>\n",
       "      <th>rows</th>\n",
       "      <th>link</th>\n",
       "      <th>text</th>\n",
       "      <th>url</th>\n",
       "      <th>title</th>\n",
       "    </tr>\n",
       "  </thead>\n",
       "  <tbody>\n",
       "    <tr>\n",
       "      <th>0</th>\n",
       "      <td>0</td>\n",
       "      <td>https://www.diaadia.com.pa/mundo?page=0</td>\n",
       "      <td>&lt;div class=\"col-12 col-md-6\"&gt;\\n&lt;div class=\" mb-3 card_secciones \"&gt;\\n&lt;div class=\"card\"&gt;\\n&lt;a href=\"/mundo/casi-el-40-de-la-poblacion-evita-las-noticias-porque-deterioran-su-animo-tik-tok-le-gana\"&gt;\\n&lt;img src=\" /sites/default/files/styles/secciones/public/2022-06/comunicacion.jpg?itok=-O1cQD0J\" width=\"100%\"/&gt;\\n&lt;/a&gt;\\n&lt;div class=\"card-body-fixed\"&gt;\\n&lt;div class=\"card-title custom\"&gt;\\n&lt;div class=\"bg-blanco\"&gt;\\n&lt;span class=\"categoria-bg\"&gt;Mundo &lt;/span&gt;\\n&lt;/div&gt;\\n&lt;a class=\"hovernaranja\" href=\"/mundo/casi-el-40-de-la-poblacion-evita-las-noticias-porque-deterioran-su-animo-tik-tok-le-gana\"&gt;\\n&lt;h5 class=\"tit...</td>\n",
       "      <td>https://www.diaadia.com.pa/mundo/casi-el-40-de-la-poblacion-evita-las-noticias-porque-deterioran-su-animo-tik-tok-le-gana</td>\n",
       "      <td>Buena parte de la población mundial -un 38 %- evita con frecuencia consumir noticias de actualidad como las relacionadas con la guerra en Ucrania o la pandemia pues \"deterioran\" su estado de ánimo, según un informe difundido este miércoles por el Instituto Reuters, que desvela que los más jóvenes prefieren plataformas como TikTok.\\n\\nEl estudio sobre consumo de noticias Digital News Report 2022, presentado hoy en la sede en Londres de la agencia de noticias británica, se basa en una encuesta online a 93.000 personas en 46 mercados, entre ellos España, Argentina, Brasil, Chile, Colo...</td>\n",
       "      <td>\\n</td>\n",
       "      <td>\\n</td>\n",
       "    </tr>\n",
       "    <tr>\n",
       "      <th>1</th>\n",
       "      <td>1</td>\n",
       "      <td>https://www.diaadia.com.pa/mundo?page=0</td>\n",
       "      <td>&lt;div class=\"col-12 col-md-6\"&gt;\\n&lt;div class=\" mb-3 card_secciones \"&gt;\\n&lt;div class=\"card\"&gt;\\n&lt;a href=\"/mundo/donan-500000-euros-acnur-para-ayuda-humanitaria-en-ucrania-751758\"&gt;\\n&lt;img src=\" /sites/default/files/styles/secciones/public/2022-06/Ucrania%20DD.jpg?itok=laMENc2k\" width=\"100%\"/&gt;\\n&lt;/a&gt;\\n&lt;div class=\"card-body-fixed\"&gt;\\n&lt;div class=\"card-title custom\"&gt;\\n&lt;div class=\"bg-blanco\"&gt;\\n&lt;span class=\"categoria-bg\"&gt;Mundo &lt;/span&gt;\\n&lt;/div&gt;\\n&lt;a class=\"hovernaranja\" href=\"/mundo/donan-500000-euros-acnur-para-ayuda-humanitaria-en-ucrania-751758\"&gt;\\n&lt;h5 class=\"title-fixed der\"&gt;Donan 500.000 euros a ACNUR para...</td>\n",
       "      <td>https://www.diaadia.com.pa/mundo/donan-500000-euros-acnur-para-ayuda-humanitaria-en-ucrania-751758</td>\n",
       "      <td>Brother Industries, Ltd. anunció que el grupo donará 500.000 euros a ACNUR (Alto Comisionado de las Naciones Unidas para los Refugiados).\\n\\nEsta donación se entregará a través de ACNUR para apoyar los esfuerzos de ayuda humanitaria en Ucrania y los países vecinos.\\n\\nEl corporativo (proveedor en tecnología de equipos de oficina) lamenta enormemente que tantas vidas inocentes se vean afectadas negativamente por la situación actual en Europa del Este y ha decidido extender su apoyo a los necesitados.\\n\\nEsperan que todos los afectados estén a salvo y agregaron que sus pensamientos ...</td>\n",
       "      <td>\\n</td>\n",
       "      <td>\\n</td>\n",
       "    </tr>\n",
       "    <tr>\n",
       "      <th>2</th>\n",
       "      <td>2</td>\n",
       "      <td>https://www.diaadia.com.pa/mundo?page=0</td>\n",
       "      <td>&lt;div class=\"col-12 col-md-6\"&gt;\\n&lt;div class=\" mb-3 card_secciones \"&gt;\\n&lt;div class=\"card\"&gt;\\n&lt;a href=\"/mundo/un-farmaco-elimina-el-cancer-rectal-en-los-12-pacientes-de-un-ensayo-clinico-751565\"&gt;\\n&lt;img src=\" /sites/default/files/styles/secciones/public/2022-06/cancer%20.jpg?itok=pmXy05Yy\" width=\"100%\"/&gt;\\n&lt;/a&gt;\\n&lt;div class=\"card-body-fixed\"&gt;\\n&lt;div class=\"card-title custom\"&gt;\\n&lt;div class=\"bg-blanco\"&gt;\\n&lt;span class=\"categoria-bg\"&gt;Mundo &lt;/span&gt;\\n&lt;/div&gt;\\n&lt;a class=\"hovernaranja\" href=\"/mundo/un-farmaco-elimina-el-cancer-rectal-en-los-12-pacientes-de-un-ensayo-clinico-751565\"&gt;\\n&lt;h5 class=\"title-fixed der\"...</td>\n",
       "      <td>https://www.diaadia.com.pa/mundo/un-farmaco-elimina-el-cancer-rectal-en-los-12-pacientes-de-un-ensayo-clinico-751565</td>\n",
       "      <td>Los doce pacientes con cáncer rectal que participaron en un ensayo clínico en el que durante al menos seis meses recibieron Dostarlimab han superado el cáncer sin necesidad de someterse después a un tratamiento de quimioterapia o a una cirugía.\\n\\nLos resultados del ensayo se han publicado en la revista New England Journal of Medicine y han sido patrocinados por la farmacéutica GlaxoSmithKline que comercializa este principio activo (dostarlimab) con un nombre comercial.\\n\\nEn el informe, los autores -liderados por un equipo del Centro Oncológico Memorial Sloan Kettering, de Nueva Yo...</td>\n",
       "      <td>\\n</td>\n",
       "      <td>\\n</td>\n",
       "    </tr>\n",
       "    <tr>\n",
       "      <th>3</th>\n",
       "      <td>3</td>\n",
       "      <td>https://www.diaadia.com.pa/mundo?page=0</td>\n",
       "      <td>&lt;div class=\"col-12 col-md-6\"&gt;\\n&lt;div class=\" mb-3 card_secciones \"&gt;\\n&lt;div class=\"card\"&gt;\\n&lt;a href=\"/mundo/quiero-seguridad-pide-al-congreso-de-eeuu-una-nina-sobreviviente-del-tiroteo-de-uvalde-751506\"&gt;\\n&lt;img src=\" /sites/default/files/styles/secciones/public/2022-06/cerillo.jpg?itok=bbKqpAEt\" width=\"100%\"/&gt;\\n&lt;/a&gt;\\n&lt;div class=\"card-body-fixed\"&gt;\\n&lt;div class=\"card-title custom\"&gt;\\n&lt;div class=\"bg-blanco\"&gt;\\n&lt;span class=\"categoria-bg\"&gt;Mundo &lt;/span&gt;\\n&lt;/div&gt;\\n&lt;a class=\"hovernaranja\" href=\"/mundo/quiero-seguridad-pide-al-congreso-de-eeuu-una-nina-sobreviviente-del-tiroteo-de-uvalde-751506\"&gt;\\n&lt;h5 class...</td>\n",
       "      <td>https://www.diaadia.com.pa/mundo/quiero-seguridad-pide-al-congreso-de-eeuu-una-nina-sobreviviente-del-tiroteo-de-uvalde-751506</td>\n",
       "      <td>Miah Cerrillo, una niña de 11 años que sobrevivió al tiroteo en la escuela de Uvalde (Texas, EE.UU.), reclamó ayer miércoles \"seguridad\" al Congreso y describió la pesadilla de aquel día, cuando tuvo que cubrirse con la sangre de un amigo para hacerse la muerta y salvar la vida.\\n\\nCerrillo intervino en video ante un comité de la Cámara Baja de EE.UU., ante el que testificaron otras víctimas del tiroteo de Uvalde, en el que murieron 19 alumnos y dos profesoras, así como víctimas del ataque racista en Buffalo (Nueva York) que se cobró la vida de diez personas afroamericanas.\\n\\...</td>\n",
       "      <td>\\n</td>\n",
       "      <td>\\n</td>\n",
       "    </tr>\n",
       "    <tr>\n",
       "      <th>4</th>\n",
       "      <td>4</td>\n",
       "      <td>https://www.diaadia.com.pa/mundo?page=0</td>\n",
       "      <td>&lt;div class=\"col-12 col-md-6\"&gt;\\n&lt;div class=\" mb-3 card_secciones \"&gt;\\n&lt;div class=\"card\"&gt;\\n&lt;a href=\"/mundo/los-casos-globales-de-covid-bajan-un-12-semanalmente-y-las-muertes-un-22-751457\"&gt;\\n&lt;img src=\" /sites/default/files/styles/secciones/public/2022-06/hisopadas.jpg?itok=Zn00UTOW\" width=\"100%\"/&gt;\\n&lt;/a&gt;\\n&lt;div class=\"card-body-fixed\"&gt;\\n&lt;div class=\"card-title custom\"&gt;\\n&lt;div class=\"bg-blanco\"&gt;\\n&lt;span class=\"categoria-bg\"&gt;Mundo &lt;/span&gt;\\n&lt;/div&gt;\\n&lt;a class=\"hovernaranja\" href=\"/mundo/los-casos-globales-de-covid-bajan-un-12-semanalmente-y-las-muertes-un-22-751457\"&gt;\\n&lt;h5 class=\"title-fixed der\"&gt;Los cas...</td>\n",
       "      <td>https://www.diaadia.com.pa/mundo/los-casos-globales-de-covid-bajan-un-12-semanalmente-y-las-muertes-un-22-751457</td>\n",
       "      <td>El mundo registró 3 millones de casos de covid la semana pasada, un descenso del 12 % con respecto a los siete días anteriores, mientras que las muertes bajaron un 22 %, hasta 7.600, indicó el nuevo informe epidemiológico de la Organización Mundial de la Salud (OMS).\\n\\nEn América, la región con más casos en cifras absolutas (1,1 millones), la bajada fue de sólo el 1 %, mientras que en Asia-Pacífico (un millón de contagios) el descenso fue del 19 %, y en Europa (744.000) del 18 %, según el informe que cada semana emite la OMS.\\n\\nAmérica fue también la región con más fallec...</td>\n",
       "      <td>\\n</td>\n",
       "      <td>\\n</td>\n",
       "    </tr>\n",
       "    <tr>\n",
       "      <th>...</th>\n",
       "      <td>...</td>\n",
       "      <td>...</td>\n",
       "      <td>...</td>\n",
       "      <td>...</td>\n",
       "      <td>...</td>\n",
       "      <td>...</td>\n",
       "      <td>...</td>\n",
       "    </tr>\n",
       "    <tr>\n",
       "      <th>10636</th>\n",
       "      <td>10736</td>\n",
       "      <td>https://www.diaadia.com.pa/el-pais?page=816</td>\n",
       "      <td>&lt;div class=\"col-12 col-md-6\"&gt;\\n&lt;div class=\" mb-3 card_secciones \"&gt;\\n&lt;div class=\"card\"&gt;\\n&lt;a href=\"/el-pais/aprender-mandarin-no-es-tan-dificil-ifarhu-abre-convocatoria-de-becas-en-china-704150\"&gt;\\n&lt;img src=\" /sites/default/files/styles/secciones/public/2018-12/china_medida.jpg?itok=9qaP8xFx\" width=\"100%\"/&gt;\\n&lt;/a&gt;\\n&lt;div class=\"card-body-fixed\"&gt;\\n&lt;div class=\"card-title custom\"&gt;\\n&lt;div class=\"bg-blanco\"&gt;\\n&lt;span class=\"categoria-bg\"&gt;El País &lt;/span&gt;\\n&lt;/div&gt;\\n&lt;a class=\"hovernaranja\" href=\"/el-pais/aprender-mandarin-no-es-tan-dificil-ifarhu-abre-convocatoria-de-becas-en-china-704150\"&gt;\\n&lt;h5 class=\"tit...</td>\n",
       "      <td>https://www.diaadia.com.pa/el-pais/aprender-mandarin-no-es-tan-dificil-ifarhu-abre-convocatoria-de-becas-en-china-704150</td>\n",
       "      <td>El Instituto para la Formación y Aprovechamiento de Recursos Humanos (Ifarhu) dio a conocer a través de un comunicado que abrirá una convocatoria de becas para el estudio del idioma mandarín, del 13 al 16 de diciembre.\\n\\nLa convocatoria está dirigida a panameños entre los 18 a 35 años de edad, graduados de bachiller con un promedio mínimo de 4,0 y estudiantes universitarios cursando licenciatura o graduado con un índice de 2,0 en adelante.\\n\\nPueden participar estudiantes recién graduados de secundaria que cumplan con los requisitos de edad y promedio al momento de la inscripcio...</td>\n",
       "      <td>\\n</td>\n",
       "      <td>\\n</td>\n",
       "    </tr>\n",
       "    <tr>\n",
       "      <th>10637</th>\n",
       "      <td>10737</td>\n",
       "      <td>https://www.diaadia.com.pa/el-pais?page=816</td>\n",
       "      <td>&lt;div class=\"col-12 col-md-6\"&gt;\\n&lt;div class=\" mb-3 card_secciones \"&gt;\\n&lt;div class=\"card\"&gt;\\n&lt;a href=\"/el-pais/gobierno-propone-aumento-jubilados-por-80-5-millones-ellos-protestan-704144\"&gt;\\n&lt;img src=\" /sites/default/files/styles/secciones/public/2018-12/jubilados_4.jpg?itok=3nUHP3Lm\" width=\"100%\"/&gt;\\n&lt;/a&gt;\\n&lt;div class=\"card-body-fixed\"&gt;\\n&lt;div class=\"card-title custom\"&gt;\\n&lt;div class=\"bg-blanco\"&gt;\\n&lt;span class=\"categoria-bg\"&gt;El País &lt;/span&gt;\\n&lt;/div&gt;\\n&lt;a class=\"hovernaranja\" href=\"/el-pais/gobierno-propone-aumento-jubilados-por-80-5-millones-ellos-protestan-704144\"&gt;\\n&lt;h5 class=\"title-fixed der\"&gt;Gobiern...</td>\n",
       "      <td>https://www.diaadia.com.pa/el-pais/gobierno-propone-aumento-jubilados-por-80-5-millones-ellos-protestan-704144</td>\n",
       "      <td>El gobierno de Juan Carlos Varela propuso a los jubilados un aumento a las pensiones de vejez, por $.80.5 millones.\\n\\nLea también: Trabajadores piden al Gobierno no prorrogar concesión de la termoeléctrica\\n\\nSegún la propuesta del gobierno, divulgada este miércoles, mediante un comunicado, los aumentos se harían de la siguiente forma:\\n\\nDe 175.00 a 500.00 aumento mensual: B/.30.00 beneficiarios:163,678 monto anual: B/58,924,080.00; de 500.01 a 1,000.00 aumento mensual: B/23.00 beneficiarios: 67,955 monto anual: B/18,755,580.00 y de 1,000.01 a 1,500.00 aumento mensual B/.17.50 bene...</td>\n",
       "      <td>\\n</td>\n",
       "      <td>\\n</td>\n",
       "    </tr>\n",
       "    <tr>\n",
       "      <th>10638</th>\n",
       "      <td>10738</td>\n",
       "      <td>https://www.diaadia.com.pa/el-pais?page=816</td>\n",
       "      <td>&lt;div class=\"col-12 col-md-6\"&gt;\\n&lt;div class=\" mb-3 card_secciones \"&gt;\\n&lt;div class=\"card\"&gt;\\n&lt;a href=\"/el-pais/todo-listo-para-el-desfile-brilla-la-navidad-2018-este-domingo-16-de-diciembre-704145\"&gt;\\n&lt;img src=\" /sites/default/files/styles/secciones/public/2018-12/navidad_desfile.jpg?itok=SNdlTo7k\" width=\"100%\"/&gt;\\n&lt;/a&gt;\\n&lt;div class=\"card-body-fixed\"&gt;\\n&lt;div class=\"card-title custom\"&gt;\\n&lt;div class=\"bg-blanco\"&gt;\\n&lt;span class=\"categoria-bg\"&gt;El País &lt;/span&gt;\\n&lt;/div&gt;\\n&lt;a class=\"hovernaranja\" href=\"/el-pais/todo-listo-para-el-desfile-brilla-la-navidad-2018-este-domingo-16-de-diciembre-704145\"&gt;\\n&lt;h5 class=\"...</td>\n",
       "      <td>https://www.diaadia.com.pa/el-pais/todo-listo-para-el-desfile-brilla-la-navidad-2018-este-domingo-16-de-diciembre-704145</td>\n",
       "      <td>La Alcaldía de Panamá anunció en conferencia de prensa que todo está preparado para la celebración del Gran Desfile de Navidad Brilla la Navidad, este domingo 16 de diciembre en la Cinta Costera.\\n\\nLa ruta iniciará en el primer gazebo cercano al Mirador del Pacífico hasta la última plazoleta de estacionamientos sobre esta avenida. Las puertas abrirán a las 2:30 p.m. y el inicio del desfile será a las 5:00 p.m. La Parada navideña culminará con un show de fuegos artificiales desde las 7:30 de la noche. Contaremos con dos tarimas artísticas, un cuerpo de baile de más de dosci...</td>\n",
       "      <td>\\n</td>\n",
       "      <td>\\n</td>\n",
       "    </tr>\n",
       "    <tr>\n",
       "      <th>10639</th>\n",
       "      <td>10739</td>\n",
       "      <td>https://www.diaadia.com.pa/el-pais?page=816</td>\n",
       "      <td>&lt;div class=\"col-12 col-md-6\"&gt;\\n&lt;div class=\" mb-3 card_secciones \"&gt;\\n&lt;div class=\"card\"&gt;\\n&lt;a href=\"/el-pais/trabajadores-piden-al-gobierno-no-prorrogar-concesion-de-la-termoelectrica-704141\"&gt;\\n&lt;img src=\" /sites/default/files/styles/secciones/public/2018-12/termo_electrica.jpg?itok=NlmEFiD5\" width=\"100%\"/&gt;\\n&lt;/a&gt;\\n&lt;div class=\"card-body-fixed\"&gt;\\n&lt;div class=\"card-title custom\"&gt;\\n&lt;div class=\"bg-blanco\"&gt;\\n&lt;span class=\"categoria-bg\"&gt;El País &lt;/span&gt;\\n&lt;/div&gt;\\n&lt;a class=\"hovernaranja\" href=\"/el-pais/trabajadores-piden-al-gobierno-no-prorrogar-concesion-de-la-termoelectrica-704141\"&gt;\\n&lt;h5 class=\"title-fi...</td>\n",
       "      <td>https://www.diaadia.com.pa/el-pais/trabajadores-piden-al-gobierno-no-prorrogar-concesion-de-la-termoelectrica-704141</td>\n",
       "      <td>Los integrantes de la Coordinadora Ciudadana de La Chorrera, solicitaron al Gobierno abstenerse de renovar a la firma Pan Am Generating Ltd, la concesión para la generación de electricidad a base de bunker C.\\n\\nVer más: Todo lo que una futura mamá debe saber antes de la llegada del bebé\\n\\nDesde el año 1999, la empresa Pan Am Generating cuenta con una licencia para operar una planta termoeléctrica en el corregimiento de El Arado, distrito de La Chorrera, en la provincia de Panamá Oeste.\\n\\nLa solicitud de la Coordinadora Ciudadana de La Chorrera, surge ante la proximidad de la fec...</td>\n",
       "      <td>\\n</td>\n",
       "      <td>\\n</td>\n",
       "    </tr>\n",
       "    <tr>\n",
       "      <th>10640</th>\n",
       "      <td>10740</td>\n",
       "      <td>https://www.diaadia.com.pa/el-pais?page=816</td>\n",
       "      <td>&lt;div class=\"col-12 col-md-6\"&gt;\\n&lt;div class=\" mb-3 card_secciones \"&gt;\\n&lt;div class=\"card\"&gt;\\n&lt;a href=\"/el-pais/delincuente-le-roba-y-apunala-una-pareja-de-turistas-en-colon-704139\"&gt;\\n&lt;img src=\" /sites/default/files/styles/secciones/public/2018-12/le_roban_a_turistas_en_colon.jpg?itok=WSKZXIq4\" width=\"100%\"/&gt;\\n&lt;/a&gt;\\n&lt;div class=\"card-body-fixed\"&gt;\\n&lt;div class=\"card-title custom\"&gt;\\n&lt;div class=\"bg-blanco\"&gt;\\n&lt;span class=\"categoria-bg\"&gt;El País &lt;/span&gt;\\n&lt;/div&gt;\\n&lt;a class=\"hovernaranja\" href=\"/el-pais/delincuente-le-roba-y-apunala-una-pareja-de-turistas-en-colon-704139\"&gt;\\n&lt;h5 class=\"title-fixed der\"&gt;Deli...</td>\n",
       "      <td>https://www.diaadia.com.pa/el-pais/delincuente-le-roba-y-apunala-una-pareja-de-turistas-en-colon-704139</td>\n",
       "      <td>La mañana de hoy 12 de diciembre, una pareja de turistas fue víctima de los delincuentes en la provincia de Colón.\\n\\nLea también: Aduanas discrepa con la Contraloría General de la República por tema de bonos\\n\\nLa pareja fue asaltada cuando caminaba por el parque Sucre, en la ciudad de Colón. El antisocial hirió a la mujer con un cuchillo en el brazo.\\n\\nLa pareja fue auxiliada por una joven que los trasladado hacia centro hospitalario para recibir atención médica.\\n\\nLea también: Decretan detención provisional a segundo implicado en homicidio de Jorge Nash\\n\\nSe conoció que ...</td>\n",
       "      <td>\\n</td>\n",
       "      <td>\\n</td>\n",
       "    </tr>\n",
       "  </tbody>\n",
       "</table>\n",
       "<p>10641 rows × 7 columns</p>\n",
       "</div>"
      ],
      "text/plain": [
       "       Unnamed: 0                                         page  \\\n",
       "0               0      https://www.diaadia.com.pa/mundo?page=0   \n",
       "1               1      https://www.diaadia.com.pa/mundo?page=0   \n",
       "2               2      https://www.diaadia.com.pa/mundo?page=0   \n",
       "3               3      https://www.diaadia.com.pa/mundo?page=0   \n",
       "4               4      https://www.diaadia.com.pa/mundo?page=0   \n",
       "...           ...                                          ...   \n",
       "10636       10736  https://www.diaadia.com.pa/el-pais?page=816   \n",
       "10637       10737  https://www.diaadia.com.pa/el-pais?page=816   \n",
       "10638       10738  https://www.diaadia.com.pa/el-pais?page=816   \n",
       "10639       10739  https://www.diaadia.com.pa/el-pais?page=816   \n",
       "10640       10740  https://www.diaadia.com.pa/el-pais?page=816   \n",
       "\n",
       "                                                                                                                                                                                                                                                                                                                                                                                                                                                                                                                                                                                                                          rows  \\\n",
       "0      <div class=\"col-12 col-md-6\">\\n<div class=\" mb-3 card_secciones \">\\n<div class=\"card\">\\n<a href=\"/mundo/casi-el-40-de-la-poblacion-evita-las-noticias-porque-deterioran-su-animo-tik-tok-le-gana\">\\n<img src=\" /sites/default/files/styles/secciones/public/2022-06/comunicacion.jpg?itok=-O1cQD0J\" width=\"100%\"/>\\n</a>\\n<div class=\"card-body-fixed\">\\n<div class=\"card-title custom\">\\n<div class=\"bg-blanco\">\\n<span class=\"categoria-bg\">Mundo </span>\\n</div>\\n<a class=\"hovernaranja\" href=\"/mundo/casi-el-40-de-la-poblacion-evita-las-noticias-porque-deterioran-su-animo-tik-tok-le-gana\">\\n<h5 class=\"tit...   \n",
       "1      <div class=\"col-12 col-md-6\">\\n<div class=\" mb-3 card_secciones \">\\n<div class=\"card\">\\n<a href=\"/mundo/donan-500000-euros-acnur-para-ayuda-humanitaria-en-ucrania-751758\">\\n<img src=\" /sites/default/files/styles/secciones/public/2022-06/Ucrania%20DD.jpg?itok=laMENc2k\" width=\"100%\"/>\\n</a>\\n<div class=\"card-body-fixed\">\\n<div class=\"card-title custom\">\\n<div class=\"bg-blanco\">\\n<span class=\"categoria-bg\">Mundo </span>\\n</div>\\n<a class=\"hovernaranja\" href=\"/mundo/donan-500000-euros-acnur-para-ayuda-humanitaria-en-ucrania-751758\">\\n<h5 class=\"title-fixed der\">Donan 500.000 euros a ACNUR para...   \n",
       "2      <div class=\"col-12 col-md-6\">\\n<div class=\" mb-3 card_secciones \">\\n<div class=\"card\">\\n<a href=\"/mundo/un-farmaco-elimina-el-cancer-rectal-en-los-12-pacientes-de-un-ensayo-clinico-751565\">\\n<img src=\" /sites/default/files/styles/secciones/public/2022-06/cancer%20.jpg?itok=pmXy05Yy\" width=\"100%\"/>\\n</a>\\n<div class=\"card-body-fixed\">\\n<div class=\"card-title custom\">\\n<div class=\"bg-blanco\">\\n<span class=\"categoria-bg\">Mundo </span>\\n</div>\\n<a class=\"hovernaranja\" href=\"/mundo/un-farmaco-elimina-el-cancer-rectal-en-los-12-pacientes-de-un-ensayo-clinico-751565\">\\n<h5 class=\"title-fixed der\"...   \n",
       "3      <div class=\"col-12 col-md-6\">\\n<div class=\" mb-3 card_secciones \">\\n<div class=\"card\">\\n<a href=\"/mundo/quiero-seguridad-pide-al-congreso-de-eeuu-una-nina-sobreviviente-del-tiroteo-de-uvalde-751506\">\\n<img src=\" /sites/default/files/styles/secciones/public/2022-06/cerillo.jpg?itok=bbKqpAEt\" width=\"100%\"/>\\n</a>\\n<div class=\"card-body-fixed\">\\n<div class=\"card-title custom\">\\n<div class=\"bg-blanco\">\\n<span class=\"categoria-bg\">Mundo </span>\\n</div>\\n<a class=\"hovernaranja\" href=\"/mundo/quiero-seguridad-pide-al-congreso-de-eeuu-una-nina-sobreviviente-del-tiroteo-de-uvalde-751506\">\\n<h5 class...   \n",
       "4      <div class=\"col-12 col-md-6\">\\n<div class=\" mb-3 card_secciones \">\\n<div class=\"card\">\\n<a href=\"/mundo/los-casos-globales-de-covid-bajan-un-12-semanalmente-y-las-muertes-un-22-751457\">\\n<img src=\" /sites/default/files/styles/secciones/public/2022-06/hisopadas.jpg?itok=Zn00UTOW\" width=\"100%\"/>\\n</a>\\n<div class=\"card-body-fixed\">\\n<div class=\"card-title custom\">\\n<div class=\"bg-blanco\">\\n<span class=\"categoria-bg\">Mundo </span>\\n</div>\\n<a class=\"hovernaranja\" href=\"/mundo/los-casos-globales-de-covid-bajan-un-12-semanalmente-y-las-muertes-un-22-751457\">\\n<h5 class=\"title-fixed der\">Los cas...   \n",
       "...                                                                                                                                                                                                                                                                                                                                                                                                                                                                                                                                                                                                                        ...   \n",
       "10636  <div class=\"col-12 col-md-6\">\\n<div class=\" mb-3 card_secciones \">\\n<div class=\"card\">\\n<a href=\"/el-pais/aprender-mandarin-no-es-tan-dificil-ifarhu-abre-convocatoria-de-becas-en-china-704150\">\\n<img src=\" /sites/default/files/styles/secciones/public/2018-12/china_medida.jpg?itok=9qaP8xFx\" width=\"100%\"/>\\n</a>\\n<div class=\"card-body-fixed\">\\n<div class=\"card-title custom\">\\n<div class=\"bg-blanco\">\\n<span class=\"categoria-bg\">El País </span>\\n</div>\\n<a class=\"hovernaranja\" href=\"/el-pais/aprender-mandarin-no-es-tan-dificil-ifarhu-abre-convocatoria-de-becas-en-china-704150\">\\n<h5 class=\"tit...   \n",
       "10637  <div class=\"col-12 col-md-6\">\\n<div class=\" mb-3 card_secciones \">\\n<div class=\"card\">\\n<a href=\"/el-pais/gobierno-propone-aumento-jubilados-por-80-5-millones-ellos-protestan-704144\">\\n<img src=\" /sites/default/files/styles/secciones/public/2018-12/jubilados_4.jpg?itok=3nUHP3Lm\" width=\"100%\"/>\\n</a>\\n<div class=\"card-body-fixed\">\\n<div class=\"card-title custom\">\\n<div class=\"bg-blanco\">\\n<span class=\"categoria-bg\">El País </span>\\n</div>\\n<a class=\"hovernaranja\" href=\"/el-pais/gobierno-propone-aumento-jubilados-por-80-5-millones-ellos-protestan-704144\">\\n<h5 class=\"title-fixed der\">Gobiern...   \n",
       "10638  <div class=\"col-12 col-md-6\">\\n<div class=\" mb-3 card_secciones \">\\n<div class=\"card\">\\n<a href=\"/el-pais/todo-listo-para-el-desfile-brilla-la-navidad-2018-este-domingo-16-de-diciembre-704145\">\\n<img src=\" /sites/default/files/styles/secciones/public/2018-12/navidad_desfile.jpg?itok=SNdlTo7k\" width=\"100%\"/>\\n</a>\\n<div class=\"card-body-fixed\">\\n<div class=\"card-title custom\">\\n<div class=\"bg-blanco\">\\n<span class=\"categoria-bg\">El País </span>\\n</div>\\n<a class=\"hovernaranja\" href=\"/el-pais/todo-listo-para-el-desfile-brilla-la-navidad-2018-este-domingo-16-de-diciembre-704145\">\\n<h5 class=\"...   \n",
       "10639  <div class=\"col-12 col-md-6\">\\n<div class=\" mb-3 card_secciones \">\\n<div class=\"card\">\\n<a href=\"/el-pais/trabajadores-piden-al-gobierno-no-prorrogar-concesion-de-la-termoelectrica-704141\">\\n<img src=\" /sites/default/files/styles/secciones/public/2018-12/termo_electrica.jpg?itok=NlmEFiD5\" width=\"100%\"/>\\n</a>\\n<div class=\"card-body-fixed\">\\n<div class=\"card-title custom\">\\n<div class=\"bg-blanco\">\\n<span class=\"categoria-bg\">El País </span>\\n</div>\\n<a class=\"hovernaranja\" href=\"/el-pais/trabajadores-piden-al-gobierno-no-prorrogar-concesion-de-la-termoelectrica-704141\">\\n<h5 class=\"title-fi...   \n",
       "10640  <div class=\"col-12 col-md-6\">\\n<div class=\" mb-3 card_secciones \">\\n<div class=\"card\">\\n<a href=\"/el-pais/delincuente-le-roba-y-apunala-una-pareja-de-turistas-en-colon-704139\">\\n<img src=\" /sites/default/files/styles/secciones/public/2018-12/le_roban_a_turistas_en_colon.jpg?itok=WSKZXIq4\" width=\"100%\"/>\\n</a>\\n<div class=\"card-body-fixed\">\\n<div class=\"card-title custom\">\\n<div class=\"bg-blanco\">\\n<span class=\"categoria-bg\">El País </span>\\n</div>\\n<a class=\"hovernaranja\" href=\"/el-pais/delincuente-le-roba-y-apunala-una-pareja-de-turistas-en-colon-704139\">\\n<h5 class=\"title-fixed der\">Deli...   \n",
       "\n",
       "                                                                                                                                 link  \\\n",
       "0           https://www.diaadia.com.pa/mundo/casi-el-40-de-la-poblacion-evita-las-noticias-porque-deterioran-su-animo-tik-tok-le-gana   \n",
       "1                                  https://www.diaadia.com.pa/mundo/donan-500000-euros-acnur-para-ayuda-humanitaria-en-ucrania-751758   \n",
       "2                https://www.diaadia.com.pa/mundo/un-farmaco-elimina-el-cancer-rectal-en-los-12-pacientes-de-un-ensayo-clinico-751565   \n",
       "3      https://www.diaadia.com.pa/mundo/quiero-seguridad-pide-al-congreso-de-eeuu-una-nina-sobreviviente-del-tiroteo-de-uvalde-751506   \n",
       "4                    https://www.diaadia.com.pa/mundo/los-casos-globales-de-covid-bajan-un-12-semanalmente-y-las-muertes-un-22-751457   \n",
       "...                                                                                                                               ...   \n",
       "10636        https://www.diaadia.com.pa/el-pais/aprender-mandarin-no-es-tan-dificil-ifarhu-abre-convocatoria-de-becas-en-china-704150   \n",
       "10637                  https://www.diaadia.com.pa/el-pais/gobierno-propone-aumento-jubilados-por-80-5-millones-ellos-protestan-704144   \n",
       "10638        https://www.diaadia.com.pa/el-pais/todo-listo-para-el-desfile-brilla-la-navidad-2018-este-domingo-16-de-diciembre-704145   \n",
       "10639            https://www.diaadia.com.pa/el-pais/trabajadores-piden-al-gobierno-no-prorrogar-concesion-de-la-termoelectrica-704141   \n",
       "10640                         https://www.diaadia.com.pa/el-pais/delincuente-le-roba-y-apunala-una-pareja-de-turistas-en-colon-704139   \n",
       "\n",
       "                                                                                                                                                                                                                                                                                                                                                                                                                                                                                                                                                                                                                          text  \\\n",
       "0      Buena parte de la población mundial -un 38 %- evita con frecuencia consumir noticias de actualidad como las relacionadas con la guerra en Ucrania o la pandemia pues \"deterioran\" su estado de ánimo, según un informe difundido este miércoles por el Instituto Reuters, que desvela que los más jóvenes prefieren plataformas como TikTok.\\n\\nEl estudio sobre consumo de noticias Digital News Report 2022, presentado hoy en la sede en Londres de la agencia de noticias británica, se basa en una encuesta online a 93.000 personas en 46 mercados, entre ellos España, Argentina, Brasil, Chile, Colo...   \n",
       "1      Brother Industries, Ltd. anunció que el grupo donará 500.000 euros a ACNUR (Alto Comisionado de las Naciones Unidas para los Refugiados).\\n\\nEsta donación se entregará a través de ACNUR para apoyar los esfuerzos de ayuda humanitaria en Ucrania y los países vecinos.\\n\\nEl corporativo (proveedor en tecnología de equipos de oficina) lamenta enormemente que tantas vidas inocentes se vean afectadas negativamente por la situación actual en Europa del Este y ha decidido extender su apoyo a los necesitados.\\n\\nEsperan que todos los afectados estén a salvo y agregaron que sus pensamientos ...   \n",
       "2      Los doce pacientes con cáncer rectal que participaron en un ensayo clínico en el que durante al menos seis meses recibieron Dostarlimab han superado el cáncer sin necesidad de someterse después a un tratamiento de quimioterapia o a una cirugía.\\n\\nLos resultados del ensayo se han publicado en la revista New England Journal of Medicine y han sido patrocinados por la farmacéutica GlaxoSmithKline que comercializa este principio activo (dostarlimab) con un nombre comercial.\\n\\nEn el informe, los autores -liderados por un equipo del Centro Oncológico Memorial Sloan Kettering, de Nueva Yo...   \n",
       "3      Miah Cerrillo, una niña de 11 años que sobrevivió al tiroteo en la escuela de Uvalde (Texas, EE.UU.), reclamó ayer miércoles \"seguridad\" al Congreso y describió la pesadilla de aquel día, cuando tuvo que cubrirse con la sangre de un amigo para hacerse la muerta y salvar la vida.\\n\\nCerrillo intervino en video ante un comité de la Cámara Baja de EE.UU., ante el que testificaron otras víctimas del tiroteo de Uvalde, en el que murieron 19 alumnos y dos profesoras, así como víctimas del ataque racista en Buffalo (Nueva York) que se cobró la vida de diez personas afroamericanas.\\n\\...   \n",
       "4      El mundo registró 3 millones de casos de covid la semana pasada, un descenso del 12 % con respecto a los siete días anteriores, mientras que las muertes bajaron un 22 %, hasta 7.600, indicó el nuevo informe epidemiológico de la Organización Mundial de la Salud (OMS).\\n\\nEn América, la región con más casos en cifras absolutas (1,1 millones), la bajada fue de sólo el 1 %, mientras que en Asia-Pacífico (un millón de contagios) el descenso fue del 19 %, y en Europa (744.000) del 18 %, según el informe que cada semana emite la OMS.\\n\\nAmérica fue también la región con más fallec...   \n",
       "...                                                                                                                                                                                                                                                                                                                                                                                                                                                                                                                                                                                                                        ...   \n",
       "10636  El Instituto para la Formación y Aprovechamiento de Recursos Humanos (Ifarhu) dio a conocer a través de un comunicado que abrirá una convocatoria de becas para el estudio del idioma mandarín, del 13 al 16 de diciembre.\\n\\nLa convocatoria está dirigida a panameños entre los 18 a 35 años de edad, graduados de bachiller con un promedio mínimo de 4,0 y estudiantes universitarios cursando licenciatura o graduado con un índice de 2,0 en adelante.\\n\\nPueden participar estudiantes recién graduados de secundaria que cumplan con los requisitos de edad y promedio al momento de la inscripcio...   \n",
       "10637  El gobierno de Juan Carlos Varela propuso a los jubilados un aumento a las pensiones de vejez, por $.80.5 millones.\\n\\nLea también: Trabajadores piden al Gobierno no prorrogar concesión de la termoeléctrica\\n\\nSegún la propuesta del gobierno, divulgada este miércoles, mediante un comunicado, los aumentos se harían de la siguiente forma:\\n\\nDe 175.00 a 500.00 aumento mensual: B/.30.00 beneficiarios:163,678 monto anual: B/58,924,080.00; de 500.01 a 1,000.00 aumento mensual: B/23.00 beneficiarios: 67,955 monto anual: B/18,755,580.00 y de 1,000.01 a 1,500.00 aumento mensual B/.17.50 bene...   \n",
       "10638  La Alcaldía de Panamá anunció en conferencia de prensa que todo está preparado para la celebración del Gran Desfile de Navidad Brilla la Navidad, este domingo 16 de diciembre en la Cinta Costera.\\n\\nLa ruta iniciará en el primer gazebo cercano al Mirador del Pacífico hasta la última plazoleta de estacionamientos sobre esta avenida. Las puertas abrirán a las 2:30 p.m. y el inicio del desfile será a las 5:00 p.m. La Parada navideña culminará con un show de fuegos artificiales desde las 7:30 de la noche. Contaremos con dos tarimas artísticas, un cuerpo de baile de más de dosci...   \n",
       "10639  Los integrantes de la Coordinadora Ciudadana de La Chorrera, solicitaron al Gobierno abstenerse de renovar a la firma Pan Am Generating Ltd, la concesión para la generación de electricidad a base de bunker C.\\n\\nVer más: Todo lo que una futura mamá debe saber antes de la llegada del bebé\\n\\nDesde el año 1999, la empresa Pan Am Generating cuenta con una licencia para operar una planta termoeléctrica en el corregimiento de El Arado, distrito de La Chorrera, en la provincia de Panamá Oeste.\\n\\nLa solicitud de la Coordinadora Ciudadana de La Chorrera, surge ante la proximidad de la fec...   \n",
       "10640  La mañana de hoy 12 de diciembre, una pareja de turistas fue víctima de los delincuentes en la provincia de Colón.\\n\\nLea también: Aduanas discrepa con la Contraloría General de la República por tema de bonos\\n\\nLa pareja fue asaltada cuando caminaba por el parque Sucre, en la ciudad de Colón. El antisocial hirió a la mujer con un cuchillo en el brazo.\\n\\nLa pareja fue auxiliada por una joven que los trasladado hacia centro hospitalario para recibir atención médica.\\n\\nLea también: Decretan detención provisional a segundo implicado en homicidio de Jorge Nash\\n\\nSe conoció que ...   \n",
       "\n",
       "      url title  \n",
       "0      \\n    \\n  \n",
       "1      \\n    \\n  \n",
       "2      \\n    \\n  \n",
       "3      \\n    \\n  \n",
       "4      \\n    \\n  \n",
       "...    ..   ...  \n",
       "10636  \\n    \\n  \n",
       "10637  \\n    \\n  \n",
       "10638  \\n    \\n  \n",
       "10639  \\n    \\n  \n",
       "10640  \\n    \\n  \n",
       "\n",
       "[10641 rows x 7 columns]"
      ]
     },
     "execution_count": 156,
     "metadata": {},
     "output_type": "execute_result"
    }
   ],
   "source": [
    "df1 = pd.read_csv(df.path[5], header=[0])\n",
    "df1"
   ]
  },
  {
   "cell_type": "code",
   "execution_count": 182,
   "id": "cf856f89",
   "metadata": {
    "id": "cf856f89",
    "outputId": "313c4a3e-2803-4db1-e859-5e9f68b59f94"
   },
   "outputs": [
    {
     "data": {
      "text/plain": [
       "9     None\n",
       "11    None\n",
       "13    None\n",
       "15    None\n",
       "17    None\n",
       "dtype: object"
      ]
     },
     "execution_count": 182,
     "metadata": {},
     "output_type": "execute_result"
    }
   ],
   "source": [
    "def convert_json_tar(filename, json_file, tar_file):\n",
    "    df1 = pd.read_csv(filename, header=[0])      \n",
    "    df1.to_json(json_file, orient=\"records\", lines=True)\n",
    "    \n",
    "    with tarfile.open(tar_file, \"w:gz\") as tar:\n",
    "        tar.add(json_file, arcname=os.path.basename(json_file))\n",
    "df.apply(lambda x: convert_json_tar(x['path'], x['json_file'], x['tar_file']), axis=1)"
   ]
  },
  {
   "cell_type": "code",
   "execution_count": 183,
   "id": "bdc159d9",
   "metadata": {
    "id": "bdc159d9",
    "outputId": "4903be10-5801-4fdc-ba9e-59ba69679ae8"
   },
   "outputs": [
    {
     "name": "stdout",
     "output_type": "stream",
     "text": [
      "INFO: Pandarallel will run on 8 workers.\n",
      "INFO: Pandarallel will use standard multiprocessing data transfer (pipe) to transfer data between the main process and workers.\n",
      "\n",
      "WARNING: You are on Windows. If you detect any issue with pandarallel, be sure you checked out the Troubleshooting page:\n",
      "https://nalepae.github.io/pandarallel/troubleshooting/\n"
     ]
    },
    {
     "data": {
      "text/html": [
       "<div>\n",
       "<style scoped>\n",
       "    .dataframe tbody tr th:only-of-type {\n",
       "        vertical-align: middle;\n",
       "    }\n",
       "\n",
       "    .dataframe tbody tr th {\n",
       "        vertical-align: top;\n",
       "    }\n",
       "\n",
       "    .dataframe thead th {\n",
       "        text-align: right;\n",
       "    }\n",
       "</style>\n",
       "<table border=\"1\" class=\"dataframe\">\n",
       "  <thead>\n",
       "    <tr style=\"text-align: right;\">\n",
       "      <th></th>\n",
       "      <th>path</th>\n",
       "      <th>source</th>\n",
       "      <th>filename</th>\n",
       "      <th>json_file</th>\n",
       "      <th>tar_file</th>\n",
       "      <th>size</th>\n",
       "    </tr>\n",
       "  </thead>\n",
       "  <tbody>\n",
       "    <tr>\n",
       "      <th>9</th>\n",
       "      <td>split\\diaadia_000_filtered.csv</td>\n",
       "      <td>diaadia</td>\n",
       "      <td>diaadia_000_filtered.csv</td>\n",
       "      <td>json\\diaadia\\diaadia_000_filtered.json</td>\n",
       "      <td>tar\\diaadia\\diaadia_000_filtered.json.tar.gz</td>\n",
       "      <td>26.9</td>\n",
       "    </tr>\n",
       "    <tr>\n",
       "      <th>11</th>\n",
       "      <td>split\\diaadia_001_filtered.csv</td>\n",
       "      <td>diaadia</td>\n",
       "      <td>diaadia_001_filtered.csv</td>\n",
       "      <td>json\\diaadia\\diaadia_001_filtered.json</td>\n",
       "      <td>tar\\diaadia\\diaadia_001_filtered.json.tar.gz</td>\n",
       "      <td>20.5</td>\n",
       "    </tr>\n",
       "    <tr>\n",
       "      <th>13</th>\n",
       "      <td>split\\elpanam_000_filtered.csv</td>\n",
       "      <td>elpanam</td>\n",
       "      <td>elpanam_000_filtered.csv</td>\n",
       "      <td>json\\elpanam\\elpanam_000_filtered.json</td>\n",
       "      <td>tar\\elpanam\\elpanam_000_filtered.json.tar.gz</td>\n",
       "      <td>2.3</td>\n",
       "    </tr>\n",
       "    <tr>\n",
       "      <th>15</th>\n",
       "      <td>split\\lacritica_000_filtered.csv</td>\n",
       "      <td>lacritica</td>\n",
       "      <td>lacritica_000_filtered.csv</td>\n",
       "      <td>json\\lacritica\\lacritica_000_filtered.json</td>\n",
       "      <td>tar\\lacritica\\lacritica_000_filtered.json.tar.gz</td>\n",
       "      <td>9.9</td>\n",
       "    </tr>\n",
       "    <tr>\n",
       "      <th>17</th>\n",
       "      <td>split\\laprensa_000_filtered.csv</td>\n",
       "      <td>laprensa</td>\n",
       "      <td>laprensa_000_filtered.csv</td>\n",
       "      <td>json\\laprensa\\laprensa_000_filtered.json</td>\n",
       "      <td>tar\\laprensa\\laprensa_000_filtered.json.tar.gz</td>\n",
       "      <td>0.0</td>\n",
       "    </tr>\n",
       "  </tbody>\n",
       "</table>\n",
       "</div>"
      ],
      "text/plain": [
       "                                path     source                    filename  \\\n",
       "9     split\\diaadia_000_filtered.csv    diaadia    diaadia_000_filtered.csv   \n",
       "11    split\\diaadia_001_filtered.csv    diaadia    diaadia_001_filtered.csv   \n",
       "13    split\\elpanam_000_filtered.csv    elpanam    elpanam_000_filtered.csv   \n",
       "15  split\\lacritica_000_filtered.csv  lacritica  lacritica_000_filtered.csv   \n",
       "17   split\\laprensa_000_filtered.csv   laprensa   laprensa_000_filtered.csv   \n",
       "\n",
       "                                     json_file  \\\n",
       "9       json\\diaadia\\diaadia_000_filtered.json   \n",
       "11      json\\diaadia\\diaadia_001_filtered.json   \n",
       "13      json\\elpanam\\elpanam_000_filtered.json   \n",
       "15  json\\lacritica\\lacritica_000_filtered.json   \n",
       "17    json\\laprensa\\laprensa_000_filtered.json   \n",
       "\n",
       "                                            tar_file  size  \n",
       "9       tar\\diaadia\\diaadia_000_filtered.json.tar.gz  26.9  \n",
       "11      tar\\diaadia\\diaadia_001_filtered.json.tar.gz  20.5  \n",
       "13      tar\\elpanam\\elpanam_000_filtered.json.tar.gz   2.3  \n",
       "15  tar\\lacritica\\lacritica_000_filtered.json.tar.gz   9.9  \n",
       "17    tar\\laprensa\\laprensa_000_filtered.json.tar.gz   0.0  "
      ]
     },
     "execution_count": 183,
     "metadata": {},
     "output_type": "execute_result"
    }
   ],
   "source": [
    "pandarallel.initialize() \n",
    "\n",
    "df.source = df.path.apply(lambda x: x.split('\\\\')[1][0:x.index('_')-6]).values\n",
    "df['size'] = df['path'].apply(get_csv_size)\n",
    "df"
   ]
  },
  {
   "cell_type": "code",
   "execution_count": 53,
   "id": "cf6ed32d-9b1f-4080-bbd9-e2713589229e",
   "metadata": {},
   "outputs": [
    {
     "ename": "ValueError",
     "evalue": "'_' is not in list",
     "output_type": "error",
     "traceback": [
      "\u001b[1;31m---------------------------------------------------------------------------\u001b[0m",
      "\u001b[1;31mValueError\u001b[0m                                Traceback (most recent call last)",
      "\u001b[1;32m~\\AppData\\Local\\Temp/ipykernel_10760/2113176985.py\u001b[0m in \u001b[0;36m<module>\u001b[1;34m\u001b[0m\n\u001b[1;32m----> 1\u001b[1;33m \u001b[0mdf\u001b[0m\u001b[1;33m[\u001b[0m\u001b[1;34m'source'\u001b[0m\u001b[1;33m]\u001b[0m \u001b[1;33m=\u001b[0m \u001b[0mdf\u001b[0m\u001b[1;33m[\u001b[0m\u001b[1;34m'source'\u001b[0m\u001b[1;33m]\u001b[0m\u001b[1;33m[\u001b[0m\u001b[1;36m0\u001b[0m\u001b[1;33m:\u001b[0m\u001b[1;33m[\u001b[0m\u001b[1;34m'source'\u001b[0m\u001b[1;33m]\u001b[0m\u001b[1;33m.\u001b[0m\u001b[0mindex\u001b[0m\u001b[1;33m(\u001b[0m\u001b[1;34m'_'\u001b[0m\u001b[1;33m)\u001b[0m\u001b[1;33m]\u001b[0m\u001b[1;33m\u001b[0m\u001b[1;33m\u001b[0m\u001b[0m\n\u001b[0m",
      "\u001b[1;31mValueError\u001b[0m: '_' is not in list"
     ]
    }
   ],
   "source": []
  },
  {
   "cell_type": "code",
   "execution_count": 186,
   "id": "92b98bb6",
   "metadata": {
    "id": "92b98bb6",
    "outputId": "9bbdebe2-a3f4-47c0-fef5-87f58eac6f23"
   },
   "outputs": [
    {
     "name": "stdout",
     "output_type": "stream",
     "text": [
      "59.599999999999994\n"
     ]
    },
    {
     "data": {
      "text/html": [
       "<div>\n",
       "<style scoped>\n",
       "    .dataframe tbody tr th:only-of-type {\n",
       "        vertical-align: middle;\n",
       "    }\n",
       "\n",
       "    .dataframe tbody tr th {\n",
       "        vertical-align: top;\n",
       "    }\n",
       "\n",
       "    .dataframe thead th {\n",
       "        text-align: right;\n",
       "    }\n",
       "</style>\n",
       "<table border=\"1\" class=\"dataframe\">\n",
       "  <thead>\n",
       "    <tr style=\"text-align: right;\">\n",
       "      <th></th>\n",
       "      <th>size</th>\n",
       "    </tr>\n",
       "    <tr>\n",
       "      <th>source</th>\n",
       "      <th></th>\n",
       "    </tr>\n",
       "  </thead>\n",
       "  <tbody>\n",
       "    <tr>\n",
       "      <th>diaadia</th>\n",
       "      <td>47.4</td>\n",
       "    </tr>\n",
       "    <tr>\n",
       "      <th>elpanam</th>\n",
       "      <td>2.3</td>\n",
       "    </tr>\n",
       "    <tr>\n",
       "      <th>lacritica</th>\n",
       "      <td>9.9</td>\n",
       "    </tr>\n",
       "    <tr>\n",
       "      <th>laprensa</th>\n",
       "      <td>0.0</td>\n",
       "    </tr>\n",
       "  </tbody>\n",
       "</table>\n",
       "</div>"
      ],
      "text/plain": [
       "           size\n",
       "source         \n",
       "diaadia    47.4\n",
       "elpanam     2.3\n",
       "lacritica   9.9\n",
       "laprensa    0.0"
      ]
     },
     "execution_count": 186,
     "metadata": {},
     "output_type": "execute_result"
    }
   ],
   "source": [
    "print(df['size'].sum())\n",
    "\n",
    "df.groupby(by=[\"source\"], dropna=False).sum()"
   ]
  },
  {
   "cell_type": "code",
   "execution_count": null,
   "id": "0acaa5a3-d43c-446d-bf5c-46a9271d8d26",
   "metadata": {
    "id": "0acaa5a3-d43c-446d-bf5c-46a9271d8d26"
   },
   "outputs": [],
   "source": []
  }
 ],
 "metadata": {
  "colab": {
   "collapsed_sections": [],
   "name": "PanamaProcess.ipynb",
   "provenance": []
  },
  "kernelspec": {
   "display_name": "Python 3.10.0 64-bit",
   "language": "python",
   "name": "python3"
  },
  "language_info": {
   "codemirror_mode": {
    "name": "ipython",
    "version": 3
   },
   "file_extension": ".py",
   "mimetype": "text/x-python",
   "name": "python",
   "nbconvert_exporter": "python",
   "pygments_lexer": "ipython3",
   "version": "3.10.0"
  },
  "toc": {
   "base_numbering": 1,
   "nav_menu": {},
   "number_sections": false,
   "sideBar": true,
   "skip_h1_title": false,
   "title_cell": "Table of Contents",
   "title_sidebar": "Contents",
   "toc_cell": false,
   "toc_position": {
    "height": "calc(100% - 180px)",
    "left": "10px",
    "top": "150px",
    "width": "341.776px"
   },
   "toc_section_display": true,
   "toc_window_display": true
  },
  "vscode": {
   "interpreter": {
    "hash": "d443661417808ba15ac0fa6808c4aeae1dc376f4e1a878b9569c70609014ccb5"
   }
  }
 },
 "nbformat": 4,
 "nbformat_minor": 5
}
