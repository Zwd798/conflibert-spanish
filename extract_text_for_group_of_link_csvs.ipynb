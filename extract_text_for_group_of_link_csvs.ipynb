{
 "cells": [
  {
   "cell_type": "code",
   "execution_count": 1,
   "metadata": {},
   "outputs": [],
   "source": [
    "import sys\n",
    "import wget\n",
    "import newspaper\n",
    "from newspaper import Article\n",
    "import json\n",
    "import pandas as pd\n",
    "pd.set_option(\"max_colwidth\", 600)\n",
    "import ast\n",
    "from bs4 import BeautifulSoup\n",
    "import re\n",
    "import requests\n",
    "import time\n",
    "import numpy as np\n",
    "import zipfile\n",
    "import os\n",
    "import html\n",
    "import re\n",
    "import itertools\n",
    "import lxml\n",
    "import xmltodict\n",
    "import collections\n",
    "from urllib import request\n",
    "from collections import OrderedDict\n",
    "from urllib.error import HTTPError, URLError\n",
    "from urllib.parse import urlparse\n",
    "import sys\n",
    "import ast\n",
    "import time\n",
    "from pandarallel import pandarallel\n",
    "import requests\n",
    "import datefinder\n",
    "from datetime import datetime\n",
    "from tqdm import tqdm\n",
    "import psutil\n",
    "from selenium import webdriver\n",
    "from multiprocessing import Pool\n",
    "import random\n",
    "from pathlib import Path"
   ]
  },
  {
   "cell_type": "code",
   "execution_count": 2,
   "metadata": {},
   "outputs": [],
   "source": [
    "country = \"\"\n",
    "news_outlet = \"\"\n",
    "extract_text_sleep = random.randint(2,4)\n",
    "date_format = \"%Y-%m-%d\""
   ]
  },
  {
   "cell_type": "code",
   "execution_count": 3,
   "metadata": {},
   "outputs": [
    {
     "name": "stdout",
     "output_type": "stream",
     "text": [
      "['links_to_be_processed/Wooseong/links_spain_lasprovincias.csv', 'links_to_be_processed/Wooseong/links_spain_abcdesevilla.csv']\n"
     ]
    }
   ],
   "source": [
    "filepaths = ['links_to_be_processed/Wooseong/links_spain_lasprovincias.csv','links_to_be_processed/Wooseong/links_spain_abcdesevilla.csv']\n",
    "# filepaths = []\n",
    "\n",
    "# for path in Path('./links_to_be_processed/Wooseong').rglob('*.csv'):\n",
    "#     if 'unprocessed' not in str(path):\n",
    "#         filepaths.append(str(path))\n",
    "\n",
    "print(filepaths)"
   ]
  },
  {
   "cell_type": "code",
   "execution_count": 4,
   "metadata": {},
   "outputs": [],
   "source": [
    "def parallelize_dataframe(df, func, n_cores):\n",
    "    df_split = np.array_split(df, n_cores)\n",
    "    pool = Pool(n_cores)\n",
    "    df = pd.concat(pool.map(func, df_split))\n",
    "    pool.close()\n",
    "    pool.join()\n",
    "    return df"
   ]
  },
  {
   "cell_type": "code",
   "execution_count": 5,
   "metadata": {},
   "outputs": [],
   "source": [
    "def extract_text(url):\n",
    "    global country, news_outlet\n",
    "    text, title, date = None, None, None\n",
    "    try:\n",
    "        result = [country, news_outlet] + [''] * 3 \n",
    "        article = Article(url, keep_article_html=False)\n",
    "        article.download()\n",
    "        time.sleep(extract_text_sleep)\n",
    "        article.parse()\n",
    "        text = article.text\n",
    "        \n",
    "        if text:\n",
    "            text_copy = text\n",
    "            title = article.title\n",
    "            date = article.publish_date\n",
    "            if date:\n",
    "                date = date.strftime(date_format)\n",
    "            else:\n",
    "                matches = datefinder.find_dates(text_copy)\n",
    "                most_recent_datetime = sorted(matches)[-1]\n",
    "                date = most_recent_datetime.strftime(date_format)\n",
    "    finally:\n",
    "      if title:\n",
    "        result[2] = title\n",
    "      if date:\n",
    "        result[3] = date\n",
    "      if text:\n",
    "        result[4] = text\n",
    "      return result \n",
    "\n",
    "\n",
    "def extract_text_from_df(df):\n",
    "    content = df['link'].map(lambda x: extract_text(x))\n",
    "    df['content'] = content\n",
    "    df[['country', 'news_outlet', 'title', 'date', 'text']] = pd.DataFrame(df.content.tolist(), index= df.index)\n",
    "    df = df.drop(['content'], axis=1)\n",
    "    if 'Unnamed: 0' in df:\n",
    "        df = df.drop(['Unnamed: 0'], axis=1)\n",
    "    return df"
   ]
  },
  {
   "cell_type": "code",
   "execution_count": null,
   "metadata": {},
   "outputs": [
    {
     "name": "stderr",
     "output_type": "stream",
     "text": [
      "<ipython-input-6-a03576859728>:42: DtypeWarning: Columns (1) have mixed types. Specify dtype option on import or set low_memory=False.\n",
      "  unprocessed_csv_df = pd.read_csv(output_path_file, converters={'content': pd.eval})\n"
     ]
    },
    {
     "name": "stdout",
     "output_type": "stream",
     "text": [
      "Processing links file links_to_be_processed/Wooseong/links_spain_lasprovincias.csv\n",
      "160 / 160 text retrieved\n",
      "Batch of data of row range 192640-192800 complete in 28.96 seconds\n",
      "83.05% complete\n"
     ]
    },
    {
     "name": "stderr",
     "output_type": "stream",
     "text": [
      "<ipython-input-6-a03576859728>:46: DtypeWarning: Columns (1) have mixed types. Specify dtype option on import or set low_memory=False.\n",
      "  unprocessed_csv_df = pd.read_csv(output_path_file, on_bad_lines='skip', converters={'content': pd.eval})\n",
      "<ipython-input-6-a03576859728>:42: DtypeWarning: Columns (1) have mixed types. Specify dtype option on import or set low_memory=False.\n",
      "  unprocessed_csv_df = pd.read_csv(output_path_file, converters={'content': pd.eval})\n"
     ]
    },
    {
     "name": "stdout",
     "output_type": "stream",
     "text": [
      "Processing links file links_to_be_processed/Wooseong/links_spain_lasprovincias.csv\n",
      "160 / 160 text retrieved\n",
      "Batch of data of row range 192800-192960 complete in 30.27 seconds\n",
      "83.12% complete\n"
     ]
    },
    {
     "name": "stderr",
     "output_type": "stream",
     "text": [
      "<ipython-input-6-a03576859728>:46: DtypeWarning: Columns (1) have mixed types. Specify dtype option on import or set low_memory=False.\n",
      "  unprocessed_csv_df = pd.read_csv(output_path_file, on_bad_lines='skip', converters={'content': pd.eval})\n",
      "<ipython-input-6-a03576859728>:42: DtypeWarning: Columns (1) have mixed types. Specify dtype option on import or set low_memory=False.\n",
      "  unprocessed_csv_df = pd.read_csv(output_path_file, converters={'content': pd.eval})\n"
     ]
    },
    {
     "name": "stdout",
     "output_type": "stream",
     "text": [
      "Processing links file links_to_be_processed/Wooseong/links_spain_lasprovincias.csv\n",
      "160 / 160 text retrieved\n",
      "Batch of data of row range 192960-193120 complete in 30.41 seconds\n",
      "83.19% complete\n"
     ]
    },
    {
     "name": "stderr",
     "output_type": "stream",
     "text": [
      "<ipython-input-6-a03576859728>:46: DtypeWarning: Columns (1) have mixed types. Specify dtype option on import or set low_memory=False.\n",
      "  unprocessed_csv_df = pd.read_csv(output_path_file, on_bad_lines='skip', converters={'content': pd.eval})\n",
      "<ipython-input-6-a03576859728>:42: DtypeWarning: Columns (1) have mixed types. Specify dtype option on import or set low_memory=False.\n",
      "  unprocessed_csv_df = pd.read_csv(output_path_file, converters={'content': pd.eval})\n"
     ]
    },
    {
     "name": "stdout",
     "output_type": "stream",
     "text": [
      "Processing links file links_to_be_processed/Wooseong/links_spain_lasprovincias.csv\n",
      "160 / 160 text retrieved\n",
      "Batch of data of row range 193120-193280 complete in 30.81 seconds\n",
      "83.26% complete\n"
     ]
    },
    {
     "name": "stderr",
     "output_type": "stream",
     "text": [
      "<ipython-input-6-a03576859728>:46: DtypeWarning: Columns (1) have mixed types. Specify dtype option on import or set low_memory=False.\n",
      "  unprocessed_csv_df = pd.read_csv(output_path_file, on_bad_lines='skip', converters={'content': pd.eval})\n",
      "<ipython-input-6-a03576859728>:42: DtypeWarning: Columns (1) have mixed types. Specify dtype option on import or set low_memory=False.\n",
      "  unprocessed_csv_df = pd.read_csv(output_path_file, converters={'content': pd.eval})\n"
     ]
    },
    {
     "name": "stdout",
     "output_type": "stream",
     "text": [
      "Processing links file links_to_be_processed/Wooseong/links_spain_lasprovincias.csv\n",
      "160 / 160 text retrieved\n",
      "Batch of data of row range 193280-193440 complete in 30.6 seconds\n",
      "83.33% complete\n"
     ]
    },
    {
     "name": "stderr",
     "output_type": "stream",
     "text": [
      "<ipython-input-6-a03576859728>:46: DtypeWarning: Columns (1) have mixed types. Specify dtype option on import or set low_memory=False.\n",
      "  unprocessed_csv_df = pd.read_csv(output_path_file, on_bad_lines='skip', converters={'content': pd.eval})\n",
      "<ipython-input-6-a03576859728>:42: DtypeWarning: Columns (1) have mixed types. Specify dtype option on import or set low_memory=False.\n",
      "  unprocessed_csv_df = pd.read_csv(output_path_file, converters={'content': pd.eval})\n"
     ]
    },
    {
     "name": "stdout",
     "output_type": "stream",
     "text": [
      "Processing links file links_to_be_processed/Wooseong/links_spain_lasprovincias.csv\n",
      "160 / 160 text retrieved\n",
      "Batch of data of row range 193440-193600 complete in 35.4 seconds\n",
      "83.4% complete\n"
     ]
    },
    {
     "name": "stderr",
     "output_type": "stream",
     "text": [
      "<ipython-input-6-a03576859728>:46: DtypeWarning: Columns (1) have mixed types. Specify dtype option on import or set low_memory=False.\n",
      "  unprocessed_csv_df = pd.read_csv(output_path_file, on_bad_lines='skip', converters={'content': pd.eval})\n",
      "<ipython-input-6-a03576859728>:42: DtypeWarning: Columns (1) have mixed types. Specify dtype option on import or set low_memory=False.\n",
      "  unprocessed_csv_df = pd.read_csv(output_path_file, converters={'content': pd.eval})\n"
     ]
    },
    {
     "name": "stdout",
     "output_type": "stream",
     "text": [
      "Processing links file links_to_be_processed/Wooseong/links_spain_lasprovincias.csv\n",
      "160 / 160 text retrieved\n",
      "Batch of data of row range 193600-193760 complete in 41.55 seconds\n",
      "83.47% complete\n"
     ]
    },
    {
     "name": "stderr",
     "output_type": "stream",
     "text": [
      "<ipython-input-6-a03576859728>:46: DtypeWarning: Columns (1) have mixed types. Specify dtype option on import or set low_memory=False.\n",
      "  unprocessed_csv_df = pd.read_csv(output_path_file, on_bad_lines='skip', converters={'content': pd.eval})\n",
      "<ipython-input-6-a03576859728>:42: DtypeWarning: Columns (1) have mixed types. Specify dtype option on import or set low_memory=False.\n",
      "  unprocessed_csv_df = pd.read_csv(output_path_file, converters={'content': pd.eval})\n"
     ]
    },
    {
     "name": "stdout",
     "output_type": "stream",
     "text": [
      "Processing links file links_to_be_processed/Wooseong/links_spain_lasprovincias.csv\n",
      "160 / 160 text retrieved\n",
      "Batch of data of row range 193760-193920 complete in 34.85 seconds\n",
      "83.54% complete\n"
     ]
    },
    {
     "name": "stderr",
     "output_type": "stream",
     "text": [
      "<ipython-input-6-a03576859728>:46: DtypeWarning: Columns (1) have mixed types. Specify dtype option on import or set low_memory=False.\n",
      "  unprocessed_csv_df = pd.read_csv(output_path_file, on_bad_lines='skip', converters={'content': pd.eval})\n",
      "<ipython-input-6-a03576859728>:42: DtypeWarning: Columns (1) have mixed types. Specify dtype option on import or set low_memory=False.\n",
      "  unprocessed_csv_df = pd.read_csv(output_path_file, converters={'content': pd.eval})\n"
     ]
    },
    {
     "name": "stdout",
     "output_type": "stream",
     "text": [
      "Processing links file links_to_be_processed/Wooseong/links_spain_lasprovincias.csv\n",
      "160 / 160 text retrieved\n",
      "Batch of data of row range 193920-194080 complete in 39.29 seconds\n",
      "83.6% complete\n"
     ]
    },
    {
     "name": "stderr",
     "output_type": "stream",
     "text": [
      "<ipython-input-6-a03576859728>:46: DtypeWarning: Columns (1) have mixed types. Specify dtype option on import or set low_memory=False.\n",
      "  unprocessed_csv_df = pd.read_csv(output_path_file, on_bad_lines='skip', converters={'content': pd.eval})\n",
      "<ipython-input-6-a03576859728>:42: DtypeWarning: Columns (1) have mixed types. Specify dtype option on import or set low_memory=False.\n",
      "  unprocessed_csv_df = pd.read_csv(output_path_file, converters={'content': pd.eval})\n"
     ]
    },
    {
     "name": "stdout",
     "output_type": "stream",
     "text": [
      "Processing links file links_to_be_processed/Wooseong/links_spain_lasprovincias.csv\n",
      "160 / 160 text retrieved\n",
      "Batch of data of row range 194080-194240 complete in 40.56 seconds\n",
      "83.67% complete\n"
     ]
    },
    {
     "name": "stderr",
     "output_type": "stream",
     "text": [
      "<ipython-input-6-a03576859728>:46: DtypeWarning: Columns (1) have mixed types. Specify dtype option on import or set low_memory=False.\n",
      "  unprocessed_csv_df = pd.read_csv(output_path_file, on_bad_lines='skip', converters={'content': pd.eval})\n",
      "<ipython-input-6-a03576859728>:42: DtypeWarning: Columns (1) have mixed types. Specify dtype option on import or set low_memory=False.\n",
      "  unprocessed_csv_df = pd.read_csv(output_path_file, converters={'content': pd.eval})\n"
     ]
    },
    {
     "name": "stdout",
     "output_type": "stream",
     "text": [
      "Processing links file links_to_be_processed/Wooseong/links_spain_lasprovincias.csv\n",
      "160 / 160 text retrieved\n",
      "Batch of data of row range 194240-194400 complete in 41.56 seconds\n",
      "83.74% complete\n"
     ]
    },
    {
     "name": "stderr",
     "output_type": "stream",
     "text": [
      "<ipython-input-6-a03576859728>:46: DtypeWarning: Columns (1) have mixed types. Specify dtype option on import or set low_memory=False.\n",
      "  unprocessed_csv_df = pd.read_csv(output_path_file, on_bad_lines='skip', converters={'content': pd.eval})\n",
      "<ipython-input-6-a03576859728>:42: DtypeWarning: Columns (1) have mixed types. Specify dtype option on import or set low_memory=False.\n",
      "  unprocessed_csv_df = pd.read_csv(output_path_file, converters={'content': pd.eval})\n"
     ]
    },
    {
     "name": "stdout",
     "output_type": "stream",
     "text": [
      "Processing links file links_to_be_processed/Wooseong/links_spain_lasprovincias.csv\n",
      "160 / 160 text retrieved\n",
      "Batch of data of row range 194400-194560 complete in 41.87 seconds\n",
      "83.81% complete\n"
     ]
    },
    {
     "name": "stderr",
     "output_type": "stream",
     "text": [
      "<ipython-input-6-a03576859728>:46: DtypeWarning: Columns (1) have mixed types. Specify dtype option on import or set low_memory=False.\n",
      "  unprocessed_csv_df = pd.read_csv(output_path_file, on_bad_lines='skip', converters={'content': pd.eval})\n",
      "<ipython-input-6-a03576859728>:42: DtypeWarning: Columns (1) have mixed types. Specify dtype option on import or set low_memory=False.\n",
      "  unprocessed_csv_df = pd.read_csv(output_path_file, converters={'content': pd.eval})\n"
     ]
    },
    {
     "name": "stdout",
     "output_type": "stream",
     "text": [
      "Processing links file links_to_be_processed/Wooseong/links_spain_lasprovincias.csv\n",
      "160 / 160 text retrieved\n",
      "Batch of data of row range 194560-194720 complete in 40.82 seconds\n",
      "83.88% complete\n"
     ]
    },
    {
     "name": "stderr",
     "output_type": "stream",
     "text": [
      "<ipython-input-6-a03576859728>:46: DtypeWarning: Columns (1) have mixed types. Specify dtype option on import or set low_memory=False.\n",
      "  unprocessed_csv_df = pd.read_csv(output_path_file, on_bad_lines='skip', converters={'content': pd.eval})\n",
      "<ipython-input-6-a03576859728>:42: DtypeWarning: Columns (1) have mixed types. Specify dtype option on import or set low_memory=False.\n",
      "  unprocessed_csv_df = pd.read_csv(output_path_file, converters={'content': pd.eval})\n"
     ]
    },
    {
     "name": "stdout",
     "output_type": "stream",
     "text": [
      "Processing links file links_to_be_processed/Wooseong/links_spain_lasprovincias.csv\n",
      "159 / 160 text retrieved\n",
      "Batch of data of row range 194720-194880 complete in 41.79 seconds\n",
      "83.95% complete\n"
     ]
    },
    {
     "name": "stderr",
     "output_type": "stream",
     "text": [
      "<ipython-input-6-a03576859728>:46: DtypeWarning: Columns (1) have mixed types. Specify dtype option on import or set low_memory=False.\n",
      "  unprocessed_csv_df = pd.read_csv(output_path_file, on_bad_lines='skip', converters={'content': pd.eval})\n",
      "<ipython-input-6-a03576859728>:42: DtypeWarning: Columns (1) have mixed types. Specify dtype option on import or set low_memory=False.\n",
      "  unprocessed_csv_df = pd.read_csv(output_path_file, converters={'content': pd.eval})\n"
     ]
    },
    {
     "name": "stdout",
     "output_type": "stream",
     "text": [
      "Processing links file links_to_be_processed/Wooseong/links_spain_lasprovincias.csv\n",
      "159 / 160 text retrieved\n",
      "Batch of data of row range 194880-195040 complete in 38.66 seconds\n",
      "84.02% complete\n"
     ]
    },
    {
     "name": "stderr",
     "output_type": "stream",
     "text": [
      "<ipython-input-6-a03576859728>:46: DtypeWarning: Columns (1) have mixed types. Specify dtype option on import or set low_memory=False.\n",
      "  unprocessed_csv_df = pd.read_csv(output_path_file, on_bad_lines='skip', converters={'content': pd.eval})\n",
      "<ipython-input-6-a03576859728>:42: DtypeWarning: Columns (1) have mixed types. Specify dtype option on import or set low_memory=False.\n",
      "  unprocessed_csv_df = pd.read_csv(output_path_file, converters={'content': pd.eval})\n"
     ]
    },
    {
     "name": "stdout",
     "output_type": "stream",
     "text": [
      "Processing links file links_to_be_processed/Wooseong/links_spain_lasprovincias.csv\n",
      "160 / 160 text retrieved\n",
      "Batch of data of row range 195040-195200 complete in 41.85 seconds\n",
      "84.09% complete\n"
     ]
    },
    {
     "name": "stderr",
     "output_type": "stream",
     "text": [
      "<ipython-input-6-a03576859728>:46: DtypeWarning: Columns (1) have mixed types. Specify dtype option on import or set low_memory=False.\n",
      "  unprocessed_csv_df = pd.read_csv(output_path_file, on_bad_lines='skip', converters={'content': pd.eval})\n",
      "<ipython-input-6-a03576859728>:42: DtypeWarning: Columns (1) have mixed types. Specify dtype option on import or set low_memory=False.\n",
      "  unprocessed_csv_df = pd.read_csv(output_path_file, converters={'content': pd.eval})\n"
     ]
    },
    {
     "name": "stdout",
     "output_type": "stream",
     "text": [
      "Processing links file links_to_be_processed/Wooseong/links_spain_lasprovincias.csv\n",
      "160 / 160 text retrieved\n",
      "Batch of data of row range 195200-195360 complete in 42.44 seconds\n",
      "84.16% complete\n"
     ]
    },
    {
     "name": "stderr",
     "output_type": "stream",
     "text": [
      "<ipython-input-6-a03576859728>:46: DtypeWarning: Columns (1) have mixed types. Specify dtype option on import or set low_memory=False.\n",
      "  unprocessed_csv_df = pd.read_csv(output_path_file, on_bad_lines='skip', converters={'content': pd.eval})\n",
      "<ipython-input-6-a03576859728>:42: DtypeWarning: Columns (1) have mixed types. Specify dtype option on import or set low_memory=False.\n",
      "  unprocessed_csv_df = pd.read_csv(output_path_file, converters={'content': pd.eval})\n"
     ]
    },
    {
     "name": "stdout",
     "output_type": "stream",
     "text": [
      "Processing links file links_to_be_processed/Wooseong/links_spain_lasprovincias.csv\n",
      "160 / 160 text retrieved\n",
      "Batch of data of row range 195360-195520 complete in 44.08 seconds\n",
      "84.22% complete\n"
     ]
    },
    {
     "name": "stderr",
     "output_type": "stream",
     "text": [
      "<ipython-input-6-a03576859728>:46: DtypeWarning: Columns (1) have mixed types. Specify dtype option on import or set low_memory=False.\n",
      "  unprocessed_csv_df = pd.read_csv(output_path_file, on_bad_lines='skip', converters={'content': pd.eval})\n",
      "<ipython-input-6-a03576859728>:42: DtypeWarning: Columns (1) have mixed types. Specify dtype option on import or set low_memory=False.\n",
      "  unprocessed_csv_df = pd.read_csv(output_path_file, converters={'content': pd.eval})\n"
     ]
    },
    {
     "name": "stdout",
     "output_type": "stream",
     "text": [
      "Processing links file links_to_be_processed/Wooseong/links_spain_lasprovincias.csv\n",
      "160 / 160 text retrieved\n",
      "Batch of data of row range 195520-195680 complete in 40.02 seconds\n",
      "84.29% complete\n"
     ]
    },
    {
     "name": "stderr",
     "output_type": "stream",
     "text": [
      "<ipython-input-6-a03576859728>:46: DtypeWarning: Columns (1) have mixed types. Specify dtype option on import or set low_memory=False.\n",
      "  unprocessed_csv_df = pd.read_csv(output_path_file, on_bad_lines='skip', converters={'content': pd.eval})\n",
      "<ipython-input-6-a03576859728>:42: DtypeWarning: Columns (1,8) have mixed types. Specify dtype option on import or set low_memory=False.\n",
      "  unprocessed_csv_df = pd.read_csv(output_path_file, converters={'content': pd.eval})\n"
     ]
    },
    {
     "name": "stdout",
     "output_type": "stream",
     "text": [
      "Processing links file links_to_be_processed/Wooseong/links_spain_lasprovincias.csv\n",
      "160 / 160 text retrieved\n",
      "Batch of data of row range 195680-195840 complete in 42.39 seconds\n",
      "84.36% complete\n"
     ]
    },
    {
     "name": "stderr",
     "output_type": "stream",
     "text": [
      "<ipython-input-6-a03576859728>:46: DtypeWarning: Columns (1,8) have mixed types. Specify dtype option on import or set low_memory=False.\n",
      "  unprocessed_csv_df = pd.read_csv(output_path_file, on_bad_lines='skip', converters={'content': pd.eval})\n",
      "<ipython-input-6-a03576859728>:42: DtypeWarning: Columns (1,8) have mixed types. Specify dtype option on import or set low_memory=False.\n",
      "  unprocessed_csv_df = pd.read_csv(output_path_file, converters={'content': pd.eval})\n"
     ]
    },
    {
     "name": "stdout",
     "output_type": "stream",
     "text": [
      "Processing links file links_to_be_processed/Wooseong/links_spain_lasprovincias.csv\n",
      "160 / 160 text retrieved\n",
      "Batch of data of row range 195840-196000 complete in 42.04 seconds\n",
      "84.43% complete\n"
     ]
    },
    {
     "name": "stderr",
     "output_type": "stream",
     "text": [
      "<ipython-input-6-a03576859728>:46: DtypeWarning: Columns (1,8) have mixed types. Specify dtype option on import or set low_memory=False.\n",
      "  unprocessed_csv_df = pd.read_csv(output_path_file, on_bad_lines='skip', converters={'content': pd.eval})\n",
      "<ipython-input-6-a03576859728>:42: DtypeWarning: Columns (1,8) have mixed types. Specify dtype option on import or set low_memory=False.\n",
      "  unprocessed_csv_df = pd.read_csv(output_path_file, converters={'content': pd.eval})\n"
     ]
    },
    {
     "name": "stdout",
     "output_type": "stream",
     "text": [
      "Processing links file links_to_be_processed/Wooseong/links_spain_lasprovincias.csv\n",
      "160 / 160 text retrieved\n",
      "Batch of data of row range 196000-196160 complete in 40.31 seconds\n",
      "84.5% complete\n"
     ]
    },
    {
     "name": "stderr",
     "output_type": "stream",
     "text": [
      "<ipython-input-6-a03576859728>:46: DtypeWarning: Columns (1,8) have mixed types. Specify dtype option on import or set low_memory=False.\n",
      "  unprocessed_csv_df = pd.read_csv(output_path_file, on_bad_lines='skip', converters={'content': pd.eval})\n",
      "<ipython-input-6-a03576859728>:42: DtypeWarning: Columns (1,8) have mixed types. Specify dtype option on import or set low_memory=False.\n",
      "  unprocessed_csv_df = pd.read_csv(output_path_file, converters={'content': pd.eval})\n"
     ]
    },
    {
     "name": "stdout",
     "output_type": "stream",
     "text": [
      "Processing links file links_to_be_processed/Wooseong/links_spain_lasprovincias.csv\n",
      "160 / 160 text retrieved\n",
      "Batch of data of row range 196160-196320 complete in 41.01 seconds\n",
      "84.57% complete\n"
     ]
    },
    {
     "name": "stderr",
     "output_type": "stream",
     "text": [
      "<ipython-input-6-a03576859728>:46: DtypeWarning: Columns (1,8) have mixed types. Specify dtype option on import or set low_memory=False.\n",
      "  unprocessed_csv_df = pd.read_csv(output_path_file, on_bad_lines='skip', converters={'content': pd.eval})\n",
      "<ipython-input-6-a03576859728>:42: DtypeWarning: Columns (1,8) have mixed types. Specify dtype option on import or set low_memory=False.\n",
      "  unprocessed_csv_df = pd.read_csv(output_path_file, converters={'content': pd.eval})\n"
     ]
    },
    {
     "name": "stdout",
     "output_type": "stream",
     "text": [
      "Processing links file links_to_be_processed/Wooseong/links_spain_lasprovincias.csv\n",
      "153 / 160 text retrieved\n",
      "Batch of data of row range 196320-196480 complete in 41.07 seconds\n",
      "84.64% complete\n"
     ]
    },
    {
     "name": "stderr",
     "output_type": "stream",
     "text": [
      "<ipython-input-6-a03576859728>:46: DtypeWarning: Columns (1,8) have mixed types. Specify dtype option on import or set low_memory=False.\n",
      "  unprocessed_csv_df = pd.read_csv(output_path_file, on_bad_lines='skip', converters={'content': pd.eval})\n",
      "<ipython-input-6-a03576859728>:42: DtypeWarning: Columns (1,8) have mixed types. Specify dtype option on import or set low_memory=False.\n",
      "  unprocessed_csv_df = pd.read_csv(output_path_file, converters={'content': pd.eval})\n"
     ]
    },
    {
     "name": "stdout",
     "output_type": "stream",
     "text": [
      "Processing links file links_to_be_processed/Wooseong/links_spain_lasprovincias.csv\n",
      "152 / 160 text retrieved\n",
      "Batch of data of row range 196480-196640 complete in 39.58 seconds\n",
      "84.71% complete\n"
     ]
    },
    {
     "name": "stderr",
     "output_type": "stream",
     "text": [
      "<ipython-input-6-a03576859728>:46: DtypeWarning: Columns (1,8) have mixed types. Specify dtype option on import or set low_memory=False.\n",
      "  unprocessed_csv_df = pd.read_csv(output_path_file, on_bad_lines='skip', converters={'content': pd.eval})\n",
      "<ipython-input-6-a03576859728>:42: DtypeWarning: Columns (1,8) have mixed types. Specify dtype option on import or set low_memory=False.\n",
      "  unprocessed_csv_df = pd.read_csv(output_path_file, converters={'content': pd.eval})\n"
     ]
    },
    {
     "name": "stdout",
     "output_type": "stream",
     "text": [
      "Processing links file links_to_be_processed/Wooseong/links_spain_lasprovincias.csv\n",
      "155 / 160 text retrieved\n",
      "Batch of data of row range 196640-196800 complete in 34.52 seconds\n",
      "84.78% complete\n"
     ]
    },
    {
     "name": "stderr",
     "output_type": "stream",
     "text": [
      "<ipython-input-6-a03576859728>:46: DtypeWarning: Columns (1,8) have mixed types. Specify dtype option on import or set low_memory=False.\n",
      "  unprocessed_csv_df = pd.read_csv(output_path_file, on_bad_lines='skip', converters={'content': pd.eval})\n",
      "<ipython-input-6-a03576859728>:42: DtypeWarning: Columns (1,8) have mixed types. Specify dtype option on import or set low_memory=False.\n",
      "  unprocessed_csv_df = pd.read_csv(output_path_file, converters={'content': pd.eval})\n"
     ]
    },
    {
     "name": "stdout",
     "output_type": "stream",
     "text": [
      "Processing links file links_to_be_processed/Wooseong/links_spain_lasprovincias.csv\n",
      "159 / 160 text retrieved\n",
      "Batch of data of row range 196800-196960 complete in 34.91 seconds\n",
      "84.84% complete\n"
     ]
    },
    {
     "name": "stderr",
     "output_type": "stream",
     "text": [
      "<ipython-input-6-a03576859728>:46: DtypeWarning: Columns (1,8) have mixed types. Specify dtype option on import or set low_memory=False.\n",
      "  unprocessed_csv_df = pd.read_csv(output_path_file, on_bad_lines='skip', converters={'content': pd.eval})\n",
      "<ipython-input-6-a03576859728>:42: DtypeWarning: Columns (1,8) have mixed types. Specify dtype option on import or set low_memory=False.\n",
      "  unprocessed_csv_df = pd.read_csv(output_path_file, converters={'content': pd.eval})\n"
     ]
    },
    {
     "name": "stdout",
     "output_type": "stream",
     "text": [
      "Processing links file links_to_be_processed/Wooseong/links_spain_lasprovincias.csv\n",
      "160 / 160 text retrieved\n",
      "Batch of data of row range 196960-197120 complete in 39.94 seconds\n",
      "84.91% complete\n"
     ]
    },
    {
     "name": "stderr",
     "output_type": "stream",
     "text": [
      "<ipython-input-6-a03576859728>:46: DtypeWarning: Columns (1,8) have mixed types. Specify dtype option on import or set low_memory=False.\n",
      "  unprocessed_csv_df = pd.read_csv(output_path_file, on_bad_lines='skip', converters={'content': pd.eval})\n",
      "<ipython-input-6-a03576859728>:42: DtypeWarning: Columns (1,8) have mixed types. Specify dtype option on import or set low_memory=False.\n",
      "  unprocessed_csv_df = pd.read_csv(output_path_file, converters={'content': pd.eval})\n"
     ]
    },
    {
     "name": "stdout",
     "output_type": "stream",
     "text": [
      "Processing links file links_to_be_processed/Wooseong/links_spain_lasprovincias.csv\n",
      "155 / 160 text retrieved\n",
      "Batch of data of row range 197120-197280 complete in 35.4 seconds\n",
      "84.98% complete\n"
     ]
    },
    {
     "name": "stderr",
     "output_type": "stream",
     "text": [
      "<ipython-input-6-a03576859728>:46: DtypeWarning: Columns (1,8) have mixed types. Specify dtype option on import or set low_memory=False.\n",
      "  unprocessed_csv_df = pd.read_csv(output_path_file, on_bad_lines='skip', converters={'content': pd.eval})\n",
      "<ipython-input-6-a03576859728>:42: DtypeWarning: Columns (1,8) have mixed types. Specify dtype option on import or set low_memory=False.\n",
      "  unprocessed_csv_df = pd.read_csv(output_path_file, converters={'content': pd.eval})\n"
     ]
    },
    {
     "name": "stdout",
     "output_type": "stream",
     "text": [
      "Processing links file links_to_be_processed/Wooseong/links_spain_lasprovincias.csv\n",
      "159 / 160 text retrieved\n",
      "Batch of data of row range 197280-197440 complete in 35.92 seconds\n",
      "85.05% complete\n"
     ]
    },
    {
     "name": "stderr",
     "output_type": "stream",
     "text": [
      "<ipython-input-6-a03576859728>:46: DtypeWarning: Columns (1,8) have mixed types. Specify dtype option on import or set low_memory=False.\n",
      "  unprocessed_csv_df = pd.read_csv(output_path_file, on_bad_lines='skip', converters={'content': pd.eval})\n",
      "<ipython-input-6-a03576859728>:42: DtypeWarning: Columns (1,8) have mixed types. Specify dtype option on import or set low_memory=False.\n",
      "  unprocessed_csv_df = pd.read_csv(output_path_file, converters={'content': pd.eval})\n"
     ]
    },
    {
     "name": "stdout",
     "output_type": "stream",
     "text": [
      "Processing links file links_to_be_processed/Wooseong/links_spain_lasprovincias.csv\n",
      "156 / 160 text retrieved\n",
      "Batch of data of row range 197440-197600 complete in 35.4 seconds\n",
      "85.12% complete\n"
     ]
    },
    {
     "name": "stderr",
     "output_type": "stream",
     "text": [
      "<ipython-input-6-a03576859728>:46: DtypeWarning: Columns (1,8) have mixed types. Specify dtype option on import or set low_memory=False.\n",
      "  unprocessed_csv_df = pd.read_csv(output_path_file, on_bad_lines='skip', converters={'content': pd.eval})\n",
      "<ipython-input-6-a03576859728>:42: DtypeWarning: Columns (1,8) have mixed types. Specify dtype option on import or set low_memory=False.\n",
      "  unprocessed_csv_df = pd.read_csv(output_path_file, converters={'content': pd.eval})\n"
     ]
    },
    {
     "name": "stdout",
     "output_type": "stream",
     "text": [
      "Processing links file links_to_be_processed/Wooseong/links_spain_lasprovincias.csv\n",
      "156 / 160 text retrieved\n",
      "Batch of data of row range 197600-197760 complete in 35.11 seconds\n",
      "85.19% complete\n"
     ]
    },
    {
     "name": "stderr",
     "output_type": "stream",
     "text": [
      "<ipython-input-6-a03576859728>:46: DtypeWarning: Columns (1,8) have mixed types. Specify dtype option on import or set low_memory=False.\n",
      "  unprocessed_csv_df = pd.read_csv(output_path_file, on_bad_lines='skip', converters={'content': pd.eval})\n",
      "<ipython-input-6-a03576859728>:42: DtypeWarning: Columns (1,8) have mixed types. Specify dtype option on import or set low_memory=False.\n",
      "  unprocessed_csv_df = pd.read_csv(output_path_file, converters={'content': pd.eval})\n"
     ]
    },
    {
     "name": "stdout",
     "output_type": "stream",
     "text": [
      "Processing links file links_to_be_processed/Wooseong/links_spain_lasprovincias.csv\n",
      "156 / 160 text retrieved\n",
      "Batch of data of row range 197760-197920 complete in 35.53 seconds\n",
      "85.26% complete\n"
     ]
    },
    {
     "name": "stderr",
     "output_type": "stream",
     "text": [
      "<ipython-input-6-a03576859728>:46: DtypeWarning: Columns (1,8) have mixed types. Specify dtype option on import or set low_memory=False.\n",
      "  unprocessed_csv_df = pd.read_csv(output_path_file, on_bad_lines='skip', converters={'content': pd.eval})\n",
      "<ipython-input-6-a03576859728>:42: DtypeWarning: Columns (1,8) have mixed types. Specify dtype option on import or set low_memory=False.\n",
      "  unprocessed_csv_df = pd.read_csv(output_path_file, converters={'content': pd.eval})\n"
     ]
    },
    {
     "name": "stdout",
     "output_type": "stream",
     "text": [
      "Processing links file links_to_be_processed/Wooseong/links_spain_lasprovincias.csv\n",
      "159 / 160 text retrieved\n",
      "Batch of data of row range 197920-198080 complete in 35.23 seconds\n",
      "85.33% complete\n"
     ]
    },
    {
     "name": "stderr",
     "output_type": "stream",
     "text": [
      "<ipython-input-6-a03576859728>:46: DtypeWarning: Columns (1,8) have mixed types. Specify dtype option on import or set low_memory=False.\n",
      "  unprocessed_csv_df = pd.read_csv(output_path_file, on_bad_lines='skip', converters={'content': pd.eval})\n",
      "<ipython-input-6-a03576859728>:42: DtypeWarning: Columns (1,8) have mixed types. Specify dtype option on import or set low_memory=False.\n",
      "  unprocessed_csv_df = pd.read_csv(output_path_file, converters={'content': pd.eval})\n"
     ]
    },
    {
     "name": "stdout",
     "output_type": "stream",
     "text": [
      "Processing links file links_to_be_processed/Wooseong/links_spain_lasprovincias.csv\n",
      "154 / 160 text retrieved\n",
      "Batch of data of row range 198080-198240 complete in 34.2 seconds\n",
      "85.4% complete\n"
     ]
    },
    {
     "name": "stderr",
     "output_type": "stream",
     "text": [
      "<ipython-input-6-a03576859728>:46: DtypeWarning: Columns (1,8) have mixed types. Specify dtype option on import or set low_memory=False.\n",
      "  unprocessed_csv_df = pd.read_csv(output_path_file, on_bad_lines='skip', converters={'content': pd.eval})\n",
      "<ipython-input-6-a03576859728>:42: DtypeWarning: Columns (1,8) have mixed types. Specify dtype option on import or set low_memory=False.\n",
      "  unprocessed_csv_df = pd.read_csv(output_path_file, converters={'content': pd.eval})\n"
     ]
    },
    {
     "name": "stdout",
     "output_type": "stream",
     "text": [
      "Processing links file links_to_be_processed/Wooseong/links_spain_lasprovincias.csv\n",
      "153 / 160 text retrieved\n",
      "Batch of data of row range 198240-198400 complete in 34.47 seconds\n",
      "85.46% complete\n"
     ]
    },
    {
     "name": "stderr",
     "output_type": "stream",
     "text": [
      "<ipython-input-6-a03576859728>:46: DtypeWarning: Columns (1,8) have mixed types. Specify dtype option on import or set low_memory=False.\n",
      "  unprocessed_csv_df = pd.read_csv(output_path_file, on_bad_lines='skip', converters={'content': pd.eval})\n",
      "<ipython-input-6-a03576859728>:42: DtypeWarning: Columns (1,8) have mixed types. Specify dtype option on import or set low_memory=False.\n",
      "  unprocessed_csv_df = pd.read_csv(output_path_file, converters={'content': pd.eval})\n"
     ]
    },
    {
     "name": "stdout",
     "output_type": "stream",
     "text": [
      "Processing links file links_to_be_processed/Wooseong/links_spain_lasprovincias.csv\n",
      "158 / 160 text retrieved\n",
      "Batch of data of row range 198400-198560 complete in 34.4 seconds\n",
      "85.53% complete\n"
     ]
    },
    {
     "name": "stderr",
     "output_type": "stream",
     "text": [
      "<ipython-input-6-a03576859728>:46: DtypeWarning: Columns (1,8) have mixed types. Specify dtype option on import or set low_memory=False.\n",
      "  unprocessed_csv_df = pd.read_csv(output_path_file, on_bad_lines='skip', converters={'content': pd.eval})\n",
      "<ipython-input-6-a03576859728>:42: DtypeWarning: Columns (1,8) have mixed types. Specify dtype option on import or set low_memory=False.\n",
      "  unprocessed_csv_df = pd.read_csv(output_path_file, converters={'content': pd.eval})\n"
     ]
    },
    {
     "name": "stdout",
     "output_type": "stream",
     "text": [
      "Processing links file links_to_be_processed/Wooseong/links_spain_lasprovincias.csv\n",
      "159 / 160 text retrieved\n",
      "Batch of data of row range 198560-198720 complete in 34.15 seconds\n",
      "85.6% complete\n"
     ]
    },
    {
     "name": "stderr",
     "output_type": "stream",
     "text": [
      "<ipython-input-6-a03576859728>:46: DtypeWarning: Columns (1,8) have mixed types. Specify dtype option on import or set low_memory=False.\n",
      "  unprocessed_csv_df = pd.read_csv(output_path_file, on_bad_lines='skip', converters={'content': pd.eval})\n",
      "<ipython-input-6-a03576859728>:42: DtypeWarning: Columns (1,8) have mixed types. Specify dtype option on import or set low_memory=False.\n",
      "  unprocessed_csv_df = pd.read_csv(output_path_file, converters={'content': pd.eval})\n"
     ]
    },
    {
     "name": "stdout",
     "output_type": "stream",
     "text": [
      "Processing links file links_to_be_processed/Wooseong/links_spain_lasprovincias.csv\n",
      "157 / 160 text retrieved\n",
      "Batch of data of row range 198720-198880 complete in 34.23 seconds\n",
      "85.67% complete\n"
     ]
    },
    {
     "name": "stderr",
     "output_type": "stream",
     "text": [
      "<ipython-input-6-a03576859728>:46: DtypeWarning: Columns (1,8) have mixed types. Specify dtype option on import or set low_memory=False.\n",
      "  unprocessed_csv_df = pd.read_csv(output_path_file, on_bad_lines='skip', converters={'content': pd.eval})\n",
      "<ipython-input-6-a03576859728>:42: DtypeWarning: Columns (1,8) have mixed types. Specify dtype option on import or set low_memory=False.\n",
      "  unprocessed_csv_df = pd.read_csv(output_path_file, converters={'content': pd.eval})\n"
     ]
    },
    {
     "name": "stdout",
     "output_type": "stream",
     "text": [
      "Processing links file links_to_be_processed/Wooseong/links_spain_lasprovincias.csv\n",
      "156 / 160 text retrieved\n",
      "Batch of data of row range 198880-199040 complete in 34.4 seconds\n",
      "85.74% complete\n"
     ]
    },
    {
     "name": "stderr",
     "output_type": "stream",
     "text": [
      "<ipython-input-6-a03576859728>:46: DtypeWarning: Columns (1,8) have mixed types. Specify dtype option on import or set low_memory=False.\n",
      "  unprocessed_csv_df = pd.read_csv(output_path_file, on_bad_lines='skip', converters={'content': pd.eval})\n",
      "<ipython-input-6-a03576859728>:42: DtypeWarning: Columns (1,8) have mixed types. Specify dtype option on import or set low_memory=False.\n",
      "  unprocessed_csv_df = pd.read_csv(output_path_file, converters={'content': pd.eval})\n"
     ]
    },
    {
     "name": "stdout",
     "output_type": "stream",
     "text": [
      "Processing links file links_to_be_processed/Wooseong/links_spain_lasprovincias.csv\n",
      "159 / 160 text retrieved\n",
      "Batch of data of row range 199040-199200 complete in 37.91 seconds\n",
      "85.81% complete\n"
     ]
    },
    {
     "name": "stderr",
     "output_type": "stream",
     "text": [
      "<ipython-input-6-a03576859728>:46: DtypeWarning: Columns (1,8) have mixed types. Specify dtype option on import or set low_memory=False.\n",
      "  unprocessed_csv_df = pd.read_csv(output_path_file, on_bad_lines='skip', converters={'content': pd.eval})\n",
      "<ipython-input-6-a03576859728>:42: DtypeWarning: Columns (1,8) have mixed types. Specify dtype option on import or set low_memory=False.\n",
      "  unprocessed_csv_df = pd.read_csv(output_path_file, converters={'content': pd.eval})\n"
     ]
    },
    {
     "name": "stdout",
     "output_type": "stream",
     "text": [
      "Processing links file links_to_be_processed/Wooseong/links_spain_lasprovincias.csv\n",
      "159 / 160 text retrieved\n",
      "Batch of data of row range 199200-199360 complete in 34.33 seconds\n",
      "85.88% complete\n"
     ]
    },
    {
     "name": "stderr",
     "output_type": "stream",
     "text": [
      "<ipython-input-6-a03576859728>:46: DtypeWarning: Columns (1,8) have mixed types. Specify dtype option on import or set low_memory=False.\n",
      "  unprocessed_csv_df = pd.read_csv(output_path_file, on_bad_lines='skip', converters={'content': pd.eval})\n",
      "<ipython-input-6-a03576859728>:42: DtypeWarning: Columns (1,8) have mixed types. Specify dtype option on import or set low_memory=False.\n",
      "  unprocessed_csv_df = pd.read_csv(output_path_file, converters={'content': pd.eval})\n"
     ]
    },
    {
     "name": "stdout",
     "output_type": "stream",
     "text": [
      "Processing links file links_to_be_processed/Wooseong/links_spain_lasprovincias.csv\n",
      "153 / 160 text retrieved\n",
      "Batch of data of row range 199360-199520 complete in 34.48 seconds\n",
      "85.95% complete\n"
     ]
    },
    {
     "name": "stderr",
     "output_type": "stream",
     "text": [
      "<ipython-input-6-a03576859728>:46: DtypeWarning: Columns (1,8) have mixed types. Specify dtype option on import or set low_memory=False.\n",
      "  unprocessed_csv_df = pd.read_csv(output_path_file, on_bad_lines='skip', converters={'content': pd.eval})\n",
      "<ipython-input-6-a03576859728>:42: DtypeWarning: Columns (1,8) have mixed types. Specify dtype option on import or set low_memory=False.\n",
      "  unprocessed_csv_df = pd.read_csv(output_path_file, converters={'content': pd.eval})\n"
     ]
    },
    {
     "name": "stdout",
     "output_type": "stream",
     "text": [
      "Processing links file links_to_be_processed/Wooseong/links_spain_lasprovincias.csv\n",
      "158 / 160 text retrieved\n",
      "Batch of data of row range 199520-199680 complete in 34.18 seconds\n",
      "86.02% complete\n"
     ]
    },
    {
     "name": "stderr",
     "output_type": "stream",
     "text": [
      "<ipython-input-6-a03576859728>:46: DtypeWarning: Columns (1,8) have mixed types. Specify dtype option on import or set low_memory=False.\n",
      "  unprocessed_csv_df = pd.read_csv(output_path_file, on_bad_lines='skip', converters={'content': pd.eval})\n",
      "<ipython-input-6-a03576859728>:42: DtypeWarning: Columns (1,8) have mixed types. Specify dtype option on import or set low_memory=False.\n",
      "  unprocessed_csv_df = pd.read_csv(output_path_file, converters={'content': pd.eval})\n"
     ]
    },
    {
     "name": "stdout",
     "output_type": "stream",
     "text": [
      "Processing links file links_to_be_processed/Wooseong/links_spain_lasprovincias.csv\n",
      "158 / 160 text retrieved\n",
      "Batch of data of row range 199680-199840 complete in 36.63 seconds\n",
      "86.09% complete\n"
     ]
    },
    {
     "name": "stderr",
     "output_type": "stream",
     "text": [
      "<ipython-input-6-a03576859728>:46: DtypeWarning: Columns (1,8) have mixed types. Specify dtype option on import or set low_memory=False.\n",
      "  unprocessed_csv_df = pd.read_csv(output_path_file, on_bad_lines='skip', converters={'content': pd.eval})\n",
      "<ipython-input-6-a03576859728>:42: DtypeWarning: Columns (1,8) have mixed types. Specify dtype option on import or set low_memory=False.\n",
      "  unprocessed_csv_df = pd.read_csv(output_path_file, converters={'content': pd.eval})\n"
     ]
    },
    {
     "name": "stdout",
     "output_type": "stream",
     "text": [
      "Processing links file links_to_be_processed/Wooseong/links_spain_lasprovincias.csv\n",
      "157 / 160 text retrieved\n",
      "Batch of data of row range 199840-200000 complete in 34.1 seconds\n",
      "86.15% complete\n"
     ]
    },
    {
     "name": "stderr",
     "output_type": "stream",
     "text": [
      "<ipython-input-6-a03576859728>:46: DtypeWarning: Columns (1,8) have mixed types. Specify dtype option on import or set low_memory=False.\n",
      "  unprocessed_csv_df = pd.read_csv(output_path_file, on_bad_lines='skip', converters={'content': pd.eval})\n",
      "<ipython-input-6-a03576859728>:42: DtypeWarning: Columns (1,8) have mixed types. Specify dtype option on import or set low_memory=False.\n",
      "  unprocessed_csv_df = pd.read_csv(output_path_file, converters={'content': pd.eval})\n"
     ]
    },
    {
     "name": "stdout",
     "output_type": "stream",
     "text": [
      "Processing links file links_to_be_processed/Wooseong/links_spain_lasprovincias.csv\n",
      "155 / 160 text retrieved\n",
      "Batch of data of row range 200000-200160 complete in 34.58 seconds\n",
      "86.22% complete\n"
     ]
    },
    {
     "name": "stderr",
     "output_type": "stream",
     "text": [
      "<ipython-input-6-a03576859728>:46: DtypeWarning: Columns (1,8) have mixed types. Specify dtype option on import or set low_memory=False.\n",
      "  unprocessed_csv_df = pd.read_csv(output_path_file, on_bad_lines='skip', converters={'content': pd.eval})\n",
      "<ipython-input-6-a03576859728>:42: DtypeWarning: Columns (1,8) have mixed types. Specify dtype option on import or set low_memory=False.\n",
      "  unprocessed_csv_df = pd.read_csv(output_path_file, converters={'content': pd.eval})\n"
     ]
    },
    {
     "name": "stdout",
     "output_type": "stream",
     "text": [
      "Processing links file links_to_be_processed/Wooseong/links_spain_lasprovincias.csv\n",
      "156 / 160 text retrieved\n",
      "Batch of data of row range 200160-200320 complete in 34.01 seconds\n",
      "86.29% complete\n"
     ]
    },
    {
     "name": "stderr",
     "output_type": "stream",
     "text": [
      "<ipython-input-6-a03576859728>:46: DtypeWarning: Columns (1,8) have mixed types. Specify dtype option on import or set low_memory=False.\n",
      "  unprocessed_csv_df = pd.read_csv(output_path_file, on_bad_lines='skip', converters={'content': pd.eval})\n",
      "<ipython-input-6-a03576859728>:42: DtypeWarning: Columns (1,8) have mixed types. Specify dtype option on import or set low_memory=False.\n",
      "  unprocessed_csv_df = pd.read_csv(output_path_file, converters={'content': pd.eval})\n"
     ]
    },
    {
     "name": "stdout",
     "output_type": "stream",
     "text": [
      "Processing links file links_to_be_processed/Wooseong/links_spain_lasprovincias.csv\n",
      "158 / 160 text retrieved\n",
      "Batch of data of row range 200320-200480 complete in 34.23 seconds\n",
      "86.36% complete\n"
     ]
    },
    {
     "name": "stderr",
     "output_type": "stream",
     "text": [
      "<ipython-input-6-a03576859728>:46: DtypeWarning: Columns (1,8) have mixed types. Specify dtype option on import or set low_memory=False.\n",
      "  unprocessed_csv_df = pd.read_csv(output_path_file, on_bad_lines='skip', converters={'content': pd.eval})\n",
      "<ipython-input-6-a03576859728>:42: DtypeWarning: Columns (1,8) have mixed types. Specify dtype option on import or set low_memory=False.\n",
      "  unprocessed_csv_df = pd.read_csv(output_path_file, converters={'content': pd.eval})\n"
     ]
    },
    {
     "name": "stdout",
     "output_type": "stream",
     "text": [
      "Processing links file links_to_be_processed/Wooseong/links_spain_lasprovincias.csv\n",
      "159 / 160 text retrieved\n",
      "Batch of data of row range 200480-200640 complete in 34.61 seconds\n",
      "86.43% complete\n"
     ]
    },
    {
     "name": "stderr",
     "output_type": "stream",
     "text": [
      "<ipython-input-6-a03576859728>:46: DtypeWarning: Columns (1,8) have mixed types. Specify dtype option on import or set low_memory=False.\n",
      "  unprocessed_csv_df = pd.read_csv(output_path_file, on_bad_lines='skip', converters={'content': pd.eval})\n",
      "<ipython-input-6-a03576859728>:42: DtypeWarning: Columns (1,8) have mixed types. Specify dtype option on import or set low_memory=False.\n",
      "  unprocessed_csv_df = pd.read_csv(output_path_file, converters={'content': pd.eval})\n"
     ]
    },
    {
     "name": "stdout",
     "output_type": "stream",
     "text": [
      "Processing links file links_to_be_processed/Wooseong/links_spain_lasprovincias.csv\n",
      "158 / 160 text retrieved\n",
      "Batch of data of row range 200640-200800 complete in 64.15 seconds\n",
      "86.5% complete\n"
     ]
    },
    {
     "name": "stderr",
     "output_type": "stream",
     "text": [
      "<ipython-input-6-a03576859728>:46: DtypeWarning: Columns (1,8) have mixed types. Specify dtype option on import or set low_memory=False.\n",
      "  unprocessed_csv_df = pd.read_csv(output_path_file, on_bad_lines='skip', converters={'content': pd.eval})\n",
      "<ipython-input-6-a03576859728>:42: DtypeWarning: Columns (1,8) have mixed types. Specify dtype option on import or set low_memory=False.\n",
      "  unprocessed_csv_df = pd.read_csv(output_path_file, converters={'content': pd.eval})\n"
     ]
    },
    {
     "name": "stdout",
     "output_type": "stream",
     "text": [
      "Processing links file links_to_be_processed/Wooseong/links_spain_lasprovincias.csv\n",
      "154 / 160 text retrieved\n",
      "Batch of data of row range 200800-200960 complete in 34.77 seconds\n",
      "86.57% complete\n"
     ]
    },
    {
     "name": "stderr",
     "output_type": "stream",
     "text": [
      "<ipython-input-6-a03576859728>:46: DtypeWarning: Columns (1,8) have mixed types. Specify dtype option on import or set low_memory=False.\n",
      "  unprocessed_csv_df = pd.read_csv(output_path_file, on_bad_lines='skip', converters={'content': pd.eval})\n",
      "<ipython-input-6-a03576859728>:42: DtypeWarning: Columns (1,8) have mixed types. Specify dtype option on import or set low_memory=False.\n",
      "  unprocessed_csv_df = pd.read_csv(output_path_file, converters={'content': pd.eval})\n"
     ]
    },
    {
     "name": "stdout",
     "output_type": "stream",
     "text": [
      "Processing links file links_to_be_processed/Wooseong/links_spain_lasprovincias.csv\n",
      "150 / 160 text retrieved\n",
      "Batch of data of row range 200960-201120 complete in 35.88 seconds\n",
      "86.64% complete\n"
     ]
    },
    {
     "name": "stderr",
     "output_type": "stream",
     "text": [
      "<ipython-input-6-a03576859728>:46: DtypeWarning: Columns (1,8) have mixed types. Specify dtype option on import or set low_memory=False.\n",
      "  unprocessed_csv_df = pd.read_csv(output_path_file, on_bad_lines='skip', converters={'content': pd.eval})\n",
      "<ipython-input-6-a03576859728>:42: DtypeWarning: Columns (1,8) have mixed types. Specify dtype option on import or set low_memory=False.\n",
      "  unprocessed_csv_df = pd.read_csv(output_path_file, converters={'content': pd.eval})\n"
     ]
    },
    {
     "name": "stdout",
     "output_type": "stream",
     "text": [
      "Processing links file links_to_be_processed/Wooseong/links_spain_lasprovincias.csv\n",
      "155 / 160 text retrieved\n",
      "Batch of data of row range 201120-201280 complete in 39.61 seconds\n",
      "86.71% complete\n"
     ]
    },
    {
     "name": "stderr",
     "output_type": "stream",
     "text": [
      "<ipython-input-6-a03576859728>:46: DtypeWarning: Columns (1,8) have mixed types. Specify dtype option on import or set low_memory=False.\n",
      "  unprocessed_csv_df = pd.read_csv(output_path_file, on_bad_lines='skip', converters={'content': pd.eval})\n",
      "<ipython-input-6-a03576859728>:42: DtypeWarning: Columns (1,8) have mixed types. Specify dtype option on import or set low_memory=False.\n",
      "  unprocessed_csv_df = pd.read_csv(output_path_file, converters={'content': pd.eval})\n"
     ]
    },
    {
     "name": "stdout",
     "output_type": "stream",
     "text": [
      "Processing links file links_to_be_processed/Wooseong/links_spain_lasprovincias.csv\n",
      "149 / 160 text retrieved\n",
      "Batch of data of row range 201280-201440 complete in 34.21 seconds\n",
      "86.77% complete\n"
     ]
    },
    {
     "name": "stderr",
     "output_type": "stream",
     "text": [
      "<ipython-input-6-a03576859728>:46: DtypeWarning: Columns (1,8) have mixed types. Specify dtype option on import or set low_memory=False.\n",
      "  unprocessed_csv_df = pd.read_csv(output_path_file, on_bad_lines='skip', converters={'content': pd.eval})\n",
      "<ipython-input-6-a03576859728>:42: DtypeWarning: Columns (1,8) have mixed types. Specify dtype option on import or set low_memory=False.\n",
      "  unprocessed_csv_df = pd.read_csv(output_path_file, converters={'content': pd.eval})\n"
     ]
    },
    {
     "name": "stdout",
     "output_type": "stream",
     "text": [
      "Processing links file links_to_be_processed/Wooseong/links_spain_lasprovincias.csv\n",
      "156 / 160 text retrieved\n",
      "Batch of data of row range 201440-201600 complete in 34.67 seconds\n",
      "86.84% complete\n"
     ]
    },
    {
     "name": "stderr",
     "output_type": "stream",
     "text": [
      "<ipython-input-6-a03576859728>:46: DtypeWarning: Columns (1,8) have mixed types. Specify dtype option on import or set low_memory=False.\n",
      "  unprocessed_csv_df = pd.read_csv(output_path_file, on_bad_lines='skip', converters={'content': pd.eval})\n",
      "<ipython-input-6-a03576859728>:42: DtypeWarning: Columns (1,8) have mixed types. Specify dtype option on import or set low_memory=False.\n",
      "  unprocessed_csv_df = pd.read_csv(output_path_file, converters={'content': pd.eval})\n"
     ]
    },
    {
     "name": "stdout",
     "output_type": "stream",
     "text": [
      "Processing links file links_to_be_processed/Wooseong/links_spain_lasprovincias.csv\n",
      "158 / 160 text retrieved\n",
      "Batch of data of row range 201600-201760 complete in 34.51 seconds\n",
      "86.91% complete\n"
     ]
    },
    {
     "name": "stderr",
     "output_type": "stream",
     "text": [
      "<ipython-input-6-a03576859728>:46: DtypeWarning: Columns (1,8) have mixed types. Specify dtype option on import or set low_memory=False.\n",
      "  unprocessed_csv_df = pd.read_csv(output_path_file, on_bad_lines='skip', converters={'content': pd.eval})\n",
      "<ipython-input-6-a03576859728>:42: DtypeWarning: Columns (1,8) have mixed types. Specify dtype option on import or set low_memory=False.\n",
      "  unprocessed_csv_df = pd.read_csv(output_path_file, converters={'content': pd.eval})\n"
     ]
    },
    {
     "name": "stdout",
     "output_type": "stream",
     "text": [
      "Processing links file links_to_be_processed/Wooseong/links_spain_lasprovincias.csv\n",
      "155 / 160 text retrieved\n",
      "Batch of data of row range 201760-201920 complete in 43.94 seconds\n",
      "86.98% complete\n"
     ]
    },
    {
     "name": "stderr",
     "output_type": "stream",
     "text": [
      "<ipython-input-6-a03576859728>:46: DtypeWarning: Columns (1,8) have mixed types. Specify dtype option on import or set low_memory=False.\n",
      "  unprocessed_csv_df = pd.read_csv(output_path_file, on_bad_lines='skip', converters={'content': pd.eval})\n",
      "<ipython-input-6-a03576859728>:42: DtypeWarning: Columns (1,8) have mixed types. Specify dtype option on import or set low_memory=False.\n",
      "  unprocessed_csv_df = pd.read_csv(output_path_file, converters={'content': pd.eval})\n"
     ]
    },
    {
     "name": "stdout",
     "output_type": "stream",
     "text": [
      "Processing links file links_to_be_processed/Wooseong/links_spain_lasprovincias.csv\n",
      "158 / 160 text retrieved\n",
      "Batch of data of row range 201920-202080 complete in 39.47 seconds\n",
      "87.05% complete\n"
     ]
    },
    {
     "name": "stderr",
     "output_type": "stream",
     "text": [
      "<ipython-input-6-a03576859728>:46: DtypeWarning: Columns (1,8) have mixed types. Specify dtype option on import or set low_memory=False.\n",
      "  unprocessed_csv_df = pd.read_csv(output_path_file, on_bad_lines='skip', converters={'content': pd.eval})\n",
      "<ipython-input-6-a03576859728>:42: DtypeWarning: Columns (1,8) have mixed types. Specify dtype option on import or set low_memory=False.\n",
      "  unprocessed_csv_df = pd.read_csv(output_path_file, converters={'content': pd.eval})\n"
     ]
    },
    {
     "name": "stdout",
     "output_type": "stream",
     "text": [
      "Processing links file links_to_be_processed/Wooseong/links_spain_lasprovincias.csv\n",
      "157 / 160 text retrieved\n",
      "Batch of data of row range 202080-202240 complete in 34.31 seconds\n",
      "87.12% complete\n"
     ]
    },
    {
     "name": "stderr",
     "output_type": "stream",
     "text": [
      "<ipython-input-6-a03576859728>:46: DtypeWarning: Columns (1,8) have mixed types. Specify dtype option on import or set low_memory=False.\n",
      "  unprocessed_csv_df = pd.read_csv(output_path_file, on_bad_lines='skip', converters={'content': pd.eval})\n",
      "<ipython-input-6-a03576859728>:42: DtypeWarning: Columns (1,8) have mixed types. Specify dtype option on import or set low_memory=False.\n",
      "  unprocessed_csv_df = pd.read_csv(output_path_file, converters={'content': pd.eval})\n"
     ]
    },
    {
     "name": "stdout",
     "output_type": "stream",
     "text": [
      "Processing links file links_to_be_processed/Wooseong/links_spain_lasprovincias.csv\n",
      "158 / 160 text retrieved\n",
      "Batch of data of row range 202240-202400 complete in 34.46 seconds\n",
      "87.19% complete\n"
     ]
    },
    {
     "name": "stderr",
     "output_type": "stream",
     "text": [
      "<ipython-input-6-a03576859728>:46: DtypeWarning: Columns (1,8) have mixed types. Specify dtype option on import or set low_memory=False.\n",
      "  unprocessed_csv_df = pd.read_csv(output_path_file, on_bad_lines='skip', converters={'content': pd.eval})\n",
      "<ipython-input-6-a03576859728>:42: DtypeWarning: Columns (1,8) have mixed types. Specify dtype option on import or set low_memory=False.\n",
      "  unprocessed_csv_df = pd.read_csv(output_path_file, converters={'content': pd.eval})\n"
     ]
    },
    {
     "name": "stdout",
     "output_type": "stream",
     "text": [
      "Processing links file links_to_be_processed/Wooseong/links_spain_lasprovincias.csv\n",
      "158 / 160 text retrieved\n",
      "Batch of data of row range 202400-202560 complete in 34.53 seconds\n",
      "87.26% complete\n"
     ]
    },
    {
     "name": "stderr",
     "output_type": "stream",
     "text": [
      "<ipython-input-6-a03576859728>:46: DtypeWarning: Columns (1,8) have mixed types. Specify dtype option on import or set low_memory=False.\n",
      "  unprocessed_csv_df = pd.read_csv(output_path_file, on_bad_lines='skip', converters={'content': pd.eval})\n",
      "<ipython-input-6-a03576859728>:42: DtypeWarning: Columns (1,8) have mixed types. Specify dtype option on import or set low_memory=False.\n",
      "  unprocessed_csv_df = pd.read_csv(output_path_file, converters={'content': pd.eval})\n"
     ]
    },
    {
     "name": "stdout",
     "output_type": "stream",
     "text": [
      "Processing links file links_to_be_processed/Wooseong/links_spain_lasprovincias.csv\n",
      "159 / 160 text retrieved\n",
      "Batch of data of row range 202560-202720 complete in 39.3 seconds\n",
      "87.33% complete\n"
     ]
    },
    {
     "name": "stderr",
     "output_type": "stream",
     "text": [
      "<ipython-input-6-a03576859728>:46: DtypeWarning: Columns (1,8) have mixed types. Specify dtype option on import or set low_memory=False.\n",
      "  unprocessed_csv_df = pd.read_csv(output_path_file, on_bad_lines='skip', converters={'content': pd.eval})\n",
      "<ipython-input-6-a03576859728>:42: DtypeWarning: Columns (1,8) have mixed types. Specify dtype option on import or set low_memory=False.\n",
      "  unprocessed_csv_df = pd.read_csv(output_path_file, converters={'content': pd.eval})\n"
     ]
    },
    {
     "name": "stdout",
     "output_type": "stream",
     "text": [
      "Processing links file links_to_be_processed/Wooseong/links_spain_lasprovincias.csv\n",
      "156 / 160 text retrieved\n",
      "Batch of data of row range 202720-202880 complete in 39.9 seconds\n",
      "87.39% complete\n"
     ]
    },
    {
     "name": "stderr",
     "output_type": "stream",
     "text": [
      "<ipython-input-6-a03576859728>:46: DtypeWarning: Columns (1,8) have mixed types. Specify dtype option on import or set low_memory=False.\n",
      "  unprocessed_csv_df = pd.read_csv(output_path_file, on_bad_lines='skip', converters={'content': pd.eval})\n",
      "<ipython-input-6-a03576859728>:42: DtypeWarning: Columns (1,8) have mixed types. Specify dtype option on import or set low_memory=False.\n",
      "  unprocessed_csv_df = pd.read_csv(output_path_file, converters={'content': pd.eval})\n"
     ]
    },
    {
     "name": "stdout",
     "output_type": "stream",
     "text": [
      "Processing links file links_to_be_processed/Wooseong/links_spain_lasprovincias.csv\n",
      "157 / 160 text retrieved\n",
      "Batch of data of row range 202880-203040 complete in 35.6 seconds\n",
      "87.46% complete\n"
     ]
    },
    {
     "name": "stderr",
     "output_type": "stream",
     "text": [
      "<ipython-input-6-a03576859728>:46: DtypeWarning: Columns (1,8) have mixed types. Specify dtype option on import or set low_memory=False.\n",
      "  unprocessed_csv_df = pd.read_csv(output_path_file, on_bad_lines='skip', converters={'content': pd.eval})\n",
      "<ipython-input-6-a03576859728>:42: DtypeWarning: Columns (1,8) have mixed types. Specify dtype option on import or set low_memory=False.\n",
      "  unprocessed_csv_df = pd.read_csv(output_path_file, converters={'content': pd.eval})\n"
     ]
    },
    {
     "name": "stdout",
     "output_type": "stream",
     "text": [
      "Processing links file links_to_be_processed/Wooseong/links_spain_lasprovincias.csv\n",
      "151 / 160 text retrieved\n",
      "Batch of data of row range 203040-203200 complete in 41.05 seconds\n",
      "87.53% complete\n"
     ]
    },
    {
     "name": "stderr",
     "output_type": "stream",
     "text": [
      "<ipython-input-6-a03576859728>:46: DtypeWarning: Columns (1,8) have mixed types. Specify dtype option on import or set low_memory=False.\n",
      "  unprocessed_csv_df = pd.read_csv(output_path_file, on_bad_lines='skip', converters={'content': pd.eval})\n",
      "<ipython-input-6-a03576859728>:42: DtypeWarning: Columns (1,8) have mixed types. Specify dtype option on import or set low_memory=False.\n",
      "  unprocessed_csv_df = pd.read_csv(output_path_file, converters={'content': pd.eval})\n"
     ]
    },
    {
     "name": "stdout",
     "output_type": "stream",
     "text": [
      "Processing links file links_to_be_processed/Wooseong/links_spain_lasprovincias.csv\n",
      "150 / 160 text retrieved\n",
      "Batch of data of row range 203200-203360 complete in 34.31 seconds\n",
      "87.6% complete\n"
     ]
    },
    {
     "name": "stderr",
     "output_type": "stream",
     "text": [
      "<ipython-input-6-a03576859728>:46: DtypeWarning: Columns (1,8) have mixed types. Specify dtype option on import or set low_memory=False.\n",
      "  unprocessed_csv_df = pd.read_csv(output_path_file, on_bad_lines='skip', converters={'content': pd.eval})\n",
      "<ipython-input-6-a03576859728>:42: DtypeWarning: Columns (1,8) have mixed types. Specify dtype option on import or set low_memory=False.\n",
      "  unprocessed_csv_df = pd.read_csv(output_path_file, converters={'content': pd.eval})\n"
     ]
    },
    {
     "name": "stdout",
     "output_type": "stream",
     "text": [
      "Processing links file links_to_be_processed/Wooseong/links_spain_lasprovincias.csv\n",
      "157 / 160 text retrieved\n",
      "Batch of data of row range 203360-203520 complete in 35.3 seconds\n",
      "87.67% complete\n"
     ]
    },
    {
     "name": "stderr",
     "output_type": "stream",
     "text": [
      "<ipython-input-6-a03576859728>:46: DtypeWarning: Columns (1,8) have mixed types. Specify dtype option on import or set low_memory=False.\n",
      "  unprocessed_csv_df = pd.read_csv(output_path_file, on_bad_lines='skip', converters={'content': pd.eval})\n",
      "<ipython-input-6-a03576859728>:42: DtypeWarning: Columns (1,8) have mixed types. Specify dtype option on import or set low_memory=False.\n",
      "  unprocessed_csv_df = pd.read_csv(output_path_file, converters={'content': pd.eval})\n"
     ]
    },
    {
     "name": "stdout",
     "output_type": "stream",
     "text": [
      "Processing links file links_to_be_processed/Wooseong/links_spain_lasprovincias.csv\n",
      "157 / 160 text retrieved\n",
      "Batch of data of row range 203520-203680 complete in 40.23 seconds\n",
      "87.74% complete\n"
     ]
    },
    {
     "name": "stderr",
     "output_type": "stream",
     "text": [
      "<ipython-input-6-a03576859728>:46: DtypeWarning: Columns (1,8) have mixed types. Specify dtype option on import or set low_memory=False.\n",
      "  unprocessed_csv_df = pd.read_csv(output_path_file, on_bad_lines='skip', converters={'content': pd.eval})\n",
      "<ipython-input-6-a03576859728>:42: DtypeWarning: Columns (1,8) have mixed types. Specify dtype option on import or set low_memory=False.\n",
      "  unprocessed_csv_df = pd.read_csv(output_path_file, converters={'content': pd.eval})\n"
     ]
    },
    {
     "name": "stdout",
     "output_type": "stream",
     "text": [
      "Processing links file links_to_be_processed/Wooseong/links_spain_lasprovincias.csv\n",
      "155 / 160 text retrieved\n",
      "Batch of data of row range 203680-203840 complete in 39.9 seconds\n",
      "87.81% complete\n"
     ]
    },
    {
     "name": "stderr",
     "output_type": "stream",
     "text": [
      "<ipython-input-6-a03576859728>:46: DtypeWarning: Columns (1,8) have mixed types. Specify dtype option on import or set low_memory=False.\n",
      "  unprocessed_csv_df = pd.read_csv(output_path_file, on_bad_lines='skip', converters={'content': pd.eval})\n",
      "<ipython-input-6-a03576859728>:42: DtypeWarning: Columns (1,8) have mixed types. Specify dtype option on import or set low_memory=False.\n",
      "  unprocessed_csv_df = pd.read_csv(output_path_file, converters={'content': pd.eval})\n"
     ]
    },
    {
     "name": "stdout",
     "output_type": "stream",
     "text": [
      "Processing links file links_to_be_processed/Wooseong/links_spain_lasprovincias.csv\n",
      "158 / 160 text retrieved\n",
      "Batch of data of row range 203840-204000 complete in 35.43 seconds\n",
      "87.88% complete\n"
     ]
    },
    {
     "name": "stderr",
     "output_type": "stream",
     "text": [
      "<ipython-input-6-a03576859728>:46: DtypeWarning: Columns (1,8) have mixed types. Specify dtype option on import or set low_memory=False.\n",
      "  unprocessed_csv_df = pd.read_csv(output_path_file, on_bad_lines='skip', converters={'content': pd.eval})\n",
      "<ipython-input-6-a03576859728>:42: DtypeWarning: Columns (1,8) have mixed types. Specify dtype option on import or set low_memory=False.\n",
      "  unprocessed_csv_df = pd.read_csv(output_path_file, converters={'content': pd.eval})\n"
     ]
    },
    {
     "name": "stdout",
     "output_type": "stream",
     "text": [
      "Processing links file links_to_be_processed/Wooseong/links_spain_lasprovincias.csv\n",
      "157 / 160 text retrieved\n",
      "Batch of data of row range 204000-204160 complete in 34.73 seconds\n",
      "87.95% complete\n"
     ]
    },
    {
     "name": "stderr",
     "output_type": "stream",
     "text": [
      "<ipython-input-6-a03576859728>:46: DtypeWarning: Columns (1,8) have mixed types. Specify dtype option on import or set low_memory=False.\n",
      "  unprocessed_csv_df = pd.read_csv(output_path_file, on_bad_lines='skip', converters={'content': pd.eval})\n",
      "<ipython-input-6-a03576859728>:42: DtypeWarning: Columns (1,8) have mixed types. Specify dtype option on import or set low_memory=False.\n",
      "  unprocessed_csv_df = pd.read_csv(output_path_file, converters={'content': pd.eval})\n"
     ]
    },
    {
     "name": "stdout",
     "output_type": "stream",
     "text": [
      "Processing links file links_to_be_processed/Wooseong/links_spain_lasprovincias.csv\n",
      "157 / 160 text retrieved\n",
      "Batch of data of row range 204160-204320 complete in 42.27 seconds\n",
      "88.02% complete\n"
     ]
    },
    {
     "name": "stderr",
     "output_type": "stream",
     "text": [
      "<ipython-input-6-a03576859728>:46: DtypeWarning: Columns (1,8) have mixed types. Specify dtype option on import or set low_memory=False.\n",
      "  unprocessed_csv_df = pd.read_csv(output_path_file, on_bad_lines='skip', converters={'content': pd.eval})\n",
      "<ipython-input-6-a03576859728>:42: DtypeWarning: Columns (1,8) have mixed types. Specify dtype option on import or set low_memory=False.\n",
      "  unprocessed_csv_df = pd.read_csv(output_path_file, converters={'content': pd.eval})\n"
     ]
    },
    {
     "name": "stdout",
     "output_type": "stream",
     "text": [
      "Processing links file links_to_be_processed/Wooseong/links_spain_lasprovincias.csv\n",
      "157 / 160 text retrieved\n",
      "Batch of data of row range 204320-204480 complete in 35.02 seconds\n",
      "88.08% complete\n"
     ]
    },
    {
     "name": "stderr",
     "output_type": "stream",
     "text": [
      "<ipython-input-6-a03576859728>:46: DtypeWarning: Columns (1,8) have mixed types. Specify dtype option on import or set low_memory=False.\n",
      "  unprocessed_csv_df = pd.read_csv(output_path_file, on_bad_lines='skip', converters={'content': pd.eval})\n",
      "<ipython-input-6-a03576859728>:42: DtypeWarning: Columns (1,8) have mixed types. Specify dtype option on import or set low_memory=False.\n",
      "  unprocessed_csv_df = pd.read_csv(output_path_file, converters={'content': pd.eval})\n"
     ]
    },
    {
     "name": "stdout",
     "output_type": "stream",
     "text": [
      "Processing links file links_to_be_processed/Wooseong/links_spain_lasprovincias.csv\n",
      "157 / 160 text retrieved\n",
      "Batch of data of row range 204480-204640 complete in 34.77 seconds\n",
      "88.15% complete\n"
     ]
    },
    {
     "name": "stderr",
     "output_type": "stream",
     "text": [
      "<ipython-input-6-a03576859728>:46: DtypeWarning: Columns (1,8) have mixed types. Specify dtype option on import or set low_memory=False.\n",
      "  unprocessed_csv_df = pd.read_csv(output_path_file, on_bad_lines='skip', converters={'content': pd.eval})\n",
      "<ipython-input-6-a03576859728>:42: DtypeWarning: Columns (1,8) have mixed types. Specify dtype option on import or set low_memory=False.\n",
      "  unprocessed_csv_df = pd.read_csv(output_path_file, converters={'content': pd.eval})\n"
     ]
    },
    {
     "name": "stdout",
     "output_type": "stream",
     "text": [
      "Processing links file links_to_be_processed/Wooseong/links_spain_lasprovincias.csv\n",
      "155 / 160 text retrieved\n",
      "Batch of data of row range 204640-204800 complete in 34.33 seconds\n",
      "88.22% complete\n"
     ]
    },
    {
     "name": "stderr",
     "output_type": "stream",
     "text": [
      "<ipython-input-6-a03576859728>:46: DtypeWarning: Columns (1,8) have mixed types. Specify dtype option on import or set low_memory=False.\n",
      "  unprocessed_csv_df = pd.read_csv(output_path_file, on_bad_lines='skip', converters={'content': pd.eval})\n",
      "<ipython-input-6-a03576859728>:42: DtypeWarning: Columns (1,8) have mixed types. Specify dtype option on import or set low_memory=False.\n",
      "  unprocessed_csv_df = pd.read_csv(output_path_file, converters={'content': pd.eval})\n"
     ]
    },
    {
     "name": "stdout",
     "output_type": "stream",
     "text": [
      "Processing links file links_to_be_processed/Wooseong/links_spain_lasprovincias.csv\n",
      "155 / 160 text retrieved\n",
      "Batch of data of row range 204800-204960 complete in 36.1 seconds\n",
      "88.29% complete\n"
     ]
    },
    {
     "name": "stderr",
     "output_type": "stream",
     "text": [
      "<ipython-input-6-a03576859728>:46: DtypeWarning: Columns (1,8) have mixed types. Specify dtype option on import or set low_memory=False.\n",
      "  unprocessed_csv_df = pd.read_csv(output_path_file, on_bad_lines='skip', converters={'content': pd.eval})\n",
      "<ipython-input-6-a03576859728>:42: DtypeWarning: Columns (1,8) have mixed types. Specify dtype option on import or set low_memory=False.\n",
      "  unprocessed_csv_df = pd.read_csv(output_path_file, converters={'content': pd.eval})\n"
     ]
    },
    {
     "name": "stdout",
     "output_type": "stream",
     "text": [
      "Processing links file links_to_be_processed/Wooseong/links_spain_lasprovincias.csv\n",
      "154 / 160 text retrieved\n",
      "Batch of data of row range 204960-205120 complete in 36.04 seconds\n",
      "88.36% complete\n"
     ]
    },
    {
     "name": "stderr",
     "output_type": "stream",
     "text": [
      "<ipython-input-6-a03576859728>:46: DtypeWarning: Columns (1,8) have mixed types. Specify dtype option on import or set low_memory=False.\n",
      "  unprocessed_csv_df = pd.read_csv(output_path_file, on_bad_lines='skip', converters={'content': pd.eval})\n",
      "<ipython-input-6-a03576859728>:42: DtypeWarning: Columns (1,8) have mixed types. Specify dtype option on import or set low_memory=False.\n",
      "  unprocessed_csv_df = pd.read_csv(output_path_file, converters={'content': pd.eval})\n"
     ]
    },
    {
     "name": "stdout",
     "output_type": "stream",
     "text": [
      "Processing links file links_to_be_processed/Wooseong/links_spain_lasprovincias.csv\n",
      "160 / 160 text retrieved\n",
      "Batch of data of row range 205120-205280 complete in 34.64 seconds\n",
      "88.43% complete\n"
     ]
    },
    {
     "name": "stderr",
     "output_type": "stream",
     "text": [
      "<ipython-input-6-a03576859728>:46: DtypeWarning: Columns (1,8) have mixed types. Specify dtype option on import or set low_memory=False.\n",
      "  unprocessed_csv_df = pd.read_csv(output_path_file, on_bad_lines='skip', converters={'content': pd.eval})\n",
      "<ipython-input-6-a03576859728>:42: DtypeWarning: Columns (1,8) have mixed types. Specify dtype option on import or set low_memory=False.\n",
      "  unprocessed_csv_df = pd.read_csv(output_path_file, converters={'content': pd.eval})\n"
     ]
    },
    {
     "name": "stdout",
     "output_type": "stream",
     "text": [
      "Processing links file links_to_be_processed/Wooseong/links_spain_lasprovincias.csv\n",
      "158 / 160 text retrieved\n",
      "Batch of data of row range 205280-205440 complete in 35.11 seconds\n",
      "88.5% complete\n"
     ]
    },
    {
     "name": "stderr",
     "output_type": "stream",
     "text": [
      "<ipython-input-6-a03576859728>:46: DtypeWarning: Columns (1,8) have mixed types. Specify dtype option on import or set low_memory=False.\n",
      "  unprocessed_csv_df = pd.read_csv(output_path_file, on_bad_lines='skip', converters={'content': pd.eval})\n",
      "<ipython-input-6-a03576859728>:42: DtypeWarning: Columns (1,8) have mixed types. Specify dtype option on import or set low_memory=False.\n",
      "  unprocessed_csv_df = pd.read_csv(output_path_file, converters={'content': pd.eval})\n"
     ]
    },
    {
     "name": "stdout",
     "output_type": "stream",
     "text": [
      "Processing links file links_to_be_processed/Wooseong/links_spain_lasprovincias.csv\n",
      "154 / 160 text retrieved\n",
      "Batch of data of row range 205440-205600 complete in 34.61 seconds\n",
      "88.57% complete\n"
     ]
    },
    {
     "name": "stderr",
     "output_type": "stream",
     "text": [
      "<ipython-input-6-a03576859728>:46: DtypeWarning: Columns (1,8) have mixed types. Specify dtype option on import or set low_memory=False.\n",
      "  unprocessed_csv_df = pd.read_csv(output_path_file, on_bad_lines='skip', converters={'content': pd.eval})\n",
      "<ipython-input-6-a03576859728>:42: DtypeWarning: Columns (1,8) have mixed types. Specify dtype option on import or set low_memory=False.\n",
      "  unprocessed_csv_df = pd.read_csv(output_path_file, converters={'content': pd.eval})\n"
     ]
    },
    {
     "name": "stdout",
     "output_type": "stream",
     "text": [
      "Processing links file links_to_be_processed/Wooseong/links_spain_lasprovincias.csv\n",
      "151 / 160 text retrieved\n",
      "Batch of data of row range 205600-205760 complete in 34.51 seconds\n",
      "88.64% complete\n"
     ]
    },
    {
     "name": "stderr",
     "output_type": "stream",
     "text": [
      "<ipython-input-6-a03576859728>:46: DtypeWarning: Columns (1,8) have mixed types. Specify dtype option on import or set low_memory=False.\n",
      "  unprocessed_csv_df = pd.read_csv(output_path_file, on_bad_lines='skip', converters={'content': pd.eval})\n",
      "<ipython-input-6-a03576859728>:42: DtypeWarning: Columns (1,8) have mixed types. Specify dtype option on import or set low_memory=False.\n",
      "  unprocessed_csv_df = pd.read_csv(output_path_file, converters={'content': pd.eval})\n"
     ]
    },
    {
     "name": "stdout",
     "output_type": "stream",
     "text": [
      "Processing links file links_to_be_processed/Wooseong/links_spain_lasprovincias.csv\n",
      "154 / 160 text retrieved\n",
      "Batch of data of row range 205760-205920 complete in 33.39 seconds\n",
      "88.7% complete\n"
     ]
    },
    {
     "name": "stderr",
     "output_type": "stream",
     "text": [
      "<ipython-input-6-a03576859728>:46: DtypeWarning: Columns (1,8) have mixed types. Specify dtype option on import or set low_memory=False.\n",
      "  unprocessed_csv_df = pd.read_csv(output_path_file, on_bad_lines='skip', converters={'content': pd.eval})\n",
      "<ipython-input-6-a03576859728>:42: DtypeWarning: Columns (1,8) have mixed types. Specify dtype option on import or set low_memory=False.\n",
      "  unprocessed_csv_df = pd.read_csv(output_path_file, converters={'content': pd.eval})\n"
     ]
    },
    {
     "name": "stdout",
     "output_type": "stream",
     "text": [
      "Processing links file links_to_be_processed/Wooseong/links_spain_lasprovincias.csv\n",
      "153 / 160 text retrieved\n",
      "Batch of data of row range 205920-206080 complete in 33.18 seconds\n",
      "88.77% complete\n"
     ]
    },
    {
     "name": "stderr",
     "output_type": "stream",
     "text": [
      "<ipython-input-6-a03576859728>:46: DtypeWarning: Columns (1,8) have mixed types. Specify dtype option on import or set low_memory=False.\n",
      "  unprocessed_csv_df = pd.read_csv(output_path_file, on_bad_lines='skip', converters={'content': pd.eval})\n",
      "<ipython-input-6-a03576859728>:42: DtypeWarning: Columns (1,8) have mixed types. Specify dtype option on import or set low_memory=False.\n",
      "  unprocessed_csv_df = pd.read_csv(output_path_file, converters={'content': pd.eval})\n"
     ]
    },
    {
     "name": "stdout",
     "output_type": "stream",
     "text": [
      "Processing links file links_to_be_processed/Wooseong/links_spain_lasprovincias.csv\n",
      "158 / 160 text retrieved\n",
      "Batch of data of row range 206080-206240 complete in 33.83 seconds\n",
      "88.84% complete\n"
     ]
    },
    {
     "name": "stderr",
     "output_type": "stream",
     "text": [
      "<ipython-input-6-a03576859728>:46: DtypeWarning: Columns (1,8) have mixed types. Specify dtype option on import or set low_memory=False.\n",
      "  unprocessed_csv_df = pd.read_csv(output_path_file, on_bad_lines='skip', converters={'content': pd.eval})\n",
      "<ipython-input-6-a03576859728>:42: DtypeWarning: Columns (1,8) have mixed types. Specify dtype option on import or set low_memory=False.\n",
      "  unprocessed_csv_df = pd.read_csv(output_path_file, converters={'content': pd.eval})\n"
     ]
    },
    {
     "name": "stdout",
     "output_type": "stream",
     "text": [
      "Processing links file links_to_be_processed/Wooseong/links_spain_lasprovincias.csv\n",
      "153 / 160 text retrieved\n",
      "Batch of data of row range 206240-206400 complete in 33.54 seconds\n",
      "88.91% complete\n"
     ]
    },
    {
     "name": "stderr",
     "output_type": "stream",
     "text": [
      "<ipython-input-6-a03576859728>:46: DtypeWarning: Columns (1,8) have mixed types. Specify dtype option on import or set low_memory=False.\n",
      "  unprocessed_csv_df = pd.read_csv(output_path_file, on_bad_lines='skip', converters={'content': pd.eval})\n",
      "<ipython-input-6-a03576859728>:42: DtypeWarning: Columns (1,8) have mixed types. Specify dtype option on import or set low_memory=False.\n",
      "  unprocessed_csv_df = pd.read_csv(output_path_file, converters={'content': pd.eval})\n"
     ]
    },
    {
     "name": "stdout",
     "output_type": "stream",
     "text": [
      "Processing links file links_to_be_processed/Wooseong/links_spain_lasprovincias.csv\n",
      "157 / 160 text retrieved\n",
      "Batch of data of row range 206400-206560 complete in 33.06 seconds\n",
      "88.98% complete\n"
     ]
    },
    {
     "name": "stderr",
     "output_type": "stream",
     "text": [
      "<ipython-input-6-a03576859728>:46: DtypeWarning: Columns (1,8) have mixed types. Specify dtype option on import or set low_memory=False.\n",
      "  unprocessed_csv_df = pd.read_csv(output_path_file, on_bad_lines='skip', converters={'content': pd.eval})\n",
      "<ipython-input-6-a03576859728>:42: DtypeWarning: Columns (1,8) have mixed types. Specify dtype option on import or set low_memory=False.\n",
      "  unprocessed_csv_df = pd.read_csv(output_path_file, converters={'content': pd.eval})\n"
     ]
    },
    {
     "name": "stdout",
     "output_type": "stream",
     "text": [
      "Processing links file links_to_be_processed/Wooseong/links_spain_lasprovincias.csv\n",
      "157 / 160 text retrieved\n",
      "Batch of data of row range 206560-206720 complete in 38.42 seconds\n",
      "89.05% complete\n"
     ]
    },
    {
     "name": "stderr",
     "output_type": "stream",
     "text": [
      "<ipython-input-6-a03576859728>:46: DtypeWarning: Columns (1,8) have mixed types. Specify dtype option on import or set low_memory=False.\n",
      "  unprocessed_csv_df = pd.read_csv(output_path_file, on_bad_lines='skip', converters={'content': pd.eval})\n",
      "<ipython-input-6-a03576859728>:42: DtypeWarning: Columns (1,8) have mixed types. Specify dtype option on import or set low_memory=False.\n",
      "  unprocessed_csv_df = pd.read_csv(output_path_file, converters={'content': pd.eval})\n"
     ]
    },
    {
     "name": "stdout",
     "output_type": "stream",
     "text": [
      "Processing links file links_to_be_processed/Wooseong/links_spain_lasprovincias.csv\n",
      "150 / 160 text retrieved\n",
      "Batch of data of row range 206720-206880 complete in 33.85 seconds\n",
      "89.12% complete\n"
     ]
    },
    {
     "name": "stderr",
     "output_type": "stream",
     "text": [
      "<ipython-input-6-a03576859728>:46: DtypeWarning: Columns (1,8) have mixed types. Specify dtype option on import or set low_memory=False.\n",
      "  unprocessed_csv_df = pd.read_csv(output_path_file, on_bad_lines='skip', converters={'content': pd.eval})\n",
      "<ipython-input-6-a03576859728>:42: DtypeWarning: Columns (1,8) have mixed types. Specify dtype option on import or set low_memory=False.\n",
      "  unprocessed_csv_df = pd.read_csv(output_path_file, converters={'content': pd.eval})\n"
     ]
    },
    {
     "name": "stdout",
     "output_type": "stream",
     "text": [
      "Processing links file links_to_be_processed/Wooseong/links_spain_lasprovincias.csv\n",
      "156 / 160 text retrieved\n",
      "Batch of data of row range 206880-207040 complete in 33.39 seconds\n",
      "89.19% complete\n"
     ]
    },
    {
     "name": "stderr",
     "output_type": "stream",
     "text": [
      "<ipython-input-6-a03576859728>:46: DtypeWarning: Columns (1,8) have mixed types. Specify dtype option on import or set low_memory=False.\n",
      "  unprocessed_csv_df = pd.read_csv(output_path_file, on_bad_lines='skip', converters={'content': pd.eval})\n",
      "<ipython-input-6-a03576859728>:42: DtypeWarning: Columns (1,8) have mixed types. Specify dtype option on import or set low_memory=False.\n",
      "  unprocessed_csv_df = pd.read_csv(output_path_file, converters={'content': pd.eval})\n"
     ]
    },
    {
     "name": "stdout",
     "output_type": "stream",
     "text": [
      "Processing links file links_to_be_processed/Wooseong/links_spain_lasprovincias.csv\n",
      "153 / 160 text retrieved\n",
      "Batch of data of row range 207040-207200 complete in 33.9 seconds\n",
      "89.26% complete\n"
     ]
    },
    {
     "name": "stderr",
     "output_type": "stream",
     "text": [
      "<ipython-input-6-a03576859728>:46: DtypeWarning: Columns (1,8) have mixed types. Specify dtype option on import or set low_memory=False.\n",
      "  unprocessed_csv_df = pd.read_csv(output_path_file, on_bad_lines='skip', converters={'content': pd.eval})\n",
      "<ipython-input-6-a03576859728>:42: DtypeWarning: Columns (1,8) have mixed types. Specify dtype option on import or set low_memory=False.\n",
      "  unprocessed_csv_df = pd.read_csv(output_path_file, converters={'content': pd.eval})\n"
     ]
    },
    {
     "name": "stdout",
     "output_type": "stream",
     "text": [
      "Processing links file links_to_be_processed/Wooseong/links_spain_lasprovincias.csv\n",
      "159 / 160 text retrieved\n",
      "Batch of data of row range 207200-207360 complete in 33.71 seconds\n",
      "89.32% complete\n"
     ]
    },
    {
     "name": "stderr",
     "output_type": "stream",
     "text": [
      "<ipython-input-6-a03576859728>:46: DtypeWarning: Columns (1,8) have mixed types. Specify dtype option on import or set low_memory=False.\n",
      "  unprocessed_csv_df = pd.read_csv(output_path_file, on_bad_lines='skip', converters={'content': pd.eval})\n",
      "<ipython-input-6-a03576859728>:42: DtypeWarning: Columns (1,8) have mixed types. Specify dtype option on import or set low_memory=False.\n",
      "  unprocessed_csv_df = pd.read_csv(output_path_file, converters={'content': pd.eval})\n"
     ]
    },
    {
     "name": "stdout",
     "output_type": "stream",
     "text": [
      "Processing links file links_to_be_processed/Wooseong/links_spain_lasprovincias.csv\n",
      "154 / 160 text retrieved\n",
      "Batch of data of row range 207360-207520 complete in 33.39 seconds\n",
      "89.39% complete\n"
     ]
    },
    {
     "name": "stderr",
     "output_type": "stream",
     "text": [
      "<ipython-input-6-a03576859728>:46: DtypeWarning: Columns (1,8) have mixed types. Specify dtype option on import or set low_memory=False.\n",
      "  unprocessed_csv_df = pd.read_csv(output_path_file, on_bad_lines='skip', converters={'content': pd.eval})\n",
      "<ipython-input-6-a03576859728>:42: DtypeWarning: Columns (1,8) have mixed types. Specify dtype option on import or set low_memory=False.\n",
      "  unprocessed_csv_df = pd.read_csv(output_path_file, converters={'content': pd.eval})\n"
     ]
    },
    {
     "name": "stdout",
     "output_type": "stream",
     "text": [
      "Processing links file links_to_be_processed/Wooseong/links_spain_lasprovincias.csv\n",
      "152 / 160 text retrieved\n",
      "Batch of data of row range 207520-207680 complete in 33.83 seconds\n",
      "89.46% complete\n"
     ]
    },
    {
     "name": "stderr",
     "output_type": "stream",
     "text": [
      "<ipython-input-6-a03576859728>:46: DtypeWarning: Columns (1,8) have mixed types. Specify dtype option on import or set low_memory=False.\n",
      "  unprocessed_csv_df = pd.read_csv(output_path_file, on_bad_lines='skip', converters={'content': pd.eval})\n",
      "<ipython-input-6-a03576859728>:42: DtypeWarning: Columns (1,8) have mixed types. Specify dtype option on import or set low_memory=False.\n",
      "  unprocessed_csv_df = pd.read_csv(output_path_file, converters={'content': pd.eval})\n"
     ]
    },
    {
     "name": "stdout",
     "output_type": "stream",
     "text": [
      "Processing links file links_to_be_processed/Wooseong/links_spain_lasprovincias.csv\n",
      "153 / 160 text retrieved\n",
      "Batch of data of row range 207680-207840 complete in 36.32 seconds\n",
      "89.53% complete\n"
     ]
    },
    {
     "name": "stderr",
     "output_type": "stream",
     "text": [
      "<ipython-input-6-a03576859728>:46: DtypeWarning: Columns (1,8) have mixed types. Specify dtype option on import or set low_memory=False.\n",
      "  unprocessed_csv_df = pd.read_csv(output_path_file, on_bad_lines='skip', converters={'content': pd.eval})\n",
      "<ipython-input-6-a03576859728>:42: DtypeWarning: Columns (1,8) have mixed types. Specify dtype option on import or set low_memory=False.\n",
      "  unprocessed_csv_df = pd.read_csv(output_path_file, converters={'content': pd.eval})\n"
     ]
    },
    {
     "name": "stdout",
     "output_type": "stream",
     "text": [
      "Processing links file links_to_be_processed/Wooseong/links_spain_lasprovincias.csv\n",
      "157 / 160 text retrieved\n",
      "Batch of data of row range 207840-208000 complete in 33.27 seconds\n",
      "89.6% complete\n"
     ]
    },
    {
     "name": "stderr",
     "output_type": "stream",
     "text": [
      "<ipython-input-6-a03576859728>:46: DtypeWarning: Columns (1,8) have mixed types. Specify dtype option on import or set low_memory=False.\n",
      "  unprocessed_csv_df = pd.read_csv(output_path_file, on_bad_lines='skip', converters={'content': pd.eval})\n",
      "<ipython-input-6-a03576859728>:42: DtypeWarning: Columns (1,8) have mixed types. Specify dtype option on import or set low_memory=False.\n",
      "  unprocessed_csv_df = pd.read_csv(output_path_file, converters={'content': pd.eval})\n"
     ]
    },
    {
     "name": "stdout",
     "output_type": "stream",
     "text": [
      "Processing links file links_to_be_processed/Wooseong/links_spain_lasprovincias.csv\n",
      "158 / 160 text retrieved\n",
      "Batch of data of row range 208000-208160 complete in 34.33 seconds\n",
      "89.67% complete\n"
     ]
    },
    {
     "name": "stderr",
     "output_type": "stream",
     "text": [
      "<ipython-input-6-a03576859728>:46: DtypeWarning: Columns (1,8) have mixed types. Specify dtype option on import or set low_memory=False.\n",
      "  unprocessed_csv_df = pd.read_csv(output_path_file, on_bad_lines='skip', converters={'content': pd.eval})\n",
      "<ipython-input-6-a03576859728>:42: DtypeWarning: Columns (1,8) have mixed types. Specify dtype option on import or set low_memory=False.\n",
      "  unprocessed_csv_df = pd.read_csv(output_path_file, converters={'content': pd.eval})\n"
     ]
    },
    {
     "name": "stdout",
     "output_type": "stream",
     "text": [
      "Processing links file links_to_be_processed/Wooseong/links_spain_lasprovincias.csv\n",
      "155 / 160 text retrieved\n",
      "Batch of data of row range 208160-208320 complete in 36.73 seconds\n",
      "89.74% complete\n"
     ]
    },
    {
     "name": "stderr",
     "output_type": "stream",
     "text": [
      "<ipython-input-6-a03576859728>:46: DtypeWarning: Columns (1,8) have mixed types. Specify dtype option on import or set low_memory=False.\n",
      "  unprocessed_csv_df = pd.read_csv(output_path_file, on_bad_lines='skip', converters={'content': pd.eval})\n",
      "<ipython-input-6-a03576859728>:42: DtypeWarning: Columns (1,8) have mixed types. Specify dtype option on import or set low_memory=False.\n",
      "  unprocessed_csv_df = pd.read_csv(output_path_file, converters={'content': pd.eval})\n"
     ]
    },
    {
     "name": "stdout",
     "output_type": "stream",
     "text": [
      "Processing links file links_to_be_processed/Wooseong/links_spain_lasprovincias.csv\n",
      "152 / 160 text retrieved\n",
      "Batch of data of row range 208320-208480 complete in 34.89 seconds\n",
      "89.81% complete\n"
     ]
    },
    {
     "name": "stderr",
     "output_type": "stream",
     "text": [
      "<ipython-input-6-a03576859728>:46: DtypeWarning: Columns (1,8) have mixed types. Specify dtype option on import or set low_memory=False.\n",
      "  unprocessed_csv_df = pd.read_csv(output_path_file, on_bad_lines='skip', converters={'content': pd.eval})\n",
      "<ipython-input-6-a03576859728>:42: DtypeWarning: Columns (1,8) have mixed types. Specify dtype option on import or set low_memory=False.\n",
      "  unprocessed_csv_df = pd.read_csv(output_path_file, converters={'content': pd.eval})\n"
     ]
    },
    {
     "name": "stdout",
     "output_type": "stream",
     "text": [
      "Processing links file links_to_be_processed/Wooseong/links_spain_lasprovincias.csv\n",
      "154 / 160 text retrieved\n",
      "Batch of data of row range 208480-208640 complete in 33.33 seconds\n",
      "89.88% complete\n"
     ]
    },
    {
     "name": "stderr",
     "output_type": "stream",
     "text": [
      "<ipython-input-6-a03576859728>:46: DtypeWarning: Columns (1,8) have mixed types. Specify dtype option on import or set low_memory=False.\n",
      "  unprocessed_csv_df = pd.read_csv(output_path_file, on_bad_lines='skip', converters={'content': pd.eval})\n",
      "<ipython-input-6-a03576859728>:42: DtypeWarning: Columns (1,8) have mixed types. Specify dtype option on import or set low_memory=False.\n",
      "  unprocessed_csv_df = pd.read_csv(output_path_file, converters={'content': pd.eval})\n"
     ]
    },
    {
     "name": "stdout",
     "output_type": "stream",
     "text": [
      "Processing links file links_to_be_processed/Wooseong/links_spain_lasprovincias.csv\n",
      "157 / 160 text retrieved\n",
      "Batch of data of row range 208640-208800 complete in 33.56 seconds\n",
      "89.94% complete\n"
     ]
    },
    {
     "name": "stderr",
     "output_type": "stream",
     "text": [
      "<ipython-input-6-a03576859728>:46: DtypeWarning: Columns (1,8) have mixed types. Specify dtype option on import or set low_memory=False.\n",
      "  unprocessed_csv_df = pd.read_csv(output_path_file, on_bad_lines='skip', converters={'content': pd.eval})\n",
      "<ipython-input-6-a03576859728>:42: DtypeWarning: Columns (1,8) have mixed types. Specify dtype option on import or set low_memory=False.\n",
      "  unprocessed_csv_df = pd.read_csv(output_path_file, converters={'content': pd.eval})\n"
     ]
    },
    {
     "name": "stdout",
     "output_type": "stream",
     "text": [
      "Processing links file links_to_be_processed/Wooseong/links_spain_lasprovincias.csv\n",
      "155 / 160 text retrieved\n",
      "Batch of data of row range 208800-208960 complete in 33.68 seconds\n",
      "90.01% complete\n"
     ]
    },
    {
     "name": "stderr",
     "output_type": "stream",
     "text": [
      "<ipython-input-6-a03576859728>:46: DtypeWarning: Columns (1,8) have mixed types. Specify dtype option on import or set low_memory=False.\n",
      "  unprocessed_csv_df = pd.read_csv(output_path_file, on_bad_lines='skip', converters={'content': pd.eval})\n",
      "<ipython-input-6-a03576859728>:42: DtypeWarning: Columns (1,8) have mixed types. Specify dtype option on import or set low_memory=False.\n",
      "  unprocessed_csv_df = pd.read_csv(output_path_file, converters={'content': pd.eval})\n"
     ]
    },
    {
     "name": "stdout",
     "output_type": "stream",
     "text": [
      "Processing links file links_to_be_processed/Wooseong/links_spain_lasprovincias.csv\n",
      "154 / 160 text retrieved\n",
      "Batch of data of row range 208960-209120 complete in 34.78 seconds\n",
      "90.08% complete\n"
     ]
    },
    {
     "name": "stderr",
     "output_type": "stream",
     "text": [
      "<ipython-input-6-a03576859728>:46: DtypeWarning: Columns (1,8) have mixed types. Specify dtype option on import or set low_memory=False.\n",
      "  unprocessed_csv_df = pd.read_csv(output_path_file, on_bad_lines='skip', converters={'content': pd.eval})\n",
      "<ipython-input-6-a03576859728>:42: DtypeWarning: Columns (1,8) have mixed types. Specify dtype option on import or set low_memory=False.\n",
      "  unprocessed_csv_df = pd.read_csv(output_path_file, converters={'content': pd.eval})\n"
     ]
    },
    {
     "name": "stdout",
     "output_type": "stream",
     "text": [
      "Processing links file links_to_be_processed/Wooseong/links_spain_lasprovincias.csv\n",
      "154 / 160 text retrieved\n",
      "Batch of data of row range 209120-209280 complete in 33.67 seconds\n",
      "90.15% complete\n"
     ]
    },
    {
     "name": "stderr",
     "output_type": "stream",
     "text": [
      "<ipython-input-6-a03576859728>:46: DtypeWarning: Columns (1,8) have mixed types. Specify dtype option on import or set low_memory=False.\n",
      "  unprocessed_csv_df = pd.read_csv(output_path_file, on_bad_lines='skip', converters={'content': pd.eval})\n",
      "<ipython-input-6-a03576859728>:42: DtypeWarning: Columns (1,8) have mixed types. Specify dtype option on import or set low_memory=False.\n",
      "  unprocessed_csv_df = pd.read_csv(output_path_file, converters={'content': pd.eval})\n"
     ]
    },
    {
     "name": "stdout",
     "output_type": "stream",
     "text": [
      "Processing links file links_to_be_processed/Wooseong/links_spain_lasprovincias.csv\n",
      "157 / 160 text retrieved\n",
      "Batch of data of row range 209280-209440 complete in 33.43 seconds\n",
      "90.22% complete\n"
     ]
    },
    {
     "name": "stderr",
     "output_type": "stream",
     "text": [
      "<ipython-input-6-a03576859728>:46: DtypeWarning: Columns (1,8) have mixed types. Specify dtype option on import or set low_memory=False.\n",
      "  unprocessed_csv_df = pd.read_csv(output_path_file, on_bad_lines='skip', converters={'content': pd.eval})\n",
      "<ipython-input-6-a03576859728>:42: DtypeWarning: Columns (1,8) have mixed types. Specify dtype option on import or set low_memory=False.\n",
      "  unprocessed_csv_df = pd.read_csv(output_path_file, converters={'content': pd.eval})\n"
     ]
    },
    {
     "name": "stdout",
     "output_type": "stream",
     "text": [
      "Processing links file links_to_be_processed/Wooseong/links_spain_lasprovincias.csv\n",
      "158 / 160 text retrieved\n",
      "Batch of data of row range 209440-209600 complete in 33.59 seconds\n",
      "90.29% complete\n"
     ]
    },
    {
     "name": "stderr",
     "output_type": "stream",
     "text": [
      "<ipython-input-6-a03576859728>:46: DtypeWarning: Columns (1,8) have mixed types. Specify dtype option on import or set low_memory=False.\n",
      "  unprocessed_csv_df = pd.read_csv(output_path_file, on_bad_lines='skip', converters={'content': pd.eval})\n",
      "<ipython-input-6-a03576859728>:42: DtypeWarning: Columns (1,8) have mixed types. Specify dtype option on import or set low_memory=False.\n",
      "  unprocessed_csv_df = pd.read_csv(output_path_file, converters={'content': pd.eval})\n"
     ]
    },
    {
     "name": "stdout",
     "output_type": "stream",
     "text": [
      "Processing links file links_to_be_processed/Wooseong/links_spain_lasprovincias.csv\n",
      "157 / 160 text retrieved\n",
      "Batch of data of row range 209600-209760 complete in 33.72 seconds\n",
      "90.36% complete\n"
     ]
    },
    {
     "name": "stderr",
     "output_type": "stream",
     "text": [
      "<ipython-input-6-a03576859728>:46: DtypeWarning: Columns (1,8) have mixed types. Specify dtype option on import or set low_memory=False.\n",
      "  unprocessed_csv_df = pd.read_csv(output_path_file, on_bad_lines='skip', converters={'content': pd.eval})\n",
      "<ipython-input-6-a03576859728>:42: DtypeWarning: Columns (1,8) have mixed types. Specify dtype option on import or set low_memory=False.\n",
      "  unprocessed_csv_df = pd.read_csv(output_path_file, converters={'content': pd.eval})\n"
     ]
    },
    {
     "name": "stdout",
     "output_type": "stream",
     "text": [
      "Processing links file links_to_be_processed/Wooseong/links_spain_lasprovincias.csv\n",
      "157 / 160 text retrieved\n",
      "Batch of data of row range 209760-209920 complete in 34.07 seconds\n",
      "90.43% complete\n"
     ]
    },
    {
     "name": "stderr",
     "output_type": "stream",
     "text": [
      "<ipython-input-6-a03576859728>:46: DtypeWarning: Columns (1,8) have mixed types. Specify dtype option on import or set low_memory=False.\n",
      "  unprocessed_csv_df = pd.read_csv(output_path_file, on_bad_lines='skip', converters={'content': pd.eval})\n",
      "<ipython-input-6-a03576859728>:42: DtypeWarning: Columns (1,8) have mixed types. Specify dtype option on import or set low_memory=False.\n",
      "  unprocessed_csv_df = pd.read_csv(output_path_file, converters={'content': pd.eval})\n"
     ]
    },
    {
     "name": "stdout",
     "output_type": "stream",
     "text": [
      "Processing links file links_to_be_processed/Wooseong/links_spain_lasprovincias.csv\n",
      "155 / 160 text retrieved\n",
      "Batch of data of row range 209920-210080 complete in 33.86 seconds\n",
      "90.5% complete\n"
     ]
    },
    {
     "name": "stderr",
     "output_type": "stream",
     "text": [
      "<ipython-input-6-a03576859728>:46: DtypeWarning: Columns (1,8) have mixed types. Specify dtype option on import or set low_memory=False.\n",
      "  unprocessed_csv_df = pd.read_csv(output_path_file, on_bad_lines='skip', converters={'content': pd.eval})\n",
      "<ipython-input-6-a03576859728>:42: DtypeWarning: Columns (1,8) have mixed types. Specify dtype option on import or set low_memory=False.\n",
      "  unprocessed_csv_df = pd.read_csv(output_path_file, converters={'content': pd.eval})\n"
     ]
    },
    {
     "name": "stdout",
     "output_type": "stream",
     "text": [
      "Processing links file links_to_be_processed/Wooseong/links_spain_lasprovincias.csv\n",
      "154 / 160 text retrieved\n",
      "Batch of data of row range 210080-210240 complete in 34.22 seconds\n",
      "90.57% complete\n"
     ]
    },
    {
     "name": "stderr",
     "output_type": "stream",
     "text": [
      "<ipython-input-6-a03576859728>:46: DtypeWarning: Columns (1,8) have mixed types. Specify dtype option on import or set low_memory=False.\n",
      "  unprocessed_csv_df = pd.read_csv(output_path_file, on_bad_lines='skip', converters={'content': pd.eval})\n",
      "<ipython-input-6-a03576859728>:42: DtypeWarning: Columns (1,8) have mixed types. Specify dtype option on import or set low_memory=False.\n",
      "  unprocessed_csv_df = pd.read_csv(output_path_file, converters={'content': pd.eval})\n"
     ]
    },
    {
     "name": "stdout",
     "output_type": "stream",
     "text": [
      "Processing links file links_to_be_processed/Wooseong/links_spain_lasprovincias.csv\n",
      "154 / 160 text retrieved\n",
      "Batch of data of row range 210240-210400 complete in 33.72 seconds\n",
      "90.63% complete\n"
     ]
    },
    {
     "name": "stderr",
     "output_type": "stream",
     "text": [
      "<ipython-input-6-a03576859728>:46: DtypeWarning: Columns (1,8) have mixed types. Specify dtype option on import or set low_memory=False.\n",
      "  unprocessed_csv_df = pd.read_csv(output_path_file, on_bad_lines='skip', converters={'content': pd.eval})\n",
      "<ipython-input-6-a03576859728>:42: DtypeWarning: Columns (1,8) have mixed types. Specify dtype option on import or set low_memory=False.\n",
      "  unprocessed_csv_df = pd.read_csv(output_path_file, converters={'content': pd.eval})\n"
     ]
    },
    {
     "name": "stdout",
     "output_type": "stream",
     "text": [
      "Processing links file links_to_be_processed/Wooseong/links_spain_lasprovincias.csv\n",
      "157 / 160 text retrieved\n",
      "Batch of data of row range 210400-210560 complete in 33.65 seconds\n",
      "90.7% complete\n"
     ]
    },
    {
     "name": "stderr",
     "output_type": "stream",
     "text": [
      "<ipython-input-6-a03576859728>:46: DtypeWarning: Columns (1,8) have mixed types. Specify dtype option on import or set low_memory=False.\n",
      "  unprocessed_csv_df = pd.read_csv(output_path_file, on_bad_lines='skip', converters={'content': pd.eval})\n"
     ]
    }
   ],
   "source": [
    "for filepath in filepaths: \n",
    "    root,owner,filename =  filepath.split('/')\n",
    "    filename = filename.replace('links_','')\n",
    "    \n",
    "    country, news_outlet = filename.replace(\".csv\",\"\").split(\"_\")\n",
    "    output_path = root+'/'+owner+'/results'\n",
    "    output_path_file = output_path + '/' + 'unprocessed_' + filename\n",
    "    final_output_file = output_path +  '/' + filename\n",
    "    \n",
    "    if not(os.path.exists(output_path)):\n",
    "        os.mkdir(output_path)\n",
    "        \n",
    "    df = pd.read_csv(filepath)\n",
    "    \n",
    "    start = 0\n",
    "    if filepath == \"links_to_be_processed/Wooseong/links_spain_lasprovincias.csv\":\n",
    "        start = 192640\n",
    "    else:\n",
    "        start = 0\n",
    "        \n",
    "    limit = 160\n",
    "    number_of_cores = 40\n",
    "    completed = 0\n",
    "    failed_to_retrieve_unprocessed = False\n",
    "    \n",
    "    res = []\n",
    "    while start < len(df):\n",
    "        start_time = time.time()\n",
    "        demo_df = df[start:start+limit].copy()\n",
    "        no_of_text_retrieved = 0\n",
    "        \n",
    "        test_df = parallelize_dataframe(demo_df, extract_text_from_df, number_of_cores)\n",
    "        no_of_text_retrieved = (test_df['text'] != '').sum()\n",
    "        \n",
    "            \n",
    "        test_df.to_csv(output_path_file, mode='a', header=not os.path.exists(output_path_file))\n",
    "        res.append(test_df)\n",
    "       \n",
    "        \n",
    "        if completed == 0 and start != 0:\n",
    "            try:\n",
    "                unprocessed_csv_df = pd.read_csv(output_path_file, converters={'content': pd.eval})\n",
    "                completed = unprocessed_csv_df['content'].map(lambda x: True if x[4] != '' else False).sum()\n",
    "            except:\n",
    "                try:\n",
    "                    unprocessed_csv_df = pd.read_csv(output_path_file, on_bad_lines='skip', converters={'content': pd.eval})\n",
    "                    completed = unprocessed_csv_df['content'].map(lambda x: True if x[4] != '' else False).sum()\n",
    "                except:\n",
    "                    failed_to_retrieve_unprocessed = True\n",
    "            \n",
    "        print(f'Processing links file {filepath}')\n",
    "        print(f'{no_of_text_retrieved} / {len(test_df)} text retrieved')\n",
    "        if not failed_to_retrieve_unprocessed:\n",
    "            completed += no_of_text_retrieved\n",
    "            print(f'Total text which has been successfully read till now - {round((((completed) / (start+limit))* 100), 2)}%')\n",
    "        \n",
    "        end_time = time.time()\n",
    "        \n",
    "        print(f'Batch of data of row range {start}-{start+limit} complete in {round(end_time-start_time, 2)} seconds')\n",
    "        \n",
    "        print(f'{round(min((((start+limit) / len(df)) * 100), 100), 2)}% complete')\n",
    "        start+=limit\n",
    "    \n",
    "    res_df = pd.concat(res)\n",
    "    if not(os.path.exists(final_output_file)):\n",
    "        res_df.to_csv(final_output_file) \n",
    "    else:\n",
    "        print(f\"{final_output_file} already exists. Did not create new csv\")\n"
   ]
  },
  {
   "cell_type": "code",
   "execution_count": null,
   "metadata": {},
   "outputs": [],
   "source": []
  }
 ],
 "metadata": {
  "kernelspec": {
   "display_name": "Python 3",
   "language": "python",
   "name": "python3"
  },
  "language_info": {
   "codemirror_mode": {
    "name": "ipython",
    "version": 3
   },
   "file_extension": ".py",
   "mimetype": "text/x-python",
   "name": "python",
   "nbconvert_exporter": "python",
   "pygments_lexer": "ipython3",
   "version": "3.8.2"
  }
 },
 "nbformat": 4,
 "nbformat_minor": 4
}
