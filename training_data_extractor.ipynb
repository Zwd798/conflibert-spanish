{
 "cells": [
  {
   "cell_type": "code",
   "execution_count": 10,
   "id": "f8d6b1e3",
   "metadata": {},
   "outputs": [],
   "source": [
    "import pandas as pd\n",
    "from langdetect import detect, DetectorFactory\n",
    "DetectorFactory.seed = 0"
   ]
  },
  {
   "cell_type": "code",
   "execution_count": 22,
   "id": "90525bef",
   "metadata": {},
   "outputs": [],
   "source": [
    "def get_conflict_training_data(filepath_tsv):\n",
    "    df = pd.read_csv(filepath_tsv, sep='\\t')\n",
    "    df['spanish'] = df.iloc[:,0].apply(lambda x: True if detect(x) == 'es' else False)\n",
    "    df = df[df.spanish]\n",
    "    df = df[df.iloc[:,1:23].any(axis=1)]\n",
    "    df = df.drop(columns=['spanish'])\n",
    "    return df\n"
   ]
  },
  {
   "cell_type": "code",
   "execution_count": 23,
   "id": "6d26e11b",
   "metadata": {},
   "outputs": [],
   "source": [
    "propagated_df = get_conflict_training_data(\"annotated_data_for_filter_training/propagated_InsightCrime.tsv\")  \n",
    "annotated_df = get_conflict_training_data(\"annotated_data_for_filter_training/annotated_InsightCrime.tsv\")"
   ]
  },
  {
   "cell_type": "code",
   "execution_count": 24,
   "id": "62050196",
   "metadata": {},
   "outputs": [],
   "source": [
    "df_complete = pd.concat([propagated_df, annotated_df], ignore_index=True)\n",
    "df_complete.to_csv(\"training_data.csv\")"
   ]
  }
 ],
 "metadata": {
  "kernelspec": {
   "display_name": "Python 3 (ipykernel)",
   "language": "python",
   "name": "python3"
  },
  "language_info": {
   "codemirror_mode": {
    "name": "ipython",
    "version": 3
   },
   "file_extension": ".py",
   "mimetype": "text/x-python",
   "name": "python",
   "nbconvert_exporter": "python",
   "pygments_lexer": "ipython3",
   "version": "3.9.13"
  }
 },
 "nbformat": 4,
 "nbformat_minor": 5
}
